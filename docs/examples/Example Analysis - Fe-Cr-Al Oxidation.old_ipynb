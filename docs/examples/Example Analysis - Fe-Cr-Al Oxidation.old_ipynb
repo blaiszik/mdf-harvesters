{
 "cells": [
  {
   "cell_type": "markdown",
   "metadata": {},
   "source": [
    "# Example Analysis\n",
    "\n",
    "### A high-throughput investigation of Fe–Cr–Al as a novel high-temperature coating for nuclear cladding materials\n",
    "\n",
    "<a href=\"http://www.dx.doi.org/10.1088/0957-4484/26/27/274003\">Article Link</a>\n",
    "\n",
    "\"Bunn, Jonathan Kenneth, Randy L. Fang, Mark R. Albing, Apurva Mehta, Matthew J. Kramer, Matthew F. Besser, and Jason R. Hattrick-Simpers. \"A high-throughput investigation of Fe–Cr–Al as a novel high-temperature coating for nuclear cladding materials.\" Nanotechnology 26, no. 27 (2015): 274003.\"\n",
    "\n",
    "\n",
    "Example: We want to plot some of the data from the above study using MDF.\n"
   ]
  },
  {
   "cell_type": "code",
   "execution_count": null,
   "metadata": {},
   "outputs": [],
   "source": [
    "from io import StringIO\n",
    "from multiprocessing.pool import Pool\n",
    "\n",
    "from mdf_forge.forge import Forge\n",
    "\n",
    "import matplotlib.pyplot as plt\n",
    "import numpy as np\n",
    "import pandas as pd\n",
    "import seaborn as sns\n",
    "\n",
    "%matplotlib inline\n",
    "sns.set_context('poster')\n",
    "sns.set_style('white')"
   ]
  },
  {
   "cell_type": "markdown",
   "metadata": {},
   "source": [
    "## Retrieve Records"
   ]
  },
  {
   "cell_type": "code",
   "execution_count": null,
   "metadata": {},
   "outputs": [],
   "source": [
    "mdf = Forge()\n",
    "res = mdf.match_field(\"mdf.source_name\",\"fe_cr_al_oxidation\").match_field(\"mdf.resource_type\", \"record\").search()\n",
    "print(\"Found {results} matches\".format(results=len(res)))"
   ]
  },
  {
   "cell_type": "code",
   "execution_count": null,
   "metadata": {},
   "outputs": [],
   "source": [
    "res[0]"
   ]
  },
  {
   "cell_type": "markdown",
   "metadata": {},
   "source": [
    "## Download data using HTTP"
   ]
  },
  {
   "cell_type": "code",
   "execution_count": null,
   "metadata": {},
   "outputs": [],
   "source": [
    "def format_get_cr_al_params(d):\n",
    "    tmp_d = {}\n",
    "    for key in d['atomic_composition_percent']:\n",
    "        tmp_d[key] = float(d['atomic_composition_percent'][key])\n",
    "    tmp_d['temperature_k'] = float(d['temperature_k']) if d['temperature_k'] != \"Room\" else 297.15  # Avg room temp\n",
    "    return tmp_d\n",
    "    \n",
    "def get_fe_cr_al(r):\n",
    "    res = next(mdf.http_stream(r))\n",
    "    \n",
    "    params = format_get_cr_al_params(r['fe_cr_al_oxidation']) \n",
    "    \n",
    "    df = pd.read_csv(StringIO(res), sep=\"\\t\", header=None, names=[\"twotheta\",\"counts\"])\n",
    "    return (params, df)\n",
    "\n",
    "n_workers = 10\n",
    "n_points = 300\n",
    "\n",
    "mp = Pool(n_workers)\n",
    "mdf_data = mp.map(get_fe_cr_al, res[:n_points])\n",
    "mp.close()\n",
    "mp.join()"
   ]
  },
  {
   "cell_type": "markdown",
   "metadata": {},
   "source": [
    "# Aggregate Results"
   ]
  },
  {
   "cell_type": "code",
   "execution_count": null,
   "metadata": {},
   "outputs": [],
   "source": [
    "## Choose peak integration range (this is ~ a range for the Fe3O4 oxide)\n",
    "\n",
    "integration_peak = 42.8\n",
    "integration_width = 1.\n",
    "integration_range = (integration_peak-integration_width,integration_peak+integration_width)\n",
    "\n",
    "results = []\n",
    "\n",
    "for data, df_tmp in mdf_data:\n",
    "    result = {\"data\":{},\"aggregation\":0}\n",
    "    result['data'] = data\n",
    "    agg = df_tmp[(df_tmp.twotheta>integration_range[0]) & \n",
    "                 (df_tmp.twotheta<integration_range[1])]['counts'].sum()\n",
    "    result['aggregation'] = agg\n",
    "    results.append(result)\n",
    "\n",
    "# Calculate normalization of the aggregation\n",
    "m = max([r[\"aggregation\"] for r in results])\n",
    "for r in results:\n",
    "    r[\"aggregation_norm\"] = r[\"aggregation\"] / m"
   ]
  },
  {
   "cell_type": "markdown",
   "metadata": {},
   "source": [
    "# Plot Results in Various Ways"
   ]
  },
  {
   "cell_type": "code",
   "execution_count": null,
   "metadata": {},
   "outputs": [],
   "source": [
    "x = [r[\"data\"][\"Al\"] for r in results]\n",
    "y = [r[\"data\"][\"Cr\"] for r in results]\n",
    "s = [[r[\"aggregation_norm\"]*1000 for r in results]]\n",
    "\n",
    "fig, ax = plt.subplots()\n",
    "plt.scatter(x, y, s=s, alpha=0.6)\n",
    "ax.set_xlabel(\"Al Atomic %\")\n",
    "ax.set_ylabel(\"Cr Atomic %\")\n",
    "sns.despine()\n",
    "plt.show()"
   ]
  },
  {
   "cell_type": "markdown",
   "metadata": {},
   "source": [
    "## Joint Plots (Where we have observations)"
   ]
  },
  {
   "cell_type": "code",
   "execution_count": null,
   "metadata": {},
   "outputs": [],
   "source": [
    "ax = sns.jointplot(np.asarray(x), np.asarray(y), kind=\"kde\", \n",
    "                   shade=True, stat_func=None, size=7).set_axis_labels(\"Al Atomic %\", \"Cr Atomic %\")"
   ]
  },
  {
   "cell_type": "code",
   "execution_count": null,
   "metadata": {},
   "outputs": [],
   "source": [
    "ax = sns.jointplot(np.asarray(x), np.asarray(y), kind=\"hex\", \n",
    "                   gridsize=7, size=7, stat_func=None).set_axis_labels(\"Al Atomic %\", \"Cr Atomic %\")"
   ]
  },
  {
   "cell_type": "code",
   "execution_count": null,
   "metadata": {},
   "outputs": [],
   "source": []
  }
 ],
 "metadata": {
  "kernelspec": {
   "display_name": "Python 3",
   "language": "python",
   "name": "python3"
  },
  "language_info": {
   "codemirror_mode": {
    "name": "ipython",
    "version": 3
   },
   "file_extension": ".py",
   "mimetype": "text/x-python",
   "name": "python",
   "nbconvert_exporter": "python",
   "pygments_lexer": "ipython3",
   "version": "3.6.4"
  }
 },
 "nbformat": 4,
 "nbformat_minor": 2
}
