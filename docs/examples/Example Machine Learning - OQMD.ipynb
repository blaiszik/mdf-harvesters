{
 "cells": [
  {
   "cell_type": "markdown",
   "metadata": {},
   "source": [
    "# Train a Model to Predict Formation Energy using the MDF\n",
    "This notebook demonstrates how to create an model to predict the formation energy of crystalline materials using data from the MDF. Specifically, we will use data from the OQMD and train a model using the technique describe in a recent paper by [Ward *et al.*](https://www.nature.com/articles/npjcompumats201628)"
   ]
  },
  {
   "cell_type": "code",
   "execution_count": 1,
   "metadata": {
    "collapsed": true
   },
   "outputs": [],
   "source": [
    "import itertools\n",
    "\n",
    "from mdf_forge.forge import Forge\n",
    "\n",
    "from matminer.featurizers import composition as cf\n",
    "from matplotlib import pyplot as plt\n",
    "from matplotlib.colors import LogNorm\n",
    "import numpy as np\n",
    "import pandas as pd\n",
    "from pymatgen import Composition\n",
    "from pymatgen.core.periodic_table import Element\n",
    "from sklearn import metrics\n",
    "from sklearn.ensemble import RandomForestRegressor\n",
    "from sklearn.model_selection import cross_val_score, cross_val_predict, GridSearchCV, ShuffleSplit\n",
    "\n",
    "%matplotlib inline"
   ]
  },
  {
   "cell_type": "markdown",
   "metadata": {},
   "source": [
    "Settings to change"
   ]
  },
  {
   "cell_type": "code",
   "execution_count": 2,
   "metadata": {
    "collapsed": true
   },
   "outputs": [],
   "source": [
    "quick_demo = True # Whether to run an faster version of this demo"
   ]
  },
  {
   "cell_type": "code",
   "execution_count": null,
   "metadata": {},
   "outputs": [],
   "source": [
    "## Get OQMD Training Set\n",
    "Ward _et al._ trained their machine learning models on the formation enthalpies of crystalline compounds form the [OQMD](http://oqmd.org). Here, we extract the data using the copy of the OQMD available through the MDF"
   ]
  },
  {
   "cell_type": "code",
   "execution_count": null,
   "metadata": {},
   "outputs": [],
   "source": [
    "### Download the Data\n",
    "We first create a `Forge` instance, which simplifies performing search queries against the MDF."
   ]
  },
  {
   "cell_type": "code",
   "execution_count": 3,
   "metadata": {},
   "outputs": [
    {
     "name": "stdout",
     "output_type": "stream",
     "text": [
      "Unknown or invalid service: 'data_mdf'.\n",
      "Unknown or invalid service: 'petrel'.\n"
     ]
    }
   ],
   "source": [
    "mdf = Forge()"
   ]
  },
  {
   "cell_type": "markdown",
   "metadata": {},
   "source": [
    "The MDF stores multiple versions of the OQMD metadata. First, we need to get the latest version"
   ]
  },
  {
   "cell_type": "code",
   "execution_count": 4,
   "metadata": {},
   "outputs": [
    {
     "name": "stdout",
     "output_type": "stream",
     "text": [
<<<<<<< HEAD
      "100%|███████████████████████████████████████████████████████████████████████████████████████████████████████████████████████████████████████████████████████████████████████████████████████████| 6847/6847 [00:13<00:00, 509.65it/s]\n"
=======
      "Latest version: 9\n"
>>>>>>> origin/forge-dev
     ]
    }
   ],
   "source": [
    "oqmd_version = mdf.get_dataset_version('oqmd')\n",
    "print('Latest version: {}'.format(oqmd_version))"
   ]
  },
  {
   "cell_type": "markdown",
   "metadata": {},
   "source": [
    "Then, we get all the converged results from the OQMD"
   ]
  },
  {
   "cell_type": "code",
   "execution_count": 5,
   "metadata": {},
   "outputs": [
    {
     "name": "stdout",
     "output_type": "stream",
     "text": [
      "Found 4897 compounds\n"
     ]
    }
   ],
   "source": [
    "query_string = 'mdf.source_name:oqmd_v{0} AND (oqmd_v{0}.configuration:static '\\\n",
    "    'OR oqmd_v{0}.configuration:standard) AND dft.converged:True'.format(oqmd_version)\n",
    "if quick_demo:\n",
    "    query_string += \" AND mdf.scroll_id:<10000\"\n",
    "result_records = mdf.aggregate(query_string)\n",
    "print('Found %d compounds'%len(result_records))"
   ]
  },
  {
   "cell_type": "markdown",
   "metadata": {},
   "source": [
    "Each of these results contain the key metadata of these OQMD compositions."
   ]
  },
  {
   "cell_type": "code",
   "execution_count": 6,
   "metadata": {},
   "outputs": [
    {
     "data": {
      "text/plain": [
       "{'crystal_structure': {'number_of_atoms': 2,\n",
       "  'space_group_number': 221,\n",
       "  'volume': 34.877},\n",
       " 'dft': {'converged': True,\n",
       "  'cutoff_energy': 520.0,\n",
       "  'exchange_correlation_functional': 'PBE'},\n",
       " 'files': [{'data_type': 'ASCII text, with very long lines, with no line terminators',\n",
       "   'filename': '421584.json',\n",
       "   'globus': 'globus://e38ee745-6d04-11e5-ba46-22000b92c6ec/MDF/mdf_connect/prod/data/oqmd_v9/421584.json',\n",
       "   'length': 11103,\n",
       "   'mime_type': 'text/plain',\n",
       "   'sha512': 'f98fa90a9fbeeb51c6aa39e8ffe9601711f6364128e52521112764dc3555eb5711b89128beb13911f69ea41d35fb0075a815b986dba3e1a1507b746da643d2d2',\n",
       "   'url': 'https://e38ee745-6d04-11e5-ba46-22000b92c6ec.e.globus.org/MDF/mdf_connect/prod/data/oqmd_v9/421584.json'}],\n",
       " 'material': {'composition': 'Ga1S1', 'elements': ['Ga', 'S']},\n",
       " 'mdf': {'ingest_date': '2018-04-19T02:56:11.424248Z',\n",
       "  'mdf_id': '5ad8055534a22605a23df6c0',\n",
       "  'parent_id': '5ad8054b34a22605a23dedb0',\n",
       "  'resource_type': 'record',\n",
       "  'scroll_id': 2320,\n",
       "  'source_name': 'oqmd_v9'},\n",
       " 'oqmd_v9': {'band_gap': {'units': 'eV', 'value': 0.0},\n",
       "  'configuration': 'static',\n",
       "  'delta_e': {'units': 'eV/atom', 'value': -0.139931934506679},\n",
       "  'magnetic_moment': {'units': 'bohr/atom'},\n",
       "  'stability': {'units': 'eV/atom', 'value': 0.64905837625},\n",
       "  'total_energy': {'units': 'eV/atom', 'value': -3.575296625},\n",
       "  'volume_pa': {'units': 'angstrom^3/atom', 'value': 17.4385}}}"
      ]
     },
     "execution_count": 6,
     "metadata": {},
     "output_type": "execute_result"
    }
   ],
   "source": [
    "result_records[0]"
   ]
  },
  {
   "cell_type": "markdown",
   "metadata": {},
   "source": [
    "### Compile the Training Set\n",
    "First transform the data into a Pandas DataFrame, then get only the lowest-energy compound at each composition"
   ]
  },
  {
   "cell_type": "code",
   "execution_count": 7,
   "metadata": {},
   "outputs": [],
   "source": [
    "data = pd.DataFrame([x['mdf']['mdf_id'] for x in result_records], columns=['mdf_id'])"
   ]
  },
  {
   "cell_type": "markdown",
   "metadata": {},
   "source": [
    "Get the composition and $\\Delta H_f$"
   ]
  },
  {
   "cell_type": "code",
   "execution_count": 8,
   "metadata": {
    "collapsed": true
   },
   "outputs": [],
   "source": [
    "def get_data(entry):\n",
    "    \"\"\"Get the composition, structure, band gap, and stability of an entry given its search result\n",
    "    \n",
    "    :param entry: dict, metadata for an entry as returned by Globus search\n",
    "    :return: Several items\n",
    "        - str, composition of the material\n",
    "        - float, formation energy of material\n",
    "        - float, Energy per atom (eV/atom)\"\"\"  \n",
    "    \n",
    "    # Get the metadata as a dict\n",
    "    oqmd_data = entry['oqmd_v{}'.format(oqmd_version)]\n",
    "    \n",
    "    # Return results\n",
    "    return entry['material']['composition'], \\\n",
    "        oqmd_data.get('delta_e', {}).get('value'), \\\n",
    "        oqmd_data['total_energy'].get('value', np.nan)"
   ]
  },
  {
   "cell_type": "code",
   "execution_count": 9,
   "metadata": {},
   "outputs": [],
   "source": [
    "data['composition'], data['delta_e'], data['energy'] = list(zip(*[get_data(x) for x in result_records]))"
   ]
  },
  {
   "cell_type": "markdown",
   "metadata": {},
   "source": [
    "Convert compositions to `pymatgen` objects"
   ]
  },
  {
   "cell_type": "code",
   "execution_count": 10,
   "metadata": {
    "collapsed": true
   },
   "outputs": [],
   "source": [
    "data['composition_pmg'] = data['composition'].apply(lambda x: Composition(x))"
   ]
  },
  {
   "cell_type": "markdown",
   "metadata": {},
   "source": [
    "Remove the result records from memory"
   ]
  },
  {
   "cell_type": "code",
   "execution_count": 11,
   "metadata": {
    "collapsed": true
   },
   "outputs": [],
   "source": [
    "del result_records"
   ]
  },
  {
   "cell_type": "markdown",
   "metadata": {},
   "source": [
    "Remove compounds w/o a `delta_e` measurement."
   ]
  },
  {
   "cell_type": "code",
   "execution_count": 12,
   "metadata": {
    "collapsed": true
   },
   "outputs": [],
   "source": [
    "for k in ['delta_e', 'energy']:\n",
    "    data[k] = pd.to_numeric(data[k])"
   ]
  },
  {
   "cell_type": "code",
   "execution_count": 13,
   "metadata": {},
   "outputs": [
    {
     "name": "stdout",
     "output_type": "stream",
     "text": [
      "Removed 425/4897 entires\n"
     ]
    }
   ],
   "source": [
    "original_count = len(data)\n",
    "data = data[~ np.logical_or(data['delta_e'].isnull(), data['energy'].isnull())]\n",
    "print('Removed %d/%d entires'%(original_count - len(data), original_count))"
   ]
  },
  {
   "cell_type": "markdown",
   "metadata": {},
   "source": [
    "Get only the groundstate and each composition"
   ]
  },
  {
   "cell_type": "code",
   "execution_count": 14,
   "metadata": {},
   "outputs": [
    {
     "name": "stdout",
     "output_type": "stream",
     "text": [
<<<<<<< HEAD
      "Removed 1014/6846 entires\n",
      "Wall time: 783 ms\n"
=======
      "Removed 31/4472 entires\n",
      "Wall time: 539 ms\n"
>>>>>>> origin/forge-dev
     ]
    }
   ],
   "source": [
    "%%time\n",
    "original_count = len(data)\n",
    "data['composition_str'] = data['composition_pmg'].apply(lambda x: x.reduced_formula)\n",
    "data.sort_values('energy', ascending=True, inplace=True)\n",
    "data.drop_duplicates('composition_str', keep='first', inplace=True)\n",
    "print('Removed %d/%d entires'%(original_count - len(data), original_count))"
   ]
  },
  {
   "cell_type": "markdown",
   "metadata": {},
   "source": [
    "Remove crazy high $\\Delta H_f$ values"
   ]
  },
  {
   "cell_type": "code",
   "execution_count": 15,
   "metadata": {},
   "outputs": [
    {
     "name": "stdout",
     "output_type": "stream",
     "text": [
<<<<<<< HEAD
      "Removed 1014/6846 entires\n",
      "Wall time: 13 ms\n"
=======
      "Removed 33/4472 entires\n",
      "Wall time: 14 ms\n"
>>>>>>> origin/forge-dev
     ]
    }
   ],
   "source": [
    "%%time\n",
    "original_size = len(data)\n",
    "data.query('delta_e <= 5', inplace=True)\n",
    "print('Removed %d/%d entires'%(original_count - len(data), original_count))"
   ]
  },
  {
   "cell_type": "markdown",
   "metadata": {},
   "source": [
    "## Build an ML model\n",
    "In this part of the notebook, we build a ML model using [scikit-learn](http://scikit-learn.org/stable/) and evaluate its performance using cross-validation."
   ]
  },
  {
   "cell_type": "markdown",
   "metadata": {},
   "source": [
    "### Part 1: Compute Representation\n",
    "The first step in building a ML model is to convert the raw materials data (here: the composition) into the required input for an ML model: a finite list of quantitative attributes. In this example, we use the \"general-purpose\" attributes of [Ward *et al* 2016](https://www.nature.com/articles/npjcompumats201628)."
   ]
  },
  {
   "cell_type": "code",
   "execution_count": 16,
   "metadata": {
    "collapsed": true
   },
   "outputs": [],
   "source": [
    "feature_calculators = [cf.Stoichiometry(), cf.ElementProperty.from_preset(\"magpie\"), \\\n",
    "                      cf.ValenceOrbital(props=['frac']), cf.IonProperty(fast=True)]"
   ]
  },
  {
   "cell_type": "markdown",
   "metadata": {},
   "source": [
    "Get the feature names"
   ]
  },
  {
   "cell_type": "code",
   "execution_count": 17,
   "metadata": {
    "collapsed": true
   },
   "outputs": [],
   "source": [
    "feature_labels = list(itertools.chain.from_iterable([x.feature_labels() for x in feature_calculators]))"
   ]
  },
  {
   "cell_type": "markdown",
   "metadata": {},
   "source": [
    "Compute the features"
   ]
  },
  {
   "cell_type": "code",
   "execution_count": 18,
   "metadata": {},
   "outputs": [
    {
     "name": "stdout",
     "output_type": "stream",
     "text": [
<<<<<<< HEAD
      "Wall time: 48.5 s\n"
=======
      "Wall time: 35.2 s\n"
>>>>>>> origin/forge-dev
     ]
    }
   ],
   "source": [
    "%%time\n",
    "for fc in feature_calculators:\n",
    "    data = fc.featurize_dataframe(data, col_id='composition_pmg')"
   ]
  },
  {
   "cell_type": "code",
   "execution_count": 19,
   "metadata": {},
   "outputs": [
    {
     "name": "stdout",
     "output_type": "stream",
     "text": [
      "Generated 145 features\n",
      "Training set size: 4439x145\n"
     ]
    }
   ],
   "source": [
    "print('Generated %d features'%len(feature_labels))\n",
    "print('Training set size:', 'x'.join([str(x) for x in data[feature_labels].shape]))"
   ]
  },
  {
   "cell_type": "markdown",
   "metadata": {},
   "source": [
    "Remove entries with `NaN` or `infinite` features"
   ]
  },
  {
   "cell_type": "code",
   "execution_count": 20,
   "metadata": {},
   "outputs": [
    {
     "name": "stdout",
     "output_type": "stream",
     "text": [
      "Removed 0/4439 entires\n"
     ]
    }
   ],
   "source": [
    "original_count = len(data)\n",
    "data = data[~ data[feature_labels].isnull().any(axis=1)]\n",
    "print('Removed %d/%d entires'%(original_count - len(data), original_count))"
   ]
  },
  {
   "cell_type": "markdown",
   "metadata": {},
   "source": [
    "### Part 2: Tuning Model Hyper-parameters\n",
    "For brevity, we will only consider one ML algorithm in this example: [random forest](http://scikit-learn.org/stable/modules/generated/sklearn.ensemble.RandomForestRegressor.html#sklearn.ensemble.RandomForestRegressor). The \"random forest\" algorithm works by training many different decision tree models, where each is trained on a different subset of the dataset . Here, we tune one of the major parameters of the algoritm: the number features considered at each split in each decision tree"
   ]
  },
  {
   "cell_type": "code",
   "execution_count": 21,
   "metadata": {
    "collapsed": true
   },
   "outputs": [],
   "source": [
    "model = GridSearchCV(RandomForestRegressor(n_estimators=20 if quick_demo else 150, n_jobs=-1),\n",
    "                     param_grid=dict(max_features=range(8,15)),\n",
    "                     scoring='neg_mean_squared_error',cv=ShuffleSplit(n_splits=1, test_size=0.1))"
   ]
  },
  {
   "cell_type": "code",
   "execution_count": 22,
   "metadata": {},
   "outputs": [
    {
     "data": {
      "text/plain": [
       "GridSearchCV(cv=ShuffleSplit(n_splits=1, random_state=None, test_size=0.1, train_size=None),\n",
       "       error_score='raise',\n",
       "       estimator=RandomForestRegressor(bootstrap=True, criterion='mse', max_depth=None,\n",
       "           max_features='auto', max_leaf_nodes=None,\n",
       "           min_impurity_decrease=0.0, min_impurity_split=None,\n",
       "           min_samples_leaf=1, min_samples_split=2,\n",
       "           min_weight_fraction_leaf=0.0, n_estimators=20, n_jobs=-1,\n",
       "           oob_score=False, random_state=None, verbose=0, warm_start=False),\n",
       "       fit_params=None, iid=True, n_jobs=1,\n",
       "       param_grid={'max_features': range(8, 15)}, pre_dispatch='2*n_jobs',\n",
       "       refit=True, return_train_score='warn',\n",
       "       scoring='neg_mean_squared_error', verbose=0)"
      ]
     },
     "execution_count": 22,
     "metadata": {},
     "output_type": "execute_result"
    }
   ],
   "source": [
    "model.fit(data[feature_labels], data['delta_e'])"
   ]
  },
  {
   "cell_type": "markdown",
   "metadata": {},
   "source": [
    "Plot the tuning results. This shows the CV score as a function of the parameter we tuned \"max features\""
   ]
  },
  {
   "cell_type": "code",
   "execution_count": 23,
   "metadata": {},
   "outputs": [
    {
     "data": {
      "text/plain": [
<<<<<<< HEAD
       "-0.047349072432448604"
=======
       "-0.10181937444151923"
>>>>>>> origin/forge-dev
      ]
     },
     "execution_count": 23,
     "metadata": {},
     "output_type": "execute_result"
    }
   ],
   "source": [
    "model.best_score_"
   ]
  },
  {
   "cell_type": "code",
   "execution_count": 24,
   "metadata": {},
   "outputs": [
    {
     "data": {
      "text/plain": [
       "Text(0,0.5,'RMSE (eV/atom)')"
      ]
     },
     "execution_count": 24,
     "metadata": {},
     "output_type": "execute_result"
    },
    {
     "data": {
<<<<<<< HEAD
      "image/png": "iVBORw0KGgoAAAANSUhEUgAAAYsAAAEKCAYAAADjDHn2AAAABHNCSVQICAgIfAhkiAAAAAlwSFlz\nAAALEgAACxIB0t1+/AAAADl0RVh0U29mdHdhcmUAbWF0cGxvdGxpYiB2ZXJzaW9uIDIuMS4wLCBo\ndHRwOi8vbWF0cGxvdGxpYi5vcmcvpW3flQAAGQpJREFUeJzt3Xu0XnV95/H3xwQxmpEgxEvCVYpU\nCkjwFGupeAElXiZcHBSUFiwV0aEdhzVaWLTOiKuCROvUiqtQi3gFRRCzFIgtorWOcUgMt3BRQIUk\ntsQLA0hEAt/549mBh8PJ2U9OznOek3Per7XOOs/+7d9+9ncvQj7Zt98vVYUkSaN5yqALkCRNfoaF\nJKmVYSFJamVYSJJaGRaSpFaGhSSplWEhSWplWEiSWhkWkqRWMwddwHjZcccda7fddht0GZK0VVmx\nYsXPq2puW78pExa77bYby5cvH3QZkrRVSfLTXvp5GUqS1MqwkCS1MiwkSa0MC0lSK8NCktTKsJAk\ntTIsJEmtDAtJUivDQpLUyrCQJLUyLCRJrQwLSVIrw0KS1MqwkCS1MiwkSa0MC0lSK8NCktTKsJAk\ntTIsJEmtDAtJUqu+hkWShUluS3J7ktNGWH9qkpuT3JDk6iS7dq17JMl1zc+SftYpSRrdzH59cZIZ\nwLnAq4HVwLVJllTVzV3dVgJDVfVgkncC5wBvbtatr6r9+1WfJKl3/TyzOBC4varurKrfAhcDh3d3\nqKprqurBZnEZsFMf65EkjVE/w2I+cHfX8uqmbVNOBK7sWn5akuVJliU5oh8FSpJ607fLUEBGaKsR\nOybHAUPAy7uad6mqtUmeD3wzyY1Vdcew7U4CTgLYZZddxqdqSdKT9PPMYjWwc9fyTsDa4Z2SHAqc\nASyqqoc2tlfV2ub3ncC3gAXDt62q86tqqKqG5s6dO77VS5Ie08+wuBbYM8nuSZ4KHAM84ammJAuA\n8+gExT1d7dsn2bb5vCNwENB9Y1ySNIH6dhmqqjYkOQVYCswALqiqVUnOBJZX1RJgMTAbuCQJwF1V\ntQh4IXBekkfpBNrZw56ikiRNoFSNeBthqzM0NFTLly8fdBmStFVJsqKqhtr6+Qa3JKmVYSFJamVY\nSJJaGRaSpFaGhSSplWEhSWplWEiSWhkWkqRWhoUkqZVhIUlqZVhIkloZFpKkVoaFJKmVYSFJamVY\nSJJaGRaSpFaGhSSplWEhSWplWEiSWhkWkqRWhoUkqZVhIUlqZVhIkloZFpKkVoaFJKmVYSFJamVY\nSJJaGRaSpFaGhSSplWEhSWplWEiSWvU1LJIsTHJbktuTnDbC+lOT3JzkhiRXJ9l12PpnJlmT5OP9\nrFPqp8tXruGgs7/J7qd9nYPO/iaXr1wz6JKkzda3sEgyAzgXeC2wN3Bskr2HdVsJDFXVfsCXgXOG\nrf8A8O1+1Sj12+Ur13D6ZTey5t71FLDm3vWcftmNBoa2Ov08szgQuL2q7qyq3wIXA4d3d6iqa6rq\nwWZxGbDTxnVJXgw8B/hGH2uU+mrx0ttY//AjT2hb//AjLF5624Aqksamn2ExH7i7a3l107YpJwJX\nAiR5CvAR4D2j7SDJSUmWJ1m+bt26LSxXGn9r712/We3SZNXPsMgIbTVix+Q4YAhY3DS9C7iiqu4e\nqf9jX1Z1flUNVdXQ3Llzt6hYqR/mzZm1We3SZNXPsFgN7Ny1vBOwdninJIcCZwCLquqhpvmlwClJ\nfgJ8GPiTJGf3sVapL95z2F7M2mbGE9pmbTOD9xy214AqksZmZh+/+1pgzyS7A2uAY4C3dHdIsgA4\nD1hYVfdsbK+qt3b1OYHOTfAnPU0lTXZHLOhceV289DbW3rueeXNm8Z7D9nqsXdpa9C0sqmpDklOA\npcAM4IKqWpXkTGB5VS2hc9lpNnBJEoC7qmpRv2qSBuGIBfMNB231UjXibYSROyfPAH5TVY+0dp5g\nQ0NDtXz58kGXIUlblSQrqmqord+oZxbNU0nHAG8Ffh94CNg2yTrgCuD8qvrRONQrSRPi8pVrvCw4\nBm2Xoa4B/gU4Hbipqh4FSPIs4JXA2Um+UlWf62+ZkrTlNr4kufHdl40vSQJbZWBMZPC1hcWhVfXw\n8Maq+iVwKXBpkm36UpkkjbPRXpLc2sJiooNv1Ednu4MiyfZJ9ktywMaf4X0kaTKbSi9JTvToAD09\nDZXkA8AJwB08/mJdAa/qS1WS1Afz5sxizQjBsDW+JDnRwdfrS3lvAvaoqldU1SubH4NC0lZlKr0k\nOdGjA/QaFjcBc/pSgSRNkCMWzOeso/Zl/pxZBJg/ZxZnHbXvVne/AiY++Hp9Ke8sYGWSm+g8PguA\nL9BJ2tpMlZckJ3p0gF7D4tPAh4AbgUf7UokkabNMZPD1GhY/r6qP9bUSSdKk1WtYrEhyFrCEJ16G\n+kFfqpIkTSq9hsWC5vcfdLX56KwkTRM9hUVVvbLfhUiSJq+eHp1Nsl2Sv904hWmSjyTZrt/FSZIm\nh17fs7gAuJ/Oy3lvAu4DPtWvoiRJk0uv9yz2qKo3di2/P8l1/ShIkjT59HpmsT7JH21cSHIQsPWN\nvCVJGpNezyxOBj7TdZ/iV8Dx/SlJkjTZ9BoW91XVi5I8E6Cq7kuyex/rkiRNIr1ehroUOiFRVfc1\nbV/uT0mSpMmmbQ7u3wV+D9guyVFdq54JPK2fhUmSJo+2y1B7AW+gMzz5f+5qvx94e7+KkmBi5xeW\nNLpRw6Kqvgp8NclLq+p7E1STNOHzC0saXa83uFcm+a90Lkk9dvmpqv60L1Vp2httfmHDQpp4vd7g\n/izwXOAw4NvATnQuRUl9MdHzC0saXa9h8TtV9dfAr6vq08DrgX37V5amu4meX1jS6HoNi4eb3/cm\n2QfYDtitLxVJTPz8wpJG1+s9i/OTbA/8NZ0JkGY3n6W+mOj5hSWNLlW16ZXJS4FlNVqnSWJoaKiW\nL18+6DIkaauSZEVVDbX1azuzOB44N8kPgauAq6rq38ejQElbF997md5GvWdRVSdX1QHA/wK2By5M\n8r0kH0xycJIZo22fZGGS25LcnuS0EdafmuTmJDckuTrJrk37rklWJLkuyaokJ4/9ECVtqY3vvay5\ndz3F4++9XL5yzaBL0wTp6QZ3Vd1aVR+tqoV05t3+N+Bo4Pub2qYJknOB1wJ7A8cm2XtYt5XAUFXt\nR2esqXOa9p8Bf1hV+wMvAU5LMq/3w5I0nkZ770XTQ9vYUF8HvgBcXlW/Bqiq9cAVzc9oDgRur6o7\nm++6GDgcuHljh6q6pqv/MuC4pv23Xe3b0vtTW8LLBRp/vveitr+Ez6czNtSPk3wxyRFJntrjd88H\n7u5aXt20bcqJwJUbF5LsnOSG5js+VFVre9zvtOblAvWD772o7Z7FV6vqWGBX4DI6N7zvSnJBkle3\nfHdG+soROybHAUPA4q59391cnvod4Pgkzxlhu5OSLE+yfN26dS3lTA9eLlA/+N6Ler1nsb6qvlhV\nRwKvARbQeTpqNKuBnbuWdwKedHaQ5FDgDGBRVT00wr7XAquAl42w7vyqGqqqoblz5/ZyKFOelwvU\nD0csmM9ZR+3L/DmzCDB/zizOOmpfL29OIz29lNf8q/5NwDHA84BLgLe1bHYtsGczo96aZtu3DPve\nBcB5wMKquqerfSfgF1W1vnkZ8CDgb3s6omlu3pxZrBkhGLxcoC11xIL5hsM0NuqZRZK3J/km8APg\nBcB7q+r5VfWXVXXdaNtW1QbgFGApcAvwpapaleTMJIuabovpvA1+SfOY7JKm/YXA95NcT2fgwg9X\n1Y1jPcjpxMsFkvqh7Q3uTwEXAf9SVY9OWFVj4Bvcj/NpKEm9Gpc3uKvqbc2XpbkJ/fyqOjPJLsBz\nq+r/jk+5Gk9eLpA03np9f+ETwEuBY5vl++m8cCdJmgZ6HXX2JVV1QJKVAFX1q81430KStJXreT6L\nZviOAkgyF5jU9zAkSeOn17D4GPAV4NlJ/obO2FAf7FtVkqRJpafLUFX1+SQrgEPovJl9RFXd0tfK\nJEmTRttAgrOr6gHojDwL3DpaH0nS1NR2GeqrST7SzF3xjI2NSZ6f5MQkS4GF/S1RkjRobe9ZHJLk\ndcA7gIOSPAt4GLgN+DpwvDPnSdLU13rPoqp6mbtCkjSFOamQJKmVYSFJamVYSJJatQ1R/qquz7sP\nW3dUv4qSJE0ubWcWH+76fOmwdX81zrVIkiaptrDIJj6PtCxJmqLawqI28XmkZUnSFNX2nsXzm6lO\n0/WZZnn3TW8mSZpK2sLi8K7PHx62bviyJGmKahvu49vdy0m2AfYB1lTVPf0sTJI0ebQ9OvsPSX6v\n+bwdcD3wGWBlkmNH21aSNHW03eB+WVWtaj6/DfhhVe0LvBh4b18rkyRNGm1h8duuz68GLgdwpFlJ\nml7awuLeJG9IsgA4CLgKIMlMYFa/i5MkTQ5tT0O9g878288F3t11RnEInfksJEnTQNvTUD9khJnw\nqmopsLRfRUmSJpe2Obg/Ntr6qvqL8S1HkjQZtV2GOhm4CfgSsBbHg5KkaaktLJ4HHA28GdgAfBG4\ntKp+1e/CJEmTx6hPQ1XVL6rqH6rqlcAJwBxgVZI/nojiJEmTQ08z5SU5AHg3cBxwJbCix+0WJrkt\nye1JThth/alJbk5yQ5Krk+zatO+f5HtJVjXr3tz7IUmSxlvbDe73A28AbgEuBk6vqg29fHGSGcC5\ndF7mWw1cm2RJVd3c1W0lMFRVDyZ5J3AOnUteDwJ/UlU/SjIPWJFkaVXdu5nHJ0kaB233LP4auBN4\nUfPzwSTQudFdVbXfKNseCNxeVXcCJLmYzii2j4VFVV3T1X8ZnTOXjY/sbuyzNsk9wFzAsJCkAWgL\niy2Zs2I+cHfX8mrgJaP0P5HOJa4nSHIg8FTgji2oRZK0BdpeyvvpSO3NJaZjgBHXb+w20ldu4vuO\nA4aAlw9rfx7wWeD4qnp0hO1OAk4C2GWXXUYpRZK0JdqGKH9mktOTfDzJa9Lx53QuTb2p5btXAzt3\nLe9E512N4fs4FDgDWFRVD3Xvm86QIn9VVctG2kFVnV9VQ1U1NHfu3JZyJElj1XYZ6rPAr4DvAX8G\nvIfOJaHDq+q6lm2vBfZMsjuwhs6ZyFu6OzQDFJ4HLOyeTCnJU4GvAJ+pqkt6PxxJUj+0zsHdzF9B\nkk8CPwd2qar72764qjYkOYXOGFIzgAuqalWSM4HlVbUEWAzMBi5pbpzfVVWL6Jy1HAzskOSE5itP\n6CGgJEl90BYWD2/8UFWPJPlxL0HRtc0VwBXD2t7X9fnQTWz3OeBzve5HktRfbWHxoiT3NZ8DzGqW\nNz46+8y+VidJmhTanoaaMVGFTBoPPABr18K8eTB79qCrkaRJoafhPqaFDRu445i38Zvtd+CBffbn\nN9vvwB3HvA029PTCuiRNaW2XoaaNO457O/MuvYinbXh82vF5l17EHcAeF39qcIVJ0iTgmQXAAw8w\n/9IvMGvDQ09onrXhIeZfdlHn0pQkTWOGBcDatWzIyLdnNuQpnXsYkjSNGRYA8+Yxsx4ZcdXMerRz\ns1uSpjHDAmD2bNa88S2sn7ntE5rXz9yWNUcd61NRkqY9b3A39vjcP3IHMP+yi9iQpzCzHmXtUcey\nx+f+cdClSdLAGRYbzZzZeerpgb9/7D2LPTyjkCTAsHiy2bPhBS8YdBWSNKl4z0KS1MqwkCS1Miwk\nSa0MC0lSK8NCktTKsJAktTIsJEmtDAtJUivDQpLUyrCQJLUyLCRJrQwLSVIrw0KS1MqwkCS1Miwk\nSa0MC0lSK8NCktTKsJAktTIsJEmtDAtJUqu+hkWShUluS3J7ktNGWH9qkpuT3JDk6iS7dq27Ksm9\nSb7WzxolSe36FhZJZgDnAq8F9gaOTbL3sG4rgaGq2g/4MnBO17rFwB/3qz5JUu/6eWZxIHB7Vd1Z\nVb8FLgYO7+5QVddU1YPN4jJgp651VwP397E+SVKP+hkW84G7u5ZXN22bciJw5ebsIMlJSZYnWb5u\n3boxlChJ6kU/wyIjtNWIHZPjgCE6l556VlXnV9VQVQ3NnTt3DCVKknoxs4/fvRrYuWt5J2Dt8E5J\nDgXOAF5eVQ/1sR5J0hj188ziWmDPJLsneSpwDLCku0OSBcB5wKKquqePtUiStkDfwqKqNgCnAEuB\nW4AvVdWqJGcmWdR0WwzMBi5Jcl2Sx8IkyXeAS4BDkqxOcli/apUkja6fl6GoqiuAK4a1va/r86Gj\nbPuyPpYmSdoMvsEtSWplWEiSWhkWkqRWhoUkqZVhIUlqZVhIkloZFpKkVoaFJKmVYSFJamVYSJJa\nGRaSpFaGhSSplWEhSWplWEiSWhkWkqRWhoUkqZVhIUlqZVhIkloZFpKkVoaFJKmVYSFJamVYSJJa\nGRaSpFaGhSSplWEhSWplWEiSWhkWkqRWhoUkqZVhIUlqlaoadA3jIsk64Kfj9HU7Aj8fp+8aJI9j\ncvE4JpepchywZceya1XNbes0ZcJiPCVZXlVDg65jS3kck4vHMblMleOAiTkWL0NJkloZFpKkVobF\nyM4fdAHjxOOYXDyOyWWqHAdMwLF4z0KS1MozC0lSK8OiS5L/nmRVkpuSXJTkaYOuaSyS/LfmGFYl\nefeg69kcSS5Ick+Sm7ranpXkn5P8qPm9/SBr7MUmjuPo5r/Jo0m2iqdwNnEci5PcmuSGJF9JMmeQ\nNfZiE8fxgeYYrkvyjSTzBlljL0Y6jq51/yNJJdmxH/s2LBpJ5gN/AQxV1T7ADOCYwVa1+ZLsA7wd\nOBB4EfCGJHsOtqrNciGwcFjbacDVVbUncHWzPNldyJOP4ybgKOBfJ7yasbuQJx/HPwP7VNV+wA+B\n0ye6qDG4kCcfx+Kq2q+q9ge+BrxvwqvafBfy5OMgyc7Aq4G7+rVjw+KJZgKzkswEng6sHXA9Y/FC\nYFlVPVhVG4BvA0cOuKaeVdW/Ar8c1nw48Onm86eBIya0qDEY6Tiq6paqum1AJY3JJo7jG82fLYBl\nwE4TXthm2sRx3Ne1+Axg0t/A3cT/HwAfBd5LH4/BsGhU1Rrgw3SS+WfA/6uqbwy2qjG5CTg4yQ5J\nng68Dth5wDVtqedU1c8Amt/PHnA9etyfAlcOuoixSvI3Se4G3srWcWbxJEkWAWuq6vp+7sewaDTX\nwQ8HdgfmAc9Ictxgq9p8VXUL8CE6lwquAq4HNoy6kTQGSc6g82fr84OuZayq6oyq2pnOMZwy6Ho2\nV/MPwjOYgKAzLB53KPDjqlpXVQ8DlwF/OOCaxqSq/qmqDqiqg+mcsv5o0DVtof9I8jyA5vc9A65n\n2ktyPPAG4K01NZ6//wLwxkEXMQZ70PkH7vVJfkLnkuAPkjx3vHdkWDzuLuAPkjw9SYBDgFsGXNOY\nJHl283sXOjdULxpsRVtsCXB88/l44KsDrGXaS7IQ+EtgUVU9OOh6xmrYgx+LgFsHVctYVdWNVfXs\nqtqtqnYDVgMHVNW/j/e+fCmvS5L3A2+mc2q9EvizqnposFVtviTfAXYAHgZOraqrB1xSz5JcBLyC\nziia/wH8T+By4EvALnRC/eiqGukm36SxieP4JfD3wFzgXuC6qjpsUDX2YhPHcTqwLfCLptuyqjp5\nIAX2aBPH8TpgL+BROiNWn9zcu5y0RjqOqvqnrvU/ofNE57iPpmtYSJJaeRlKktTKsJAktTIsJEmt\nDAtJUivDQpLUyrDQlNWMwPnZruWZSdYl+Vof9vVIM3rpxp/dxvAdc5K8a7xrk8bDzEEXIPXRr4F9\nksyqqvV0RuXs13P065vRS7fEHOBdwCc2Z6MkM6rqkS3ctzQqzyw01V0JvL75fCxdb7MnOTDJ/0my\nsvm9V9N+apILms/7NnODPH1zd5xkRjP3w7XNvAnvaNpnJ7k6yQ+S3Jjk8GaTs4E9mjOTxUle0X0W\nlOTjSU5oPv8kyfuS/BtwdJI9klyVZEWS7yT53abf0U391yfZmoZG1yTjmYWmuouB9zV/6e4HXAC8\nrFl3K3BwVW1IcijwQTrjA/1v4FtJjqQzSNs7ehjWYlaS65rPP66qI4ET6Yxe/PtJtgW+m+QbwN3A\nkVV1XzNRzbIkS+jM07HPxjOUJK9o2edvquqPmr5X03kD+UdJXkLn7ORVdAaYO6yq1mwNkxRp8jIs\nNKVV1Q3N/YNjgSuGrd4O+HQzRlAB2zTbPNr8C/4G4Lyq+m4PuxrpMtRrgP2S/Jeu/e1JZ/yeDyY5\nmM5QE/OB52zmoQF8ETpnKnQGvbykM6wZ0BmOA+C7wIVJvkRncExpTAwLTQdL6MxV8go6Y2Zt9AHg\nmqo6sgmUb3Wt2xN4gM5w9WMV4M+raukTGjtBNBd4cVU93IznM9IUvht44qXi4X1+3fx+CnDvSPdM\nqurk5kzj9cB1Sfavql8M7ye18Z6FpoMLgDOr6sZh7dvx+A3vEzY2JtkO+DvgYGCHrjODzbUUeGeS\nbZrvfUGSZzT7vacJilcCuzb97wf+U9f2PwX2TrJtU9MhI+2kmfHtx0mObvaTJC9qPu9RVd+vqvcB\nP2frnwhLA2JYaMqrqtVV9XcjrDoHOCvJd+nMub7RR4FPVNUP6dx3ODvJs5MMJfnkZuz6k8DNdOYX\nuAk4j87Z/OeBoSTL6czQdmtT5y/o3Ne4Kcniqrqbzmi7NzTbrBxlX28FTkxyPbCKzkReAIubm+g3\n0Zn7u6+zqWnqctRZSVIrzywkSa0MC0lSK8NCktTKsJAktTIsJEmtDAtJUivDQpLUyrCQJLX6/9ig\nB14aBsULAAAAAElFTkSuQmCC\n",
      "text/plain": [
       "<matplotlib.figure.Figure at 0x16d4b44aa20>"
=======
      "image/png": "iVBORw0KGgoAAAANSUhEUgAAAYsAAAEKCAYAAADjDHn2AAAABHNCSVQICAgIfAhkiAAAAAlwSFlz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\n",
      "text/plain": [
       "<matplotlib.figure.Figure at 0x1ff363a27f0>"
>>>>>>> origin/forge-dev
      ]
     },
     "metadata": {},
     "output_type": "display_data"
    }
   ],
   "source": [
    "fig, ax = plt.subplots()\n",
    "\n",
    "# Plot the score as a function of alpha\n",
    "ax.scatter(model.cv_results_['param_max_features'].data,\n",
    "          np.sqrt(-1 * model.cv_results_['mean_test_score']))\n",
    "ax.scatter([model.best_params_['max_features']], np.sqrt([-1*model.best_score_]), marker='o', color='r', s=40)\n",
    "ax.set_xlabel('Max. Features')\n",
    "ax.set_ylabel('RMSE (eV/atom)')"
   ]
  },
  {
   "cell_type": "markdown",
   "metadata": {},
   "source": [
    "Save our best model"
   ]
  },
  {
   "cell_type": "code",
   "execution_count": 25,
   "metadata": {
    "collapsed": true
   },
   "outputs": [],
   "source": [
    "model = model.best_estimator_"
   ]
  },
  {
   "cell_type": "markdown",
   "metadata": {},
   "source": [
    "### Part 3: Cross-validation Test\n",
    "Quantify the performance of this model using 10-fold cross-validation"
   ]
  },
  {
   "cell_type": "code",
<<<<<<< HEAD
   "execution_count": 25,
=======
   "execution_count": 26,
>>>>>>> origin/forge-dev
   "metadata": {
    "collapsed": true
   },
   "outputs": [],
   "source": [
    "cv_prediction = cross_val_predict(model, data[feature_labels], data['delta_e'], cv=10)"
   ]
  },
  {
   "cell_type": "markdown",
   "metadata": {},
   "source": [
    "Compute aggregate statistics"
   ]
  },
  {
   "cell_type": "code",
   "execution_count": 27,
   "metadata": {},
   "outputs": [
    {
     "name": "stdout",
     "output_type": "stream",
     "text": [
<<<<<<< HEAD
      "r2_score 0.876058126274\n",
      "mean_absolute_error 0.178085812522\n",
      "mean_squared_error 0.0828029123798\n"
=======
      "r2_score 0.8397465625820009\n",
      "mean_absolute_error 0.26059223918611046\n",
      "mean_squared_error 0.14178775050317965\n"
>>>>>>> origin/forge-dev
     ]
    }
   ],
   "source": [
    "for scorer in ['r2_score', 'mean_absolute_error', 'mean_squared_error']:\n",
    "    score = getattr(metrics,scorer)(data['delta_e'], cv_prediction)\n",
    "    print(scorer, score)"
   ]
  },
  {
   "cell_type": "markdown",
   "metadata": {},
   "source": [
    "Plot the individual predictions"
   ]
  },
  {
   "cell_type": "code",
   "execution_count": 28,
   "metadata": {
    "scrolled": true
   },
   "outputs": [
    {
     "data": {
<<<<<<< HEAD
      "image/png": "iVBORw0KGgoAAAANSUhEUgAAAPAAAADQCAYAAAA5+eykAAAABHNCSVQICAgIfAhkiAAAAAlwSFlz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\nGww+5v8ANx9D309rWwEAAAAASUVORK5CYII=\n",
      "text/plain": [
       "<matplotlib.figure.Figure at 0x16d4d448b70>"
=======
      "image/png": "iVBORw0KGgoAAAANSUhEUgAAAQsAAADQCAYAAAAQ20QKAAAABHNCSVQICAgIfAhkiAAAAAlwSFlz\nAAALEgAACxIB0t1+/AAAADl0RVh0U29mdHdhcmUAbWF0cGxvdGxpYiB2ZXJzaW9uIDIuMS4yLCBo\ndHRwOi8vbWF0cGxvdGxpYi5vcmcvNQv5yAAAIABJREFUeJztnXl4VeW1/z8rMSFMgYBJRUADXAYR\nFASBOjAFEMGBqJUgFVERFa16vfba2tra22tv/VVbr1oQpFStrSNQ6syoKF6VUZBBwQACigmDhCFh\nSNbvj332YeeM+5yckzPk/TzPfsje593vXtHs71nvete7XlFVDAaDIRwZiTbAYDCkBkYsDAaDK4xY\nGAwGVxixMBgMrjBiYTAYXGHEwmAwuMKIhcFgcEXSiIWItBeRJSKyUUTWi8jdibbJYDCcRJIlKUtE\n2gBtVHWViDQHVgJjVHVDgk0zGAzAKYk2wEZVvwW+9fx8UEQ2Am2BoGJx6qmnamFhYf0YaGgQ7Nq1\ni927dwPsUdX8RNuTTCSNWDgRkUKgN/BJgM8mA5MBzjjjDFasWFGvthnSl7lz53LVVVdx22238fTT\nT29PtD3JRtLELGxEpBkwG7hHVSt8P1fVGaraV1X75ucb4TdERkm7yUE/u/LKK3nuuef485//XI8W\npQ5JJRYikoUlFH9X1TmJtseQfry0c4bftVmzZvH111+TkZHBhAkTuO6M22hGi3MSYF5SkzRiISIC\n/AXYqKp/TLQ9htQklOcQiKlTp3LzzTfz6KOPeq+9tHMGhziwNta2pTpJIxbAhcD1wFARWeM5RiXa\nKENqEchzCMasWbO44447uPzyy2uJhSEwSRPgVNUPAUm0HYaGwQsvvMCkSZMYOXIkjVbmk52d7f2s\npN1kMwwJQDJ5FgZDvVBdXc0TTzzB4MGDmTNnDpmSWetzMwwJTNJ4FgZDfZGZmcn8+fPJysqicePG\nEQ1dGjLGszCkPXbQ8+2336a4uJjKykpatmxJ06ZNa33ubG+GIf4kTbp3NPTt21dNUlbDwH6ho/UC\nFi1axOjRo+nevTuLFy+mZcuWIduLyEpV7RvVw9IUMwwxpAR1GSosXbqUyy+/nC5durBgwYKwQmEI\njBmGGNKajz/+mNGjR3PmmWeycOFCJv3HK4DlqUSak9HQMZ6FoV6o6zAi2v4aNWpEjx49mD17NgUF\nBTRauBqAo8N6x8SOhoSJWRhSjpJ2k8OKRFlZGQUFBQCoKlaCsHtMzMIfMwwxpB0bNmygR48ePPbY\nYwCMa3+r63vN0CQ4RiwMSYkzpuD7AofyKjZv3kxRURGZmZlcfvnlAduHEoSXds4wU6dBMDELQ1Li\nfMEDvezOa/bLf+hEBYsPvktNVRWr1q2kS5cuYfs2uMfELAwJIZKAp5sYRVVVFWeffTb79+9nyZIl\nnHvuuXV6volZ+GPEwpBS+L7kxROnMffZ2wH4xz/+QZcuXejbt+7vuBELf4xYGJKCSKdWix6y2r04\nZQzr169nyJAh3n7CDVuczwv2TCMWAVDVlD369OmjhobLnj17tGfPnpqXl6fFbW7QsW1vUVX1/hsI\n38+CtQVWaBL8jSfTYTwLQ8IJ9y0fiO+//56ioiLWr1/PG2+8wbBhw2Jmy0s7ZxjPIgBmNsSQcHxn\nNgIJhnOYUlFRwciRI1m3bh3z5s3zEwpnH+GmXe22sc4wTUeMWBiSCueL67xmp2eXtJtMv3u7sXLl\nSl577TUuvfRSP4EJ9ML7iod9bsTBPUYsDPWO7zd/qJfbbtPIcX1s21u4aOR9PDv3G55YPQPnhhDO\n2RGw1oDMffZ2iidOA/D2E+p5hsAYsTDUC85vdDezFb4899WT3HnnnVx2WglZIwexxCMIxROn1VoU\nZi8Us59ni4NTQHztMbgk0RFW+wBmAWXA527vMbMhqcHYtrd4j0jvUVW94von9YorrlBAn3/+eVVV\nHXPDVB1zw9Sw/fi2CWRDoGuY2ZDknQ0RkYHAIeB5Ve3h5h4zG5IchPMMwq3FcLbxjVm8sG0qHXO7\nsKNyK0899RR33HFHrft9hx3hbHDrSZjZEH+SZhiiqks9e5waUoxwL2D5pL4sesi/zqX9b7CYRXV1\nNZ2ad2NH5VZ65fbng//5DFsr7Pvneu61k7QWPTTZ1bAmmunahk7SiIVbfDdGNiQPgVKxARa5+OZ3\nxh1s7+J4zTEqmp7g4V8+zAMPPOB9xtFhvb0iYV/zBjkfCp2t6XyGITKSZhgC3t3T3zDDkOTEd6gQ\n7KUM9yI6hw6BBCZ7wSoqh/YkMzOLUxasIFMyKZ9kjQgWPTSZ4onTvIFMm1i//GYY4o8RC0PU+L7o\n0bj2tqdgv/xlN/fh61df4WDpJga2Hsmru/7i9VAAP5GwsT2Tuc/eXuchRkm7yby565XjB/X77PCt\nGw5GLAx1JpIA50s+MYbcbdVeAVBVPumwk+3L3qFd/6F0vuRaRITcbdW1+qsoPLmDWKAYhZuYRTiM\nZ+FP0sQsRORFYDBwqojsBH6tqn9JrFWGUEQyw+D0PpwBT6eQrD+4iu3LVlHY5WL67eiI/GWlX/wD\nIH/miloxDt/iu74zKtHkdRj8SSrPIlKMZ5GchBqe2PiKwPrd77H53Vc4o9MAOo2/ARGr4mPutmoq\nCjO93kVZvwza/26lXz/hhMt+jptpVjCeRSAiFgsRaQpUqWp12MZxxohFbIj0m9ZNe6cn4GTXcKXj\n/Wu8AcuDnU/QfPMpZE+bz1eHN9Fi2m1IRgYd718DWC+/b8wi1MIvt9Om4doYsfAnrFiIJfElwHjg\nfOAoVhZtOfAWMENVN8fZzoAYsUgOgsUMAiVaOYOZALvPzaPlqWd6S/WX9cvgeItqsg5YcYn2v1vp\nl85tr/cA/GZGfEXATdJWoDZGLPxxIxbvAwuBeVip2DWe662AIcB1wFxVfSHOtvqRjmIRqzULdRmX\nh3vB7L6drn2oGMGFU6dT8GkNYIlBTpkVtNy++SNWf/QC/3b3OAq6DPK2L/i0xisA5ZP6UlWgLJty\nspx/qNkR3wCqbwDU7X8XIxb+uBGLLFU9Xtc28SAdxSIZcfPt7HwJiydOqxVngJMzGFV9jpCzsglH\nnniJj/cvoVWn7nT5ye002W/NUubPXEHpI728w5Ad07pTMLtRrefHMkAZrC8jFv6EnQ2xRUBE+gK/\nAM703CfWx3pOIoTCEDvCvXzBcht88Y1T2C/4hVOnA9aXUsHsRqxr8SlfHXif5t270PmW22jZ8xAV\nm/K89306fgol95/0VJzPDxQsdV6zhzluPQkzK+Ie1wFOEfkC+CmwDqixr6vq9viYFh7jWSQOO5kK\nTr7MvjMcZf2sGY2CT2sou/ooALkvVDF/zq9o0vEMuvznHVze/wsWLHVMfbavJGdlk1peiXOY45s9\nGq9KV8az8CcSsfhQVS+Ksz0RYcQiNrhJqgpWwQr8PYpGC1d7Yw0Aud32c2xpKwAKRuxi7Yvf06yw\nA6c0bkxOmbDooclc+PrjACy7/J5aQmRPldrnFYWZfovS3K48jQQjFv5EIhZFwDhgEdaMCACqOic+\npoXHiEV8CZUv4ZzVKH2kFwBtF1gzGr7XO3X4jnUvV1BdVUXzgT29Mx1gCUnO8y28ngc7GtcKcAbL\no/ANqBrPIv5EIhYvAN2A9Zwchqiq3hQn28JixCK2hBMHe1jR/ncr/fIfyvplkNttPwAVh3M4XpHN\nqHPXAjB7VjM2TH2Sxm3zeertfjyz8BJoX2nduKOx9fOOxgDklAlVBUpOmSU8vtmawRagxRojFv5E\nIhbrVLVnnO2JCCMW9YdvnGDHtO60v30DcNLLsBOtqvocIbdpFQDfb/ia5f8xi+y8lpx9z3+QfXYW\nADkrmwB4YxPOqVKg1lAj3MKweKRvG7HwJxKxeAb4k6puiK9J7jFiETt8x/2+5yXtJrPjgT4A3pwJ\n53QowBmtLc/i0h98zlMfF5F3bA1L7nqezGbNKflrMc0KmrPhX129Kdz2vQWzG3nFYscDfQIOQ+ob\nIxb+RCIWG4FOwFasmIV36jR+5oXGiEV0RPpNHCh125lHsWu40naBsGu49bfU/6yv2FPVjC2z3uWL\ntzYy+Kkb2ZtVCFiC8tXWH9B8szVrXzBiF2Xz23o9CbcJYdH+Lm4xYuFPJGJxZqDrZuo0dQk17ved\n+Sif1Jf8mdZ/66PDetcSi6oJB6jYlMd5A74EoFPjMr6qLKC8sinHDlTyXXVb77CkYlMeOWXi7WvH\nA31o/7uVfsMPp20XTp1eK4OzPjBi4Y/rJeqJFAVDfHCbuGS/yDa7hiut2+yj+PrlAEzfcLH3s++/\n3s9vf76YAb8aw/f7uwDWjMdzZ70CQPHhCeT/boO3z4JPq2sJUcnMFX6ew7IwS84N9UNEq05F5FzA\n/sv4QFU/i4tVLjGeRWxwmz9hz4YAHG9R7R1KAHS/4gvy9pXy5PXzqTl2nI7/9e90650DwPdVjb15\nFlUFWmuhmDM+YT87kDDU9z4fxrPwx7VnISJ3A7cAdl7FCyIyQ1WfjItlhjrjZhYh0Ofeorg+Kztz\nCq13J3vgPioO51BVYL3w1w5dRk15Ob++4SOOHammeHoJXXsc4IPXOnnbZw/cB0D+hFJKH+nlrUlR\nPqkvixzTsG52KHPaHqweaF0oaTeZZrRIWCwuWYmkUtbNQH9VPQwgIo8A/wcYsUhS3L5A9gvnzZL0\nDAusNR3QfuFqT2zBE2fo0x12NGb4QMsjWLI5n/fueJ0TFUf4+d8upkPPw0zfcB54MjirNuV5Z1CO\nDutN1oGTHkrutmpK2k32K+nvu2o01O8Ua2/D2kX9mbUx7TQNiCjPAjhfVas85znA8kTmXphhSGDc\nftMGqzFhX7OnN7MH7mPvt7lk5R4D4Gc93qH0aAE/aVUKwPw9Ndx1+y5yLiumebdCzmi9n7L5bb19\nVRWo15Owk7viFbCMlZdhhiH+ROJZzAI+EZG5nvMxgKmRmYQEe1mCfUPbGwfbguEVD08QssWEUiqm\ndffOaJQeLWDLkXw216whO1to0qwFLSffT/+zvgJ2sKeqmbUuxJOlmbOySa3KWG0X1FDyu/gELE3w\nM35EIhanATcCF2HlWNyIVUHLkAL4ZmD6njcCvyK49kKwHdO6M7zDJvYeawrAliP5NK3ax8XjvyOn\nRQ6/faETD17wL6ZuHQzA3m9zaV4m5H5qbUtcUXgyUzN3m1BRmFlr53O3dhsSS0b4Jl6Gq+oqVX1C\nVf9XVVcDl8bSGBEZKSJfiMgWEflZLPtOBkLt+Rnv59prOYonTvPuZG6LxtFhvQO+kMMHrmb4wNUU\nzG7EgqW92VPVjD1VzRid8388e+s77N2yh4smdOedsp78/vORVBzOoeJwDlm5x8ifuYKKwkzvUKas\nX4Z3NiXfMz0a6Jm+MzBGKJIHN5WybgemAB2BrxwfNQeWqeqPY2KISCbwJTAc2AksB8aFSi9vyDGL\naLIwnSnUvsOOXcPVOxXqXMhln187dJnV9shxpk9ezLY15Vzy+8voNLQzW77Pp2JTnnchWYsJpbWe\nXT6pb636FHYdTQhebTveU6Xh+jcxC3/ciEULIA/4H8D5bX9QVffFzBCRHwIPqeolnvOfA6jq/wS7\npyGLhRtCVcB2Xi+eOI2yq4/WWhhW1i/DKxAf7+sAwIBWW/nbTz9g9Vvb6PnAOJr262d16Fk5ai8O\ns8XGd5FYIFuSFSMW/rgpq3cAOIBVyyKetAV2OM53Av19G5mNkd3jjEH4Ljd3Vp+qmNSX4xXZ3iBk\n9sB9tJ9Qyv6B1svfNfc78k45wpYj+XS7aQiFg77m6zYXkdu0AoBjZU2grIk3xmEXtHE+O1S2aH3E\nJeo7qSsdiTSDMw/oDOTY11R1aUwMEfkRcImqTvKcXw/0U9WfBLsnHT2LeFT3tuMAzmGIX62Kq49y\nvMIqmpt1IJPzBnzJJxutpKpLuq9m7RubuWpcK0SE5QcK2fCvrt77qwrUW8QGrKGF73qOVHtZjWfh\nTyQZnJOAu4F2wBpgAFZS1tAY2bITaO84bwd8E6O+U4ZYvkzOUv12YBM8pfk9cQqA5putIKRdrCbv\nlCP8feUARp27lpoTNcy+fzEb5pcyoPP59OjfilUfd/EmXIGV+n1saSvefvbkIjDneo5we4oYUoOI\nk7KAj1W1l4h0A36jqmNjYojIKVgBziJgF1aA8zpVXR/snnT0LOKFM0MTTn77gzVsONj5BHcOWATA\n8gOFrNrVnnYt9/LJf89j+/x1XPjvgzjW51rgZPk8G9+y/75BS+ey81SZCjWehT+R5FlUqWqViCAi\njVR1k4h0DX+bO1T1hIjcCbwLZAKzQglFKhKv/S7cxAGcP/f7+1TL6/BMZVYVKFkHMnlrUGsAdkxr\nz392f5vJtx+gbME6Jv30TDZcPIasHZYH0mjhylreQT7UWksCtadAnddTQSgMgYlELHaKSEvgn8AC\nEdlPjIcJqvoW1paIaUm8XpRwu4bb06T29eabT6FqghXEhJNTp/JKGwCOb83mVzP7Ur7oEQoHjubQ\nmD7kVlXx9pR7ACgqm+HdDR2svAlfbyLW1bYNicfN1OkPsYYe6rg2CGgBvKOqx+JrYnDMMKQ2gfYW\ntc+d3/R2opQ9dKgozKRgxC6+3mtt9GOv7dhXvYvGp7WhcXlGrcK5dp5EuNJ3qRyXMMMQf9yIxdNA\nP6x4wjtYArG7HmwLixGL2gQTiIrCzFqLuaD2QjGwhOPAmRmULplHy0EtaZ05mIOdTwB4k7XsAjXB\nyvGnE0Ys/HGTZ3EbgCegeSnwrCdRawmWeCxT1eoQXRgSgDNDMx+rfJ1zo578mSu8C8WqCpSqggz2\nPfMG29e8zYnKQTS9Ub0FamwPxL7fO8viIxrR1phIlaBnQyeiPAvvTSKNsXZQvxT4YaIU2HgWtXEu\nOXcmXZVP6suihyZ7a0RUFWitPIrmm09hz59msrZiORMnTuSLPv2QjAxvDQogbhsTJyvGs/AnrGch\nIk8BL6rqMvuaqlZiBSLTNhgZL+oyjne7ya9zgRg4Csh4617WsIoudPQMS1b1OMDmiuW0LezL/uq+\nfHTn7bWGGMGe49auuv5ehuTATczibqyl6G2Al7GEY0092BaWhu5ZBKud6ftZuArZ3Zv34rt/y6DL\nTZPIyMz01sUMtflwssUrzPaF8SfSrQBKPEcO8CLwkqp+GT/zQpPuYhHJN65ztsO5mtTG3mAYTr5Q\nA/74v2Tm5NDu4RUoyiu7ZtbqK1ByVaDrkdqaChix8CfamEVvrMpZ56hqZrj28SIdxCKW34jBvu2L\nHprhrSFht9vS8QTrl73E0FMvI/vSIbU8iWiem24p3EYs/InEs8gCRmJ5FkXA+1hDkn/Gz7zQpKJY\nxOuF8k3nduKbjj3+snyu/dG1NO/cmbOm3Enho+tqtQ9Ufj/dPIdwGLEIgKqGPLCK0cwCvgNeB8YD\nTcPdVx9Hnz59NF0Y2/aWkOfO64HaOq+NuWFqwPuH/nq69iyZoiIZ2qqgk17VZmLQ50RKqH5i9Yz6\nBFihSfA3nkyHmwDnEuAfwGyNYbGbWJCKnkW0BFvBaeMbdLSnS+FkWf3fjujBkCFDaKYt2LpnC5O7\n3+fXZ6C+g7VJRkx17zjiVlWwivT+GPiV5/wMrHoTxrOIAZF++465YWqtn33vH/rr6X4ex+HDh/Wu\nu+7S4jYTAvYXyGtx2hbs83QE41lE7lnYiMg0oAYYqqpneQrhzFfV8+MhYm5oSJ5FIEKVzXOu3dh3\nrJxmp7RgzjfPxvTZbvdKTUWMZ+FPJNW9+6vqHUAVgKruB7LjYpUhKHbCFVCrSrc91LCv2+s+9hz7\njiV73qTJ0BMh+wp0Hopgy98NaYxbFwT4BKvOxCrPeT6wOpFuUaoNQ5wufDzc+TE3TPUOT8a2vUVX\nrlypLVq00E6dOunOnTtrDSOCDTfcfp7uYIYhdRqGjAfGAucBzwHXAL9U1VdjL2HuSPdhiLPCFITe\nyNj32rp16xg8eDDNmzenZ9UFND2lWUQeQDoOLSLBDEP8ibRgbzesHAsBFqnqxngZ5oZ0Fwsnkby8\nqsr555/P7t27Wbp0KR07doyzdemHEQt/3EydioZp5KZNPEhHsYgkaStU261bt3L8+HG6dOkStR3G\nszBi4cRNgHOJiPxERGpt0iEi2SIyVESeA26Ij3npTay3M9y2bRsPPvggY9veQocOHfjV0EcDBjDd\nPDeUUNTV7kRt42ioI+GCGliLxqYAy7Bqbm4AtgLbgWeAXokKuKRagDOWDP319FrnI675b+3QoYPm\n5eXpZT8oqVPfzhyOYKR7oBMT4PTXgogaQxbWUvWWMTUCfgSsx8rj6Ov2vmQXCzczCuESocLdr6r6\nzTffaOfOnTU3N1eXL18e1ha3L3p9zH5E23+8bTNiUUexiJsRcBbQFXgv1cQi0j/aSNq7affdd9/p\nWWedpU2bNtWPPvooIjuCPSfdvQY3GLFIUrHwGpOCYhErwr2gwYYGixcv1ry8PB1y6mVh+47Ui2nI\nGLHwPyKuZyEiXTROBW9E5D3gPlUNOsXhszFyn+3bt8fDlKipa9k8m3A7n1dXVzP+TCsHY8aGR8nN\nzU2pJeXJXvvCzIYEIFJ1Af4A3BbFfQuBzwMcVzravEcKeRbRfCPHYqxdUVGhF154ofZrOShkxmUk\nNhlqg/Es/I5IdiSz2Qfc7knQ+gxYo6qrXYjSsCieldSEWtodrE5lXb9Jrzn9RpbufYd91eW8+uqr\nFBcX16m/WNhkaCCEUxOgC57kLce1fkBLYDBwV6yUixTwLGIdhY9kWfjVp9+oRUVFmpGRoT/MGxqz\nZ7n9PJYk+zoTjGfh/36GbWANFQ5g7Wo+C7gHK+U7P2ZGQDGwEziKVZHrXTf3xVss7D/oeIlDJLMQ\nx48f11GjRqmI6PPPPx+27/okmV/6aDFi4X+42ZGsh4g0As7B2ifkMHA5cLaIoKqnxcC7mQvMrWs/\nsSYe7rmbfT8CkZmZyYABAxgzZgzXX3894B8kjPdwIpmCkslkS0Mh0oVkW1W1g+M8T626Fgkh2deG\nBJqR8P0jD1XA5qWdM7i27SSOVB+i2Sm5AdslC25+11TCzIb4E6lYlKpq0ixhTHaxcBJoublvENTJ\nSztnUF1dTafm3fi2agc7dn9NQUGB3/2G+GDEwh+32xeuBlZhLU03RIEtFOFyIeyNfGpqarj11lvZ\nXrmFhx9+uJZQ2PdHixEaQ1SEC2pgJUA9hbVPyB6shWSvAr8BxiYy4JLoPIt4UVNTo1OmTFFAH3zw\nwYBt6iOoGK5yVjqDCXD6a0HEN0A7YBRwP/C3RBpf32IRi8SnUAvJ7H9nzJihgHZrdo7W1NTUwWJD\ntBixiIFYeG+Ei4A/J9L4RHsWkYqHm/Zj296i15x+oz7zzDMRCUVD++aPN0Ys/I9IqnsjIr1E5P+J\nyDbgMax9RFKWWBdh8S00Y//rpuBMSbvJnJ83kKlrf8+ru2ax8KFPERHvvc6Nj533pPKMgyG1cBPg\n7IK1v+l1wCGseMVgVd0mIlvjbF9cqesLFmoz4PJJff3aFk+cFlQ0Nh78jLUVnzKwcDg9cvu4yp2I\n1P76EhYTQE1TwrkeWAVpPgF6BPisNJFuUaTDkLq66m6HEWPb3lKrJH+oQjaqqo8//rgCWlJSoidO\nnAjYX13tMkQGZhjirwVhG1ip2C8D3wJ/w8rezNIUFItEEqwexbRp0xTQq666Sq+4/slan8Vrs+FI\na1o0RDEyYhGFWHgbQlOsHdTfwFq/8VdgTyKNT7RYhHqJfMUhUNurT79RO3XqpKNHj9ajR49GXbEq\n2qXyhuAYsfA/Ii5+AyAirbDqZpao6pDoBkB1pz4yOIOlZ9vXgn1+dFjvWhmbvv3Z/Gn5b8jLyyMn\nJydk8RtD/WIyOP2JSiyShfpM9w619gH8X+7iidNotHB1wJ3DdlRupftVhTz99NNkZma6fp6zD7O7\nWHwxYhGARLs2dTmSKSnLrVt/UasRKohecMEFeujQoZg93xBbMMMQvyOiPIt0JtKNd+xpUPsI5QXY\nvPvuu3x66D36nt+Xt956i6ZNm0b9fIOh3qmL0gD3JFLpEh3gjIRFixZpTk6O9urVS/ft2+fqnnh6\nEsZLCQ3Gs4i5Z3Fv3eUqsfhmVzrPA2VNuukrUMamqtKkujkLFiwgLy8v4D2+BPNW3Hgh4doEiqUY\nDCGpi9IAOxKpdIE8i1h9YwbqJ9R0aLD2Y9pc702s8l3rkehv91hveJROYDwL//e9TjfD14k0Ptph\niNuXJBJxCNTf8PxizZZG2j9vcEg7fLM+60p9v9jpKCRGLKIQC+AgUOH51/eoTqTx4cQiFvt6uBUW\n3zaXFFytrVu31jPOOEO3bdsW0d6lhsRjxCIKsagXI6yNizYBa7EK97raeLmuAc5I9yj1PQ8mKhs3\nbtSCggJtnNFER/9gbEwyLGPldRjcYcTC/wgb4BSRf4U6YhQ6WYC1UO0c4Evg5zHqNySBkqzcLin3\nvdc+379/P0VFRYgIqzes8hbadUOoJK9A2aDRYgKahmgIm8EpIuVYe3r8A2v1aa06nKr6fkwNEikG\nrlHV8eHaxiKDM1RGZKTp13a+xZNPPsmQIUPo0aNHnWwzJA6TwemPm6nT07C+6XsA/wsMx1pA9n6s\nhcLDTcDbwT4UkckiskJEVpSXl0fUcbDpyWBCEEogfGtTXNHmOn4671ZK2k1m2SPrXAtFKC8mUDEd\ngyFRRLoVQCNgHFaM4b9U9ckI7l2IJTy+/EJV53na/ALoC1ylLgyLx9qQYAvF7PNAfPvttwwaNIiq\nqir6Vw8nUzLD7gtiSG6MZ+GPq42RPSIxGksoCoEngDmRPEjDbIwsIjcAlwFFboQi3thCcXRYbyB4\nzGBMm+tZsucNjlQfYlDrUZwY3ZcTPv0YDOmAm7J6z2ENQd4GfqOqn8faCBEZiVUtfJCqHnF7X+na\n7a7a2ZmYc5+9PeQ6jpd2zvCKg+0R+G4M5GTq2t+ztWAtxw8cZeHChTz+1w0hA5HOZ7tZCWpWixqS\nCTcBzhqs/U0BnI0FUFV1H+4P/owtQCNgr+fSx6p6W7j7wg1D4vmylbSbTOGPW/GHRx7l4tYjeG/P\nWyGHLObFTy3MMCQAiZ67rcsSy3QnAAALQUlEQVThNs8i0rRmu2243IbBv5yqn3zySdB+3FwzJCeY\nPAu/w1XMItUJtmgq3Dd9oL1Jjxw5wr333svueYdZ8u3fPP3NdBXQ9F3i7jtkMd6HIalJtFrV5bA9\ni2hTtEMR6P7KykodNmyYZmRk6Lx58/zaR1tD05B8YDwLvyPhBtTliGW6d7gX++jRozpq1CgFtF/e\nIFf3RGuTEZnEY8TCiEVUL+KxY8d0zJgxCuiMGTMivt+Qehix8D/SLmYRLqkqWNHdYAlYxROncbTy\nIKUbN3Jeiwu45ZZbQj7fOU1rMKQTaScWoQKLgQKITlGY6xMIrSo6l9mzbiMzM5PKyp/QuHHjsM9v\ntHB1wOtug5cm49OQrKR9wV7bY7Bf1mBrLHxf8n98/TTrXnuS8ePHU11d7ScUbjc7dtoRrE0478dg\nSAbSzrOIdPrRHjY0ctyvquQXN6L0yBdc1/lHZGZm+vXrZvGZGzsSIQxmitYQFYkOmtTliEcNzpqa\nGr333nsV0Pvuu8+vbqahYYAJcPodaTEMcbryzmFHoM99KZ44rVYV73NanM8f//hH7rzzTjaXdWBc\n+1tdLw8P1c4sMTekOmm/faHbjE3bNf/www+ZPXs2jz32GBkZGX6fuyVQjMS4/qmDWRviT9qLBQTf\n3Nj58q5Zs4ZevXrFwUpDKmLEwp+0GIaEw3eGwff8iSeeoHfv3rz55psR9ZssQ4tkscOQ3jQIsQjF\n9OnTufvuuykuLmbEiBG1PgtX1i5ZhhXJYochvUn5Yci/7T4v7MvinR5duLpW27/+9a/cdNNNjB49\nmjlz5pCdnR1Xe52Y6cvkxgxD/El5sVixYkVUWY9ffPEF3bt3Jz+rDRe3HsGru2bFy0xDCmLEwp+0\nGIb4xiDcTJ127dqVV155hYtajSBT3OWmmdiAoSGTFmLhxPeFtt19exrzjTfeYNmyZQBcffXVvPbN\nrJBp4E5iOWwwwmNINdJiGBIOO2Zx27iOXHHFFVxwwQUsXrwYkVr7JcU9jmDiFKmDGYYEINEppHU5\nIkn3Xrx4sebk5GjLrFa6d+/egG1iiSlgk9pg0r2TM91bRH4rImtFZI2IzBeR06PtK1C6d1H+FQwv\nGkGnTp34ctcmWrVq5f3MzerRaO0IRLyeZzDEm6QYhohIrqpWeH6+C+iuMdgKwObmm2/mww8/5P33\n3+e00wJtimYw1MYMQ/xJCs/CFgoPTam9P0nE2IvDbCGcPn06H3zwAaeddlrU+4cab8DQ0EkKzwJA\nRB4GJgAHgCGqGnbX41Cexbp165gyZQovv/wyp58e9ajG0EAxnoU/9eZZiMhCEfk8wHElgKr+QlXb\nA38H7gzRT9hd1Ddt2sSwYcMoLS2lsrIyLr+PwdDQSBrPwkZEzgTeVNUe4doG8iy2bNnCwIEDqamp\n4f3336dr166mrqUhYoxn4U9SlNUTkc6qutlzegWwKZp+Lj9tHGsbfcSxY8d477336Nq1K2BEwmCI\nBUkR4AR+7xmSrAVGAHdH08nMzx6nsLCQBQsW0KNHj4BBSROoNBiiI+mGIZFgD0P27NlDixYtyMrK\nQlX9MjMNhkgxwxB/ksWziJry8nIGDRrEjTfeCGCEwmCIEyktFidOnGD48OGUlpZy8803J9ocgyGt\nSYoAZ7Rs3ryZEydO8PrrrzNkyJBEm2MwpDUpLRZHjhzh9ddfD1oOz8yCGAyxI6UDnCJSDmxPtB0+\nnArsSbQRcSTdfz+wfsemqpqfaEOSiZQWi2RERFakcxQ93X8/aBi/YzSkdIDTYDDUH0YsDAaDK4xY\nxJ50j6qm++8HDeN3jBgTszAYDK4wnoXBYHCFEQuDweAKIxZxQET+ICKbPEWI54pIy0TbFAtEZKSI\nfCEiW0TkZ4m2J5aISHsRWSIiG0VkvYhEtfI5nTExizggIiOAxap6QkQeAVDV+xNsVp0QkUzgS2A4\nsBNYDoxT1Q0JNSxGiEgboI2qrhKR5sBKYEy6/H6xwHgWcUBV56vqCc/px0C7RNoTI/oBW1S1VFWP\nAS8BVybYppihqt+q6irPzweBjUDbxFqVXBixiD83AW8n2ogY0BbY4TjfSZq+TCJSCPQGPkmsJclF\nSi8kSyQishAItAnJL1R1nqfNL4ATWEWIU51AhULSbgwrIs2A2cA9PltUNHiMWESJqg4L9bmI3ABc\nBhRpegSGdgLtHeftgG8SZEtcEJEsLKH4u6rOSbQ9yYYJcMYBERkJ/BEY5Gb/k1RARE7BCnAWAbuw\nApzXqer6hBoWI8QqsfYcsE9V70m0PcmIEYs4ICJbgEbAXs+lj91sx5jsiMgo4HEgE5ilqg8n2KSY\nISIXAR8A64Aaz+UHVPWtxFmVXBixMBgMrjCzIQaDwRVGLAwGgyuMWBgMBlcYsTAYDK4wYmEwGFxh\nxMJgMLjCiIXBYHCFEYsoEJFqEVnjqXvwmYjcKyIZPp/ZRx/Hz7tFZJfjPDtA38UioiLSzef6rSIy\n1efaet92AfprLCLve5aYB2vznohc4nPtHvt5IjJdRC4McX9LEZkSyo5IEJFsEVnqyRo1JAlGLKKj\nUlV7qerZWPUdRgG/9vnMPlbaPwNPA39yfHYsQN/jgBVAic/1c4DV9omI5ABnAJvD2HoTMEdVq0O0\neTHA80o81wH6Yy21D0ZLIGZi4fnvsggYG6s+DXXHiEUdUdUyYDJwp9RxC3fPisdBwM1YouGkJ7DK\n5/zLMCIAMB6wV8H+WEQ+9Xg10x3exmvAZSLSyNOuEDgd+FBEznI+R0T+KSIrPV7NZM/9vwc6efr9\ng6fdvSLyuee4x+7XU0Fspuf630VkmIgsE5HNItLPYfc/PbYbkgVVNUeEB3AowLX9wA+AamCN55jr\n0+Yh4L4Q/f4Ya8UjWMJwnuOzvVhbNW7zHHuAZ8PYmQ3s9vx8FvA6kOU5nwpMcLR9E7jS8/PPgD94\nfr4XuMnRrpXn38bA50BroBD43NGmD9Yai6ZAM2A9Vn2IQqwl+z2xvqhWArOwlr9fCfzT0UcmUJ7o\n/9fmOHmYMWHssL2KSrWGHNEwjpN7VrziOV8lIu2xXhxvfEJEngJKHec/x3pxZ6rqJs/lU4HvPT8X\nYb3Eyz0OUGOgzPFseygyz/PvTZ7rlwA3OtrdJSLFnp/bA52B3T6/x0VYQnnYY9sc4GLgX8BWVV3n\nub4eWKSqKiLrsMQEAFWtFpFjItJcrcpVhgRjhiExQEQ6YnkUZeHahuijNVbpunc8l14GxnqGNudg\nfTs76Y717Y2I9McSlq0OoQCoBHLsRwDP6cl4SVdVfcjR9p9AkYicBzRWqxZlE6Clqn7jec5gYBjw\nQ1U9FyuGkoM/oYZjRx0/1zjOa/Cvr9IIqArRl6EeMWJRR0QkHytw+ZR6/OcouQZ4S1WPAqjqVqxv\n7Iuw3HbfwrFnA2s9P38JvKeqf3Y2UNX9QKYnGLoIuEZECjx2txKRMx1tDwHvYQ0L7MDmEGCJo8sW\nwH5VPeKZhRnguX4QaO5otxQYIyJNRKQpUIy1/Ns1HvEsV9XjkdxniB9mGBIdjUVkDZCFNQb/G1ax\nm7owDjhHRLY5rrUGrgNygTfsiyLSCqu8wHeeS72Az4L0Ox+4SFUXisgvgfmead7jwB1YcRCbF4E5\nnJwZuRQr+GnzDnCbiKwFvsAzQ6Kqez1Bys+Bt1X1pyLyLPCp576ZqrraEzh1yxDA1JJIIkw9izTA\nM9vwgaquDPBZb+BeVb0+in5XAf0T8e3uiXP8XFW/qO9nGwJjxKIBICI3YcUrwk2zJgWeZLUSVX0+\n0bYYTmLEwmAwuMIEOA0GgyuMWBgMBlcYsTAYDK4wYmEwGFxhxMJgMLjCiIXBYHCFEQuDweCK/w+H\n7DRkx099pAAAAABJRU5ErkJggg==\n",
      "text/plain": [
       "<matplotlib.figure.Figure at 0x1ff363a2160>"
>>>>>>> origin/forge-dev
      ]
     },
     "metadata": {},
     "output_type": "display_data"
    }
   ],
   "source": [
    "fig, ax = plt.subplots()\n",
    "\n",
    "ax.hist2d(pd.to_numeric(data['delta_e']), cv_prediction, norm=LogNorm(), bins=176, cmap='viridis', alpha=0.9)\n",
    "\n",
    "ax.set_xlim(ax.get_ylim())\n",
    "ax.set_ylim(ax.get_xlim())\n",
    "\n",
    "ax.plot(ax.get_xlim(), ax.get_xlim(), 'k--')\n",
    "\n",
    "ax.set_xlabel('DFT $\\Delta H_f$ (eV)', fontsize=20)\n",
    "ax.set_ylabel('ML $\\Delta H_f$ (eV)', fontsize=20)\n",
    "\n",
    "fig.set_size_inches(3, 3)\n",
    "fig.tight_layout()\n",
    "fig.savefig('oqmd_cv.png', dpi=320)"
   ]
  },
  {
   "cell_type": "code",
   "execution_count": 28,
   "metadata": {
    "collapsed": true
   },
   "outputs": [],
   "source": []
  },
  {
   "cell_type": "code",
   "execution_count": 28,
   "metadata": {
    "collapsed": true
   },
   "outputs": [],
   "source": []
  }
 ],
 "metadata": {
  "kernelspec": {
   "display_name": "Python 3",
   "language": "python",
   "name": "python3"
  },
  "language_info": {
   "codemirror_mode": {
    "name": "ipython",
    "version": 3
   },
   "file_extension": ".py",
   "mimetype": "text/x-python",
   "name": "python",
   "nbconvert_exporter": "python",
   "pygments_lexer": "ipython3",
   "version": "3.5.2"
  }
 },
 "nbformat": 4,
 "nbformat_minor": 2
}
