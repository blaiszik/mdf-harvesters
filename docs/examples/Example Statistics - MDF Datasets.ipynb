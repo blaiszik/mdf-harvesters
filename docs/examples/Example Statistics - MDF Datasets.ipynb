{
 "cells": [
  {
   "cell_type": "markdown",
   "metadata": {},
   "source": [
    "# Example Statistics\n",
    "Example: We want to know how many datasets are in MDF and which datasets have the most records.\n",
    "\n",
    "## Note: This example is not kept up-to-date with the latest statistics.\n",
    "If you want the current MDF statistics, you must run this code yourself."
   ]
  },
  {
   "cell_type": "code",
   "execution_count": 1,
   "metadata": {},
   "outputs": [],
   "source": [
    "from tqdm import tqdm\n",
    "import pandas as pd\n",
    "from mdf_forge.forge import Forge"
   ]
  },
  {
   "cell_type": "code",
   "execution_count": 2,
   "metadata": {},
   "outputs": [],
   "source": [
    "mdf = Forge()"
   ]
  },
  {
   "cell_type": "code",
   "execution_count": 3,
   "metadata": {},
   "outputs": [
    {
     "name": "stderr",
     "output_type": "stream",
     "text": [
      "100%|██████████| 50/50 [00:16<00:00,  3.06it/s]\n"
     ]
    }
   ],
   "source": [
    "# First, let's search for all the datasets. There are less than 10,000 currently, so `search()` will work fine.\n",
    "res = mdf.search(\"mdf.resource_type:dataset\", advanced=True)\n",
    "# Now, let's pull out the source_name, title, and number of records for each dataset.\n",
    "mdf_resources = []\n",
    "for r in tqdm(res):\n",
    "    q = \"mdf.parent_id:\" + r[\"mdf\"][\"mdf_id\"]\n",
    "    x, info = mdf.search(q, advanced=True, info=True, limit=0)\n",
    "    mdf_resources.append((r['mdf']['source_name'], r['dc'][\"titles\"][0]['title'], info[\"total_query_matches\"]))\n",
    "df = pd.DataFrame(mdf_resources, columns=['source_name', 'title', 'num_records'])"
   ]
  },
  {
   "cell_type": "code",
   "execution_count": 4,
   "metadata": {},
   "outputs": [
    {
     "name": "stdout",
     "output_type": "stream",
     "text": [
      "Number of data resources: 50\n"
     ]
    },
    {
     "data": {
      "text/html": [
       "<div>\n",
       "<style scoped>\n",
       "    .dataframe tbody tr th:only-of-type {\n",
       "        vertical-align: middle;\n",
       "    }\n",
       "\n",
       "    .dataframe tbody tr th {\n",
       "        vertical-align: top;\n",
       "    }\n",
       "\n",
       "    .dataframe thead th {\n",
       "        text-align: right;\n",
       "    }\n",
       "</style>\n",
       "<table border=\"1\" class=\"dataframe\">\n",
       "  <thead>\n",
       "    <tr style=\"text-align: right;\">\n",
       "      <th></th>\n",
       "      <th>source_name</th>\n",
       "      <th>title</th>\n",
       "      <th>num_records</th>\n",
       "    </tr>\n",
       "  </thead>\n",
       "  <tbody>\n",
       "    <tr>\n",
       "      <th>12</th>\n",
       "      <td>oqmd_v3</td>\n",
       "      <td>The Open Quantum Materials Database</td>\n",
       "      <td>687393</td>\n",
       "    </tr>\n",
       "    <tr>\n",
       "      <th>36</th>\n",
       "      <td>h2o_13_v1</td>\n",
       "      <td>Machine-learning approach for one- and two-bod...</td>\n",
       "      <td>45482</td>\n",
       "    </tr>\n",
       "    <tr>\n",
       "      <th>40</th>\n",
       "      <td>nist_xps_db_v1</td>\n",
       "      <td>NIST X-ray Photoelectron Spectroscopy Database</td>\n",
       "      <td>29189</td>\n",
       "    </tr>\n",
       "    <tr>\n",
       "      <th>22</th>\n",
       "      <td>ab_initio_solute_database_v3</td>\n",
       "      <td>High-throughput Ab-initio Dilute Solute Diffus...</td>\n",
       "      <td>23454</td>\n",
       "    </tr>\n",
       "    <tr>\n",
       "      <th>29</th>\n",
       "      <td>amcs_v1</td>\n",
       "      <td>The American Mineralogist Crystal Structure Da...</td>\n",
       "      <td>19576</td>\n",
       "    </tr>\n",
       "    <tr>\n",
       "      <th>8</th>\n",
       "      <td>w_14_v1</td>\n",
       "      <td>Accuracy and transferability of Gaussian appro...</td>\n",
       "      <td>9693</td>\n",
       "    </tr>\n",
       "    <tr>\n",
       "      <th>30</th>\n",
       "      <td>bfcc13_v1</td>\n",
       "      <td>Cluster expansion made easy with Bayesian comp...</td>\n",
       "      <td>3806</td>\n",
       "    </tr>\n",
       "    <tr>\n",
       "      <th>32</th>\n",
       "      <td>cip_v1</td>\n",
       "      <td>Evaluation and comparison of classical interat...</td>\n",
       "      <td>3291</td>\n",
       "    </tr>\n",
       "    <tr>\n",
       "      <th>33</th>\n",
       "      <td>cip_v2</td>\n",
       "      <td>Evaluation and comparison of classical interat...</td>\n",
       "      <td>3291</td>\n",
       "    </tr>\n",
       "    <tr>\n",
       "      <th>23</th>\n",
       "      <td>sluschi_v3</td>\n",
       "      <td>Solid and Liquid in Ultra Small Coexistence wi...</td>\n",
       "      <td>1546</td>\n",
       "    </tr>\n",
       "    <tr>\n",
       "      <th>20</th>\n",
       "      <td>surface_crystal_energy_v1</td>\n",
       "      <td>Data from: Surface energies of elemental crystals</td>\n",
       "      <td>1216</td>\n",
       "    </tr>\n",
       "    <tr>\n",
       "      <th>37</th>\n",
       "      <td>khazana_polymer_v1</td>\n",
       "      <td>Khazana (Polymer)</td>\n",
       "      <td>1073</td>\n",
       "    </tr>\n",
       "    <tr>\n",
       "      <th>11</th>\n",
       "      <td>doak_strain_energies_v4</td>\n",
       "      <td>GeTe-PbTe PbS-PbTe PbSe-PbS PbTe-PbSe PbTe-SnT...</td>\n",
       "      <td>795</td>\n",
       "    </tr>\n",
       "    <tr>\n",
       "      <th>41</th>\n",
       "      <td>second_order_magnetic_prop_v4</td>\n",
       "      <td>On the calculation of second-order magnetic pr...</td>\n",
       "      <td>624</td>\n",
       "    </tr>\n",
       "    <tr>\n",
       "      <th>43</th>\n",
       "      <td>ohmic_si_c_contacts_v1</td>\n",
       "      <td>Synthesis of Ti3AuC2, Ti3Au2C2 and Ti3IrC2 by ...</td>\n",
       "      <td>360</td>\n",
       "    </tr>\n",
       "  </tbody>\n",
       "</table>\n",
       "</div>"
      ],
      "text/plain": [
       "                      source_name  \\\n",
       "12                        oqmd_v3   \n",
       "36                      h2o_13_v1   \n",
       "40                 nist_xps_db_v1   \n",
       "22   ab_initio_solute_database_v3   \n",
       "29                        amcs_v1   \n",
       "8                         w_14_v1   \n",
       "30                      bfcc13_v1   \n",
       "32                         cip_v1   \n",
       "33                         cip_v2   \n",
       "23                     sluschi_v3   \n",
       "20      surface_crystal_energy_v1   \n",
       "37             khazana_polymer_v1   \n",
       "11        doak_strain_energies_v4   \n",
       "41  second_order_magnetic_prop_v4   \n",
       "43         ohmic_si_c_contacts_v1   \n",
       "\n",
       "                                                title  num_records  \n",
       "12                The Open Quantum Materials Database       687393  \n",
       "36  Machine-learning approach for one- and two-bod...        45482  \n",
       "40     NIST X-ray Photoelectron Spectroscopy Database        29189  \n",
       "22  High-throughput Ab-initio Dilute Solute Diffus...        23454  \n",
       "29  The American Mineralogist Crystal Structure Da...        19576  \n",
       "8   Accuracy and transferability of Gaussian appro...         9693  \n",
       "30  Cluster expansion made easy with Bayesian comp...         3806  \n",
       "32  Evaluation and comparison of classical interat...         3291  \n",
       "33  Evaluation and comparison of classical interat...         3291  \n",
       "23  Solid and Liquid in Ultra Small Coexistence wi...         1546  \n",
       "20  Data from: Surface energies of elemental crystals         1216  \n",
       "37                                  Khazana (Polymer)         1073  \n",
       "11  GeTe-PbTe PbS-PbTe PbSe-PbS PbTe-PbSe PbTe-SnT...          795  \n",
       "41  On the calculation of second-order magnetic pr...          624  \n",
       "43  Synthesis of Ti3AuC2, Ti3Au2C2 and Ti3IrC2 by ...          360  "
      ]
     },
     "execution_count": 4,
     "metadata": {},
     "output_type": "execute_result"
    }
   ],
   "source": [
    "# Finally, we can print the data we gathered.\n",
    "print(\"Number of data resources: {n_datasets}\".format(n_datasets=len(df)))\n",
    "df.sort_values(by=\"num_records\", ascending=False).head(15)"
   ]
  },
  {
   "cell_type": "code",
   "execution_count": 5,
   "metadata": {},
   "outputs": [
    {
     "data": {
      "text/plain": [
       "832189"
      ]
     },
     "execution_count": 5,
     "metadata": {},
     "output_type": "execute_result"
    }
   ],
   "source": [
    "# Bonus: How many records are in MDF in total?\n",
    "df[\"num_records\"].sum()"
   ]
  },
  {
   "cell_type": "code",
   "execution_count": null,
   "metadata": {},
   "outputs": [],
   "source": []
  }
 ],
 "metadata": {
  "kernelspec": {
   "display_name": "Python 3",
   "language": "python",
   "name": "python3"
  },
  "language_info": {
   "codemirror_mode": {
    "name": "ipython",
    "version": 3
   },
   "file_extension": ".py",
   "mimetype": "text/x-python",
   "name": "python",
   "nbconvert_exporter": "python",
   "pygments_lexer": "ipython3",
   "version": "3.6.4"
  }
 },
 "nbformat": 4,
 "nbformat_minor": 2
}
