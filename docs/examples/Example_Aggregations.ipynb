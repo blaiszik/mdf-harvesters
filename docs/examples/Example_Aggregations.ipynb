{
 "cells": [
  {
   "cell_type": "markdown",
   "metadata": {},
   "source": [
    "# Aggregating data with MDF"
   ]
  },
  {
   "cell_type": "markdown",
   "metadata": {},
   "source": [
    "Searches using `Forge.search()` are limited to 10,000 results. However, there are two methods to circumvent this restriction: `Forge.aggregate_source()` and `Forge.aggregate()`."
   ]
  },
  {
   "cell_type": "code",
   "execution_count": 1,
   "metadata": {},
   "outputs": [],
   "source": [
    "import json\n",
    "from mdf_forge.forge import Forge"
   ]
  },
  {
   "cell_type": "code",
   "execution_count": 2,
   "metadata": {},
   "outputs": [],
   "source": [
    "mdf = Forge()"
   ]
  },
  {
   "cell_type": "markdown",
   "metadata": {},
   "source": [
    "## aggregate_source - NIST XPS DB\n",
    "Example: We want to collect all records from the NIST XPS Database and analyze the binding energies. This database has almost 30,000 records, so we have to use `aggregate()`."
   ]
  },
  {
   "cell_type": "code",
   "execution_count": 3,
   "metadata": {},
   "outputs": [
    {
     "name": "stderr",
     "output_type": "stream",
     "text": [
      "100%|██████████| 29189/29189 [00:27<00:00, 1056.63it/s]"
     ]
    },
    {
     "name": "stdout",
     "output_type": "stream",
     "text": [
      "29189\n"
     ]
    },
    {
     "name": "stderr",
     "output_type": "stream",
     "text": [
      "\n"
     ]
    }
   ],
   "source": [
    "# First, let's aggregate all the nist_xps_db data.\n",
    "all_entries = mdf.aggregate_sources(\"nist_xps_db\")\n",
    "print(len(all_entries))"
   ]
  },
  {
   "cell_type": "code",
   "execution_count": 4,
   "metadata": {
    "scrolled": true
   },
   "outputs": [
    {
     "name": "stdout",
     "output_type": "stream",
     "text": [
      "{\n",
      "    \"\": 24344,\n",
      "    \"0.001\": 2,\n",
      "    \"0.003\": 2,\n",
      "    \"0.005\": 12,\n",
      "    \"0.01\": 27,\n",
      "    \"0.010\": 3,\n",
      "    \"0.012\": 2,\n",
      "    \"0.015\": 2,\n",
      "    \"0.02\": 159,\n",
      "    \"0.020\": 6,\n",
      "    \"0.025\": 10,\n",
      "    \"0.026\": 1,\n",
      "    \"0.03\": 122,\n",
      "    \"0.030\": 14,\n",
      "    \"0.04\": 56,\n",
      "    \"0.042\": 1,\n",
      "    \"0.05\": 416,\n",
      "    \"0.050\": 1,\n",
      "    \"0.06\": 12,\n",
      "    \"0.07\": 33,\n",
      "    \"0.070\": 1,\n",
      "    \"0.075\": 1,\n",
      "    \"0.08\": 14,\n",
      "    \"0.1\": 1501,\n",
      "    \"0.10\": 14,\n",
      "    \"0.100\": 2,\n",
      "    \"0.12\": 4,\n",
      "    \"0.13\": 1,\n",
      "    \"0.15\": 220,\n",
      "    \"0.17\": 1,\n",
      "    \"0.2\": 1660,\n",
      "    \"0.20\": 2,\n",
      "    \"0.200\": 1,\n",
      "    \"0.25\": 24,\n",
      "    \"0.3\": 266,\n",
      "    \"0.30\": 4,\n",
      "    \"0.4\": 117,\n",
      "    \"0.40\": 4,\n",
      "    \"0.5\": 108,\n",
      "    \"0.6\": 9,\n",
      "    \"0.7\": 2,\n",
      "    \"0.8\": 4,\n",
      "    \"0.9\": 2,\n",
      "    \"1.2\": 1,\n",
      "    \"2.0\": 1\n",
      "}\n"
     ]
    }
   ],
   "source": [
    "# Now, let's parse out the enery_uncertainty_ev and print the results for analysis.\n",
    "uncertainties = {}\n",
    "for record in all_entries:\n",
    "    if record[\"mdf\"][\"resource_type\"] == \"record\":\n",
    "        unc = record.get(\"nist_xps_db_v1\", {}).get(\"energy_uncertainty_ev\", 0)\n",
    "        if not uncertainties.get(unc):\n",
    "            uncertainties[unc] = 1\n",
    "        else:\n",
    "            uncertainties[unc] += 1\n",
    "print(json.dumps(uncertainties, sort_keys=True, indent=4, separators=(',', ': ')))"
   ]
  },
  {
   "cell_type": "markdown",
   "metadata": {},
   "source": [
    "## aggregate - Multiple Datasets\n",
    "Example: We want to analyze how often elements are studied with Gallium (Ga), and what the most frequent elemental pairing is. There are more than 10,000 records containing Gallium data."
   ]
  },
  {
   "cell_type": "code",
   "execution_count": 5,
   "metadata": {},
   "outputs": [
    {
     "name": "stderr",
     "output_type": "stream",
     "text": [
      "100%|██████████| 25582/25582 [01:03<00:00, 381.77it/s]"
     ]
    },
    {
     "name": "stdout",
     "output_type": "stream",
     "text": [
      "25582\n"
     ]
    },
    {
     "name": "stderr",
     "output_type": "stream",
     "text": [
      "\n"
     ]
    }
   ],
   "source": [
    "# First, let's aggregate everything that has \"Ga\" in the list of elements.\n",
    "all_results = mdf.aggregate(\"material.elements:Ga\")\n",
    "print(len(all_results))"
   ]
  },
  {
   "cell_type": "code",
   "execution_count": 6,
   "metadata": {
    "scrolled": true
   },
   "outputs": [
    {
     "name": "stdout",
     "output_type": "stream",
     "text": [
      "{\n",
      "    \"Ac\": 651,\n",
      "    \"Ag\": 550,\n",
      "    \"Al\": 556,\n",
      "    \"Ar\": 2,\n",
      "    \"As\": 1296,\n",
      "    \"Au\": 589,\n",
      "    \"B\": 528,\n",
      "    \"Ba\": 670,\n",
      "    \"Be\": 496,\n",
      "    \"Bi\": 550,\n",
      "    \"Br\": 52,\n",
      "    \"C\": 85,\n",
      "    \"Ca\": 613,\n",
      "    \"Cd\": 562,\n",
      "    \"Ce\": 599,\n",
      "    \"Cl\": 75,\n",
      "    \"Co\": 875,\n",
      "    \"Cr\": 678,\n",
      "    \"Cs\": 501,\n",
      "    \"Cu\": 741,\n",
      "    \"Dy\": 578,\n",
      "    \"Er\": 641,\n",
      "    \"Eu\": 561,\n",
      "    \"F\": 105,\n",
      "    \"Fe\": 708,\n",
      "    \"Ga\": 25582,\n",
      "    \"Gd\": 575,\n",
      "    \"Ge\": 643,\n",
      "    \"H\": 167,\n",
      "    \"Hf\": 630,\n",
      "    \"Hg\": 526,\n",
      "    \"Ho\": 567,\n",
      "    \"I\": 59,\n",
      "    \"In\": 585,\n",
      "    \"Ir\": 543,\n",
      "    \"K\": 583,\n",
      "    \"La\": 719,\n",
      "    \"Li\": 851,\n",
      "    \"Lu\": 513,\n",
      "    \"Mg\": 1004,\n",
      "    \"Mn\": 608,\n",
      "    \"Mo\": 635,\n",
      "    \"N\": 150,\n",
      "    \"Na\": 722,\n",
      "    \"Nb\": 539,\n",
      "    \"Nd\": 573,\n",
      "    \"Ni\": 754,\n",
      "    \"Np\": 503,\n",
      "    \"O\": 2514,\n",
      "    \"On\": 6,\n",
      "    \"Os\": 665,\n",
      "    \"Ox\": 39,\n",
      "    \"P\": 160,\n",
      "    \"Pa\": 609,\n",
      "    \"Pb\": 519,\n",
      "    \"Pd\": 604,\n",
      "    \"Pm\": 624,\n",
      "    \"Pr\": 692,\n",
      "    \"Pt\": 699,\n",
      "    \"Pu\": 527,\n",
      "    \"Rb\": 544,\n",
      "    \"Re\": 496,\n",
      "    \"Rh\": 554,\n",
      "    \"Ru\": 533,\n",
      "    \"S\": 186,\n",
      "    \"Sb\": 568,\n",
      "    \"Sc\": 680,\n",
      "    \"Se\": 167,\n",
      "    \"Si\": 782,\n",
      "    \"Sm\": 732,\n",
      "    \"Sn\": 540,\n",
      "    \"Sr\": 605,\n",
      "    \"Ta\": 543,\n",
      "    \"Tb\": 566,\n",
      "    \"Tc\": 508,\n",
      "    \"Te\": 682,\n",
      "    \"Th\": 511,\n",
      "    \"Ti\": 638,\n",
      "    \"Tl\": 680,\n",
      "    \"Tm\": 571,\n",
      "    \"U\": 484,\n",
      "    \"V\": 676,\n",
      "    \"W\": 616,\n",
      "    \"Xe\": 1,\n",
      "    \"Y\": 668,\n",
      "    \"Yb\": 702,\n",
      "    \"Zn\": 614,\n",
      "    \"Zr\": 618\n",
      "}\n"
     ]
    }
   ],
   "source": [
    "# Now, let's parse out the other elements in each record and keep a running tally to print out.\n",
    "elements = {}\n",
    "for record in all_results:\n",
    "    if record[\"mdf\"][\"resource_type\"] == \"record\":\n",
    "        elems = record[\"material\"][\"elements\"]\n",
    "        for elem in elems:\n",
    "            if elem in elements.keys():\n",
    "                elements[elem] += 1\n",
    "            else:\n",
    "                elements[elem] = 1\n",
    "print(json.dumps(elements, sort_keys=True, indent=4, separators=(',', ': ')))"
   ]
  },
  {
   "cell_type": "code",
   "execution_count": null,
   "metadata": {},
   "outputs": [],
   "source": []
  }
 ],
 "metadata": {
  "kernelspec": {
   "display_name": "Python 3",
   "language": "python",
   "name": "python3"
  },
  "language_info": {
   "codemirror_mode": {
    "name": "ipython",
    "version": 3
   },
   "file_extension": ".py",
   "mimetype": "text/x-python",
   "name": "python",
   "nbconvert_exporter": "python",
   "pygments_lexer": "ipython3",
   "version": "3.6.4"
  }
 },
 "nbformat": 4,
 "nbformat_minor": 2
}
