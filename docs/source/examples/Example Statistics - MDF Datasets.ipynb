{
 "cells": [
  {
   "cell_type": "markdown",
   "metadata": {},
   "source": [
    "# Example Statistics\n",
    "Example: We want to know how many datasets are in MDF and which datasets have the most records."
   ]
  },
  {
   "cell_type": "code",
   "execution_count": 1,
   "metadata": {},
   "outputs": [],
   "source": [
    "from tqdm import tqdm\n",
    "import pandas as pd\n",
    "from mdf_forge.forge import Forge"
   ]
  },
  {
   "cell_type": "code",
   "execution_count": 2,
   "metadata": {},
   "outputs": [],
   "source": [
    "mdf = Forge()"
   ]
  },
  {
   "cell_type": "code",
   "execution_count": 3,
   "metadata": {},
   "outputs": [
    {
     "name": "stderr",
     "output_type": "stream",
     "text": [
      "100%|██████████| 1280/1280 [06:45<00:00,  3.16it/s]\n"
     ]
    }
   ],
   "source": [
    "# First, let's search for all the datasets. There are less than 10,000 currently, so `search()` will work fine.\n",
    "res = mdf.search(\"mdf.resource_type:dataset\", advanced=True)\n",
    "# Now, let's pull out the source_name, title, and number of records for each dataset.\n",
    "mdf_resources = []\n",
    "for r in tqdm(res):\n",
    "    q = \"mdf.links.parent_id:\" + r[\"mdf\"][\"mdf_id\"]\n",
    "    x, info = mdf.search(q, advanced=True, info=True, limit=0)\n",
    "    mdf_resources.append((r['mdf']['source_name'], r['mdf']['title'], info[\"total_query_matches\"]))\n",
    "df = pd.DataFrame(mdf_resources, columns=['source_name','title', 'num_records'])"
   ]
  },
  {
   "cell_type": "code",
   "execution_count": 4,
   "metadata": {},
   "outputs": [
    {
     "name": "stdout",
     "output_type": "stream",
     "text": [
      "Number of data resources: 1280\n"
     ]
    },
    {
     "data": {
      "text/html": [
       "<div>\n",
       "<style>\n",
       "    .dataframe thead tr:only-child th {\n",
       "        text-align: right;\n",
       "    }\n",
       "\n",
       "    .dataframe thead th {\n",
       "        text-align: left;\n",
       "    }\n",
       "\n",
       "    .dataframe tbody tr th {\n",
       "        vertical-align: top;\n",
       "    }\n",
       "</style>\n",
       "<table border=\"1\" class=\"dataframe\">\n",
       "  <thead>\n",
       "    <tr style=\"text-align: right;\">\n",
       "      <th></th>\n",
       "      <th>source_name</th>\n",
       "      <th>title</th>\n",
       "      <th>num_records</th>\n",
       "    </tr>\n",
       "  </thead>\n",
       "  <tbody>\n",
       "    <tr>\n",
       "      <th>430</th>\n",
       "      <td>chembl_db</td>\n",
       "      <td>ChEMBL Database</td>\n",
       "      <td>1727112</td>\n",
       "    </tr>\n",
       "    <tr>\n",
       "      <th>411</th>\n",
       "      <td>oqmd</td>\n",
       "      <td>The Open Quantum Materials Database</td>\n",
       "      <td>686999</td>\n",
       "    </tr>\n",
       "    <tr>\n",
       "      <th>8</th>\n",
       "      <td>cod</td>\n",
       "      <td>Crystallography Open Database</td>\n",
       "      <td>373631</td>\n",
       "    </tr>\n",
       "    <tr>\n",
       "      <th>1015</th>\n",
       "      <td>dss_tox</td>\n",
       "      <td>Distributed Structure-Searchable Toxicity (DSS...</td>\n",
       "      <td>162371</td>\n",
       "    </tr>\n",
       "    <tr>\n",
       "      <th>1012</th>\n",
       "      <td>gdb9_14</td>\n",
       "      <td>Quantum Chemistry Structures and Properties of...</td>\n",
       "      <td>139980</td>\n",
       "    </tr>\n",
       "    <tr>\n",
       "      <th>831</th>\n",
       "      <td>h2o_13</td>\n",
       "      <td>Machine-learning approach for one- and two-bod...</td>\n",
       "      <td>45482</td>\n",
       "    </tr>\n",
       "    <tr>\n",
       "      <th>180</th>\n",
       "      <td>nist_xps_db</td>\n",
       "      <td>NIST X-ray Photoelectron Spectroscopy Database</td>\n",
       "      <td>29189</td>\n",
       "    </tr>\n",
       "    <tr>\n",
       "      <th>830</th>\n",
       "      <td>gdb8_15</td>\n",
       "      <td>Electronic spectra from TDDFT and machine lear...</td>\n",
       "      <td>21786</td>\n",
       "    </tr>\n",
       "    <tr>\n",
       "      <th>426</th>\n",
       "      <td>amcs</td>\n",
       "      <td>The American Mineralogist Crystal Structure Da...</td>\n",
       "      <td>19540</td>\n",
       "    </tr>\n",
       "    <tr>\n",
       "      <th>31</th>\n",
       "      <td>ecp_sar_environments</td>\n",
       "      <td>Prediction of Compounds in Different Local SAR...</td>\n",
       "      <td>10914</td>\n",
       "    </tr>\n",
       "    <tr>\n",
       "      <th>827</th>\n",
       "      <td>ft_icr_ms</td>\n",
       "      <td>Assigned formula of complex mixture FT-ICR MS ...</td>\n",
       "      <td>10656</td>\n",
       "    </tr>\n",
       "    <tr>\n",
       "      <th>2</th>\n",
       "      <td>w_14</td>\n",
       "      <td>Accuracy and transferability of Gaussian appro...</td>\n",
       "      <td>9693</td>\n",
       "    </tr>\n",
       "    <tr>\n",
       "      <th>7</th>\n",
       "      <td>activity_cliffs</td>\n",
       "      <td>Knowledge base of two- and three-dimensional a...</td>\n",
       "      <td>7606</td>\n",
       "    </tr>\n",
       "    <tr>\n",
       "      <th>1011</th>\n",
       "      <td>gdb7_13</td>\n",
       "      <td>Machine learning of molecular electronic prope...</td>\n",
       "      <td>7210</td>\n",
       "    </tr>\n",
       "    <tr>\n",
       "      <th>413</th>\n",
       "      <td>gdb7_12</td>\n",
       "      <td>Fast and Accurate Modeling of Molecular Atomiz...</td>\n",
       "      <td>7163</td>\n",
       "    </tr>\n",
       "  </tbody>\n",
       "</table>\n",
       "</div>"
      ],
      "text/plain": [
       "               source_name                                              title  \\\n",
       "430              chembl_db                                    ChEMBL Database   \n",
       "411                   oqmd                The Open Quantum Materials Database   \n",
       "8                      cod                      Crystallography Open Database   \n",
       "1015               dss_tox  Distributed Structure-Searchable Toxicity (DSS...   \n",
       "1012               gdb9_14  Quantum Chemistry Structures and Properties of...   \n",
       "831                 h2o_13  Machine-learning approach for one- and two-bod...   \n",
       "180            nist_xps_db     NIST X-ray Photoelectron Spectroscopy Database   \n",
       "830                gdb8_15  Electronic spectra from TDDFT and machine lear...   \n",
       "426                   amcs  The American Mineralogist Crystal Structure Da...   \n",
       "31    ecp_sar_environments  Prediction of Compounds in Different Local SAR...   \n",
       "827              ft_icr_ms  Assigned formula of complex mixture FT-ICR MS ...   \n",
       "2                     w_14  Accuracy and transferability of Gaussian appro...   \n",
       "7          activity_cliffs  Knowledge base of two- and three-dimensional a...   \n",
       "1011               gdb7_13  Machine learning of molecular electronic prope...   \n",
       "413                gdb7_12  Fast and Accurate Modeling of Molecular Atomiz...   \n",
       "\n",
       "      num_records  \n",
       "430       1727112  \n",
       "411        686999  \n",
       "8          373631  \n",
       "1015       162371  \n",
       "1012       139980  \n",
       "831         45482  \n",
       "180         29189  \n",
       "830         21786  \n",
       "426         19540  \n",
       "31          10914  \n",
       "827         10656  \n",
       "2            9693  \n",
       "7            7606  \n",
       "1011         7210  \n",
       "413          7163  "
      ]
     },
     "execution_count": 4,
     "metadata": {},
     "output_type": "execute_result"
    }
   ],
   "source": [
    "# Finally, we can print the data we gathered.\n",
    "print(\"Number of data resources: {n_datasets}\".format(n_datasets=len(df)))\n",
    "df.sort_values(by=\"num_records\", ascending=False).head(15)"
   ]
  },
  {
   "cell_type": "code",
   "execution_count": 5,
   "metadata": {},
   "outputs": [
    {
     "data": {
      "text/plain": [
       "3325791"
      ]
     },
     "execution_count": 5,
     "metadata": {},
     "output_type": "execute_result"
    }
   ],
   "source": [
    "# Bonus: How many records are in MDF in total?\n",
    "df[\"num_records\"].sum()"
   ]
  },
  {
   "cell_type": "code",
   "execution_count": null,
   "metadata": {},
   "outputs": [],
   "source": []
  }
 ],
 "metadata": {
  "kernelspec": {
   "display_name": "Python 3",
   "language": "python",
   "name": "python3"
  },
  "language_info": {
   "codemirror_mode": {
    "name": "ipython",
    "version": 3
   },
   "file_extension": ".py",
   "mimetype": "text/x-python",
   "name": "python",
   "nbconvert_exporter": "python",
   "pygments_lexer": "ipython3",
   "version": "3.5.2"
  }
 },
 "nbformat": 4,
 "nbformat_minor": 2
}
