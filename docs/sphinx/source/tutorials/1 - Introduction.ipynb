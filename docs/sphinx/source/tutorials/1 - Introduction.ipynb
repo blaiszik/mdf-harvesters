{
 "cells": [
  {
   "cell_type": "code",
   "execution_count": 1,
   "metadata": {},
   "outputs": [],
   "source": [
    "from mdf_forge.forge import Forge  # This is the only required import for Forge."
   ]
  },
  {
   "cell_type": "markdown",
   "metadata": {},
   "source": [
    "# Authentication\n",
    "Authentication is handled automatically. Just follow the prompt once and let Forge take care of the rest.\n"
   ]
  },
  {
   "cell_type": "code",
   "execution_count": 2,
   "metadata": {},
   "outputs": [],
   "source": [
    "# You can set up Forge with no arguments. Forge will automatically authenticate and connect to MDF.\n",
    "mdf = Forge()"
   ]
  },
  {
   "cell_type": "markdown",
   "metadata": {},
   "source": [
    "# Basic Queries"
   ]
  },
  {
   "cell_type": "markdown",
   "metadata": {},
   "source": [
    "### Basic full text search\n",
    "Using the `search()` method, you can perform a basic text search of the data in MDF.\n",
    "You will get back a list of matching entries (up to 10,000).\n",
    "\n",
    "Let's say we want to find data on aluminum. We can just search for \"Al\" like so:"
   ]
  },
  {
   "cell_type": "code",
   "execution_count": 3,
   "metadata": {},
   "outputs": [
    {
     "data": {
      "text/plain": [
       "{'mdf': {'collection': 'NIST Interatomic Potentials',\n",
       "  'composition': 'Al',\n",
       "  'elements': ['Al'],\n",
       "  'ingest_date': '2017-08-23T14:13:49.597984Z',\n",
       "  'links': {'landing_page': 'https://www.ctcms.nist.gov/potentials/#49',\n",
       "   'parent_id': '599d8d9cf2c0040951639aee',\n",
       "   'publication': ['www.ctcms.nist.gov/potentials/Download/Al-LEA/NEWAl.txt',\n",
       "    'www.ctcms.nist.gov/potentials/Download/Al-LEA/Al-LEA.eam.alloy']},\n",
       "  'mdf_id': '599d8d9df2c0040951639b1f',\n",
       "  'metadata_version': '0.3.2',\n",
       "  'raw': '{\"key\": \"8f71b887-b4c5-42c0-b06c-9456153725d9\", \"id\": \"2004--Liu-X-Y--Al\", \"record-version\": \"slurp-error\", \"description\": {\"local\": [], \"citation\": [{\"DOI\": \"10.1088/0965-0393/12/4/007\", \"text-bibliography\": \"X.-Y. Liu, F. Ercolessi, and J.B. Adams, \\\\\"Aluminium interatomic potential from density functional theory calculations with improved stacking fault energy,\\\\\" Modelling Simul. Mater. Sci. Eng. <b>12</b>, 665-670 (2004).\"}], \"notes\": [{\"text\": \"NEWAl.txt was obtained from <a href=\\\\\"http://www.nist.gov/cgi-bin/exit_nist.cgi?timeout=5&url=http://enpub.fulton.asu.edu/cms/potentials/main/main.htm\\\\\">http://enpub.fulton.asu.edu/cms/potentials/main/main.htm</a> and posted with the permission of J.B. Adams. Al-LEA.eam.alloy is a version of the same potential which has been formatted for use in LAMMPS (\\\\\"D\\\\\" was replaced by \\\\\"e\\\\\", \\\\\"FCC\\\\\" by \\\\\"fcc\\\\\", and \\\\\"Al\\\\\" was added on line 3).\"}]}, \"keyword\": [], \"implementation\": [{\"type\": \"EAM\", \"notes\": [{}], \"artifact\": [{\"web-link\": {\"URL\": \"www.ctcms.nist.gov/potentials/Download/Al-LEA/NEWAl.txt\", \"link-text\": \"NEWAl.txt\"}}]}, {\"type\": \"EAM setfl\", \"notes\": [{}], \"artifact\": [{\"web-link\": {\"URL\": \"www.ctcms.nist.gov/potentials/Download/Al-LEA/Al-LEA.eam.alloy\", \"link-text\": \"Al-LEA.eam.alloy\"}}]}], \"element\": [\"Al\"], \"fictional-element\": [], \"other-element\": []}',\n",
       "  'resource_type': 'record',\n",
       "  'scroll_id': 49,\n",
       "  'source_name': 'nist_ip',\n",
       "  'title': 'NIST Interatomic Potential - NEWAl.txt, Al-LEA.eam.alloy'}}"
      ]
     },
     "execution_count": 3,
     "metadata": {},
     "output_type": "execute_result"
    }
   ],
   "source": [
    "res = mdf.search(\"Al\")\n",
    "res[0]"
   ]
  },
  {
   "cell_type": "markdown",
   "metadata": {},
   "source": [
    "### Advanced-mode searches\n",
    "You can also query more precisely with the `advanced=True` argument. The basic use is the form `key.subkey:value`. The full documentation for the query syntaz can be found here: http://globus-search-docs.s3-website-us-east-1.amazonaws.com/stable/api/search.html#_query_syntax\n",
    "\n",
    "In this example, we can search for \"Al\" inside the \"mdf.elements\" key.\n",
    "\n",
    "We're also going to limit the number of results to 10."
   ]
  },
  {
   "cell_type": "code",
   "execution_count": 4,
   "metadata": {},
   "outputs": [
    {
     "data": {
      "text/plain": [
       "{'mdf': {'collection': 'SLUSCHI',\n",
       "  'composition': 'Al104',\n",
       "  'elements': ['Al'],\n",
       "  'ingest_date': '2017-08-04T19:56:23.221883Z',\n",
       "  'links': {'landing_page': 'http://blogs.brown.edu/qhong/?page_id=102#330',\n",
       "   'outcar': {'globus_endpoint': '82f1b5c6-6e9b-11e5-ba47-22000b92c6ec',\n",
       "    'http_host': 'https://data.materialsdatafacility.org',\n",
       "    'path': '/collections/sluschi/sluschi/Dir_CoexRun/1200/1200/1000/anal/OUTCAR'},\n",
       "   'parent_id': '5984ce6bf2c004385fd54cd4'},\n",
       "  'mdf_id': '5984d167f2c004385fd54e1e',\n",
       "  'metadata_version': '0.3.2',\n",
       "  'resource_type': 'record',\n",
       "  'scroll_id': 330,\n",
       "  'source_name': 'sluschi',\n",
       "  'tags': ['outcar'],\n",
       "  'title': 'SLUSCHI - Al104'}}"
      ]
     },
     "execution_count": 4,
     "metadata": {},
     "output_type": "execute_result"
    }
   ],
   "source": [
    "res = mdf.search(\"mdf.elements:Al\", advanced=True, limit=10)\n",
    "res[0]"
   ]
  },
  {
   "cell_type": "markdown",
   "metadata": {},
   "source": [
    "If you want to search on a value with special characters, such as a colon or space, you must wrap the value in double quotes. Otherwise, you may get unexpected results."
   ]
  },
  {
   "cell_type": "code",
   "execution_count": 5,
   "metadata": {
    "scrolled": true
   },
   "outputs": [
    {
     "data": {
      "text/plain": [
       "{'mdf': {'citation': [\"A.P. Bento, A. Gaulton, A. Hersey, L.J. Bellis, J. Chambers, M. Davies, F.A. Krüger, Y. Light, L. Mak, S. McGlinchey, M. Nowotka, G. Papadatos, R. Santos and J.P. Overington (2014) 'The ChEMBL bioactivity database: an update.' Nucleic Acids Res., 42 1083-1090. DOI: 10.1093/nar/gkt1031 PMID: 24214965\",\n",
       "   \"M. Davies, M. Nowotka, G. Papadatos, F. Atkinson, G.J.P. van Westen, N Dedman, R. Ochoa and J.P. Overington  (2014) 'myChEMBL: A Virtual Platform for Distributing Cheminformatics Tools and Open Data' Challenges 5 (334-337) DOI: 10.3390/challe5020334\",\n",
       "   'S. Jupp, J. Malone, J. Bolleman, M. Brandizi, M. Davies, L. Garcia, A. Gaulton, S. Gehant, C. Laibe, N. Redaschi, S.M Wimalaratne, M. Martin, N. Le Novère, H. Parkinson, E. Birney and A.M Jenkinson (2014) The EBI RDF Platform: Linked Open Data for the Life Sciences Bioinformatics 30 1338-1339 DOI: 10.1093/bioinformatics/btt765 PMID: 24413672'],\n",
       "  'collection': 'ChEMBL db',\n",
       "  'data_contact': {'email': 'jpo@ebi.ac.uk',\n",
       "   'family_name': 'Overington',\n",
       "   'full_name': 'John P. Overington',\n",
       "   'given_name': 'John P.',\n",
       "   'institution': 'European Molecular Biology Laboratory European Bioinformatics Institute'},\n",
       "  'data_contributor': [{'email': 'dep78@uchicago.edu',\n",
       "    'family_name': 'Pike',\n",
       "    'full_name': 'Evan Pike',\n",
       "    'github': 'dep78',\n",
       "    'given_name': 'Evan',\n",
       "    'institution': 'The University of Chicago'}],\n",
       "  'description': 'ChEMBL is a database of bioactive drug-like small molecules, it contains 2-D structures, calculated properties (e.g. logP, Molecular Weight, Lipinski Parameters, etc.) and abstracted bioactivities (e.g. binding constants, pharmacology and ADMET data).vThe data is abstracted and curated from the primary scientific literature, and cover a significant fraction of the SAR and discovery of modern drugs We attempt to normalise the bioactivities into a uniform set of end-points and units where possible, and also to tag the links between a molecular target and a published assay with a set of varying confidence levels. Additional data on clinical progress of compounds is being integrated into ChEMBL at the current time.',\n",
       "  'ingest_date': '2017-08-09T17:26:54.157428Z',\n",
       "  'license': 'https://creativecommons.org/licenses/by-sa/3.0/',\n",
       "  'links': {'data_doi': 'ftp://ftp.ebi.ac.uk/pub/databases/chembl/ChEMBLdb/',\n",
       "   'landing_page': 'https://www.ebi.ac.uk/chembl/downloads'},\n",
       "  'mdf_id': '598b45debf9d988c07667735',\n",
       "  'metadata_version': '0.3.2',\n",
       "  'resource_type': 'dataset',\n",
       "  'source_name': 'chembl_db',\n",
       "  'tags': ['SAR'],\n",
       "  'title': 'ChEMBL Database',\n",
       "  'year': 2017}}"
      ]
     },
     "execution_count": 5,
     "metadata": {},
     "output_type": "execute_result"
    }
   ],
   "source": [
    "res = mdf.search('mdf.title:\"ChEMBL Database\"', advanced=True)\n",
    "res[0]"
   ]
  },
  {
   "cell_type": "code",
   "execution_count": null,
   "metadata": {},
   "outputs": [],
   "source": []
  }
 ],
 "metadata": {
  "kernelspec": {
   "display_name": "Python 3",
   "language": "python",
   "name": "python3"
  },
  "language_info": {
   "codemirror_mode": {
    "name": "ipython",
    "version": 3
   },
   "file_extension": ".py",
   "mimetype": "text/x-python",
   "name": "python",
   "nbconvert_exporter": "python",
   "pygments_lexer": "ipython3",
   "version": "3.5.2"
  }
 },
 "nbformat": 4,
 "nbformat_minor": 2
}
