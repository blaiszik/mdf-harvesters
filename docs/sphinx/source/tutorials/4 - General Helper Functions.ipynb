{
 "cells": [
  {
   "cell_type": "code",
   "execution_count": 1,
   "metadata": {},
   "outputs": [],
   "source": [
    "from mdf_forge.forge import Forge"
   ]
  },
  {
   "cell_type": "code",
   "execution_count": 2,
   "metadata": {},
   "outputs": [],
   "source": [
    "mdf = Forge()"
   ]
  },
  {
   "cell_type": "markdown",
   "metadata": {},
   "source": [
    "# Generally Useful Help"
   ]
  },
  {
   "cell_type": "markdown",
   "metadata": {},
   "source": [
    "### current_query\n",
    "You can see the query you're currently building with `current_query()`."
   ]
  },
  {
   "cell_type": "code",
   "execution_count": 3,
   "metadata": {},
   "outputs": [
    {
     "data": {
      "text/plain": [
       "'(mdf.source_name:oqmd)'"
      ]
     },
     "execution_count": 3,
     "metadata": {},
     "output_type": "execute_result"
    }
   ],
   "source": [
    "mdf.match_field(\"mdf.source_name\", \"oqmd\")\n",
    "mdf.current_query()"
   ]
  },
  {
   "cell_type": "markdown",
   "metadata": {},
   "source": [
    "### reset_query\n",
    "If you have a query in memory that you don't want, you can use `reset_query()` to start a new query. This method will clear the current query entirely."
   ]
  },
  {
   "cell_type": "code",
   "execution_count": 4,
   "metadata": {},
   "outputs": [],
   "source": [
    "mdf.reset_query()"
   ]
  },
  {
   "cell_type": "code",
   "execution_count": 5,
   "metadata": {},
   "outputs": [
    {
     "data": {
      "text/plain": [
       "''"
      ]
     },
     "execution_count": 5,
     "metadata": {},
     "output_type": "execute_result"
    }
   ],
   "source": [
    "mdf.current_query()"
   ]
  },
  {
   "cell_type": "markdown",
   "metadata": {},
   "source": [
    "### Query info\n",
    "We can build a query using `exclude_field()` and `match_field()` and execute it with `search()`. But if you are interested in knowing more about the query, including the actual query string that was made, you can use the `info=True` argument to `search()`."
   ]
  },
  {
   "cell_type": "code",
   "execution_count": 6,
   "metadata": {},
   "outputs": [],
   "source": [
    "mdf.exclude_field(\"mdf.source_name\", \"sluschi\").match_field(\"mdf.elements\", \"Al\").exclude_field(\"mdf.source_name\", \"oqmd\")\n",
    "res, info = mdf.search(limit=10, info=True)"
   ]
  },
  {
   "cell_type": "markdown",
   "metadata": {},
   "source": [
    "When you use the `info=True` argument, `search()` will return a tuple instead of a list. The first element in the tuple will be the same list of results you're used to, but the second tuple element will be a dictionary of query info."
   ]
  },
  {
   "cell_type": "code",
   "execution_count": 7,
   "metadata": {},
   "outputs": [
    {
     "data": {
      "text/plain": [
       "{'mdf': {'collection': 'AMCS',\n",
       "  'composition': 'Al4',\n",
       "  'elements': ['Al'],\n",
       "  'ingest_date': '2017-08-04T19:07:56.890584Z',\n",
       "  'links': {'cif': {'http_host': 'http://rruff.geo.arizona.edu',\n",
       "    'path': '/AMS/xtal_data/CIFfiles/19141.cif'},\n",
       "   'dif': {'http_host': 'http://rruff.geo.arizona.edu',\n",
       "    'path': '/AMS/xtal_data/DIFfiles/19141.txt'},\n",
       "   'landing_page': 'http://rruff.geo.arizona.edu/AMS/minerals/Aluminum#18135',\n",
       "   'parent_id': '5984c125f2c0043771d1507c'},\n",
       "  'mdf_id': '5984c60cf2c0043771d19753',\n",
       "  'metadata_version': '0.3.2',\n",
       "  'resource_type': 'record',\n",
       "  'scroll_id': 18135,\n",
       "  'source_name': 'amcs',\n",
       "  'tags': ['Aluminum', 'cif', 'dif'],\n",
       "  'title': 'AMCS - Aluminum'}}"
      ]
     },
     "execution_count": 7,
     "metadata": {},
     "output_type": "execute_result"
    }
   ],
   "source": [
    "res[0]"
   ]
  },
  {
   "cell_type": "code",
   "execution_count": 8,
   "metadata": {},
   "outputs": [
    {
     "data": {
      "text/plain": [
       "{'query': {'advanced': True,\n",
       "  'limit': 10,\n",
       "  'offset': 0,\n",
       "  'q': '( NOT mdf.source_name:sluschi AND mdf.elements:Al AND  NOT mdf.source_name:oqmd)'},\n",
       " 'total_query_matches': 18170}"
      ]
     },
     "execution_count": 8,
     "metadata": {},
     "output_type": "execute_result"
    }
   ],
   "source": [
    "info"
   ]
  },
  {
   "cell_type": "markdown",
   "metadata": {},
   "source": [
    "### Repeat a query\n",
    "You can stop a query from being cleared out of memory after a search by using the `reset_query=False` argument."
   ]
  },
  {
   "cell_type": "code",
   "execution_count": 9,
   "metadata": {},
   "outputs": [
    {
     "data": {
      "text/plain": [
       "<mdf_forge.forge.Forge at 0x7faa2d990748>"
      ]
     },
     "execution_count": 9,
     "metadata": {},
     "output_type": "execute_result"
    }
   ],
   "source": [
    "mdf.match_field(\"mdf.source_name\", \"nist_xps_db\")"
   ]
  },
  {
   "cell_type": "code",
   "execution_count": 10,
   "metadata": {},
   "outputs": [
    {
     "data": {
      "text/plain": [
       "'(mdf.source_name:nist_xps_db)'"
      ]
     },
     "execution_count": 10,
     "metadata": {},
     "output_type": "execute_result"
    }
   ],
   "source": [
    "res, info = mdf.search(limit=10, info=True, reset_query=False)\n",
    "info[\"query\"][\"q\"]"
   ]
  },
  {
   "cell_type": "code",
   "execution_count": 11,
   "metadata": {},
   "outputs": [
    {
     "data": {
      "text/plain": [
       "'(mdf.source_name:nist_xps_db)'"
      ]
     },
     "execution_count": 11,
     "metadata": {},
     "output_type": "execute_result"
    }
   ],
   "source": [
    "res, info = mdf.search(limit=10, info=True)\n",
    "info[\"query\"][\"q\"]"
   ]
  },
  {
   "cell_type": "markdown",
   "metadata": {},
   "source": [
    "### show_fields\n",
    "How do you know what fields there are to search on? Use `show_fields()` to find out. If you just call `show_fields()` by itself, it will show you all of the top-level blocks (such as \"mdf\")."
   ]
  },
  {
   "cell_type": "code",
   "execution_count": 12,
   "metadata": {},
   "outputs": [
    {
     "data": {
      "text/plain": [
       "{'dss_tox': 'object',\n",
       " 'fe_cr_al_oxidation': 'object',\n",
       " 'gdb9_14': 'object',\n",
       " 'header': 'object',\n",
       " 'hopv': 'object',\n",
       " 'jcap_xps_spectral_db': 'object',\n",
       " 'md_17': 'object',\n",
       " 'mdf': 'object',\n",
       " 'metadata': 'object',\n",
       " 'mpi_mainz': 'object',\n",
       " 'natural_fiber_composite_tensile': 'object',\n",
       " 'nist_janaf': 'object',\n",
       " 'oqmd': 'object',\n",
       " 'pppdb': 'object',\n",
       " 'qm_mdt_c': 'object',\n",
       " 'quinary_alloys': 'object',\n",
       " 'xafs_sl': 'object'}"
      ]
     },
     "execution_count": 12,
     "metadata": {},
     "output_type": "execute_result"
    }
   ],
   "source": [
    "mdf.show_fields()"
   ]
  },
  {
   "cell_type": "markdown",
   "metadata": {},
   "source": [
    "If you give `show_fields()` a top-level block, it will show you the mapping for that block, including the expected datatypes."
   ]
  },
  {
   "cell_type": "code",
   "execution_count": 13,
   "metadata": {
    "scrolled": true
   },
   "outputs": [
    {
     "data": {
      "text/plain": [
       "{'mdf.author.email': 'text',\n",
       " 'mdf.author.family_name': 'text',\n",
       " 'mdf.author.full_name': 'text',\n",
       " 'mdf.author.given_name': 'text',\n",
       " 'mdf.author.instituition': 'text',\n",
       " 'mdf.author.institution': 'text',\n",
       " 'mdf.author.orcid': 'text',\n",
       " 'mdf.citation': 'text',\n",
       " 'mdf.collection': 'text',\n",
       " 'mdf.composition': 'text',\n",
       " 'mdf.data_contact.email': 'text',\n",
       " 'mdf.data_contact.family_name': 'text',\n",
       " 'mdf.data_contact.full_name': 'text',\n",
       " 'mdf.data_contact.given_name': 'text',\n",
       " 'mdf.data_contact.instituition': 'text',\n",
       " 'mdf.data_contact.institution': 'text',\n",
       " 'mdf.data_contact.orcid': 'text',\n",
       " 'mdf.data_contributor.email': 'text',\n",
       " 'mdf.data_contributor.family_name': 'text',\n",
       " 'mdf.data_contributor.full_name': 'text',\n",
       " 'mdf.data_contributor.github': 'text',\n",
       " 'mdf.data_contributor.given_name': 'text',\n",
       " 'mdf.data_contributor.institution': 'text',\n",
       " 'mdf.description': 'text',\n",
       " 'mdf.elements': 'text',\n",
       " 'mdf.ingest_date': 'date',\n",
       " 'mdf.license': 'text',\n",
       " 'mdf.links.DSC_data.globus_endpoint': 'text',\n",
       " 'mdf.links.DSC_data.http_host': 'text',\n",
       " 'mdf.links.DSC_data.path': 'text',\n",
       " 'mdf.links.Neutron_data.globus_endpoint': 'text',\n",
       " 'mdf.links.Neutron_data.http_host': 'text',\n",
       " 'mdf.links.Neutron_data.path': 'text',\n",
       " 'mdf.links.OUTCAR.globus_endpoint': 'text',\n",
       " 'mdf.links.OUTCAR.http_host': 'text',\n",
       " 'mdf.links.OUTCAR.path': 'text',\n",
       " 'mdf.links.OUTCAR_Ti3Au2C2_sg166-42atom_cut500.globus_endpoint': 'text',\n",
       " 'mdf.links.OUTCAR_Ti3Au2C2_sg166-42atom_cut500.http_host': 'text',\n",
       " 'mdf.links.OUTCAR_Ti3Au2C2_sg166-42atom_cut500.path': 'text',\n",
       " 'mdf.links.OUTCAR_Ti3Au2C2_sg194_cut500.globus_endpoint': 'text',\n",
       " 'mdf.links.OUTCAR_Ti3Au2C2_sg194_cut500.http_host': 'text',\n",
       " 'mdf.links.OUTCAR_Ti3Au2C2_sg194_cut500.path': 'text',\n",
       " 'mdf.links.OUTCAR_Ti3AuC2_cut500.globus_endpoint': 'text',\n",
       " 'mdf.links.OUTCAR_Ti3AuC2_cut500.http_host': 'text',\n",
       " 'mdf.links.OUTCAR_Ti3AuC2_cut500.path': 'text',\n",
       " 'mdf.links.OUTCAR_bandstructure.globus_endpoint': 'text',\n",
       " 'mdf.links.OUTCAR_bandstructure.http_host': 'text',\n",
       " 'mdf.links.OUTCAR_bandstructure.path': 'text',\n",
       " 'mdf.links.OUTCAR_cutoff-400eV.globus_endpoint': 'text',\n",
       " 'mdf.links.OUTCAR_cutoff-400eV.http_host': 'text',\n",
       " 'mdf.links.OUTCAR_cutoff-400eV.path': 'text',\n",
       " 'mdf.links.OUTCAR_cutoff-500eV.globus_endpoint': 'text',\n",
       " 'mdf.links.OUTCAR_cutoff-500eV.http_host': 'text',\n",
       " 'mdf.links.OUTCAR_cutoff-500eV.path': 'text',\n",
       " 'mdf.links.OUTCAR_normal.globus_endpoint': 'text',\n",
       " 'mdf.links.OUTCAR_normal.http_host': 'text',\n",
       " 'mdf.links.OUTCAR_normal.path': 'text',\n",
       " 'mdf.links.OUTCAR_scf.globus_endpoint': 'text',\n",
       " 'mdf.links.OUTCAR_scf.http_host': 'text',\n",
       " 'mdf.links.OUTCAR_scf.path': 'text',\n",
       " 'mdf.links.OUTCAR_spin-irbit-coupling.globus_endpoint': 'text',\n",
       " 'mdf.links.OUTCAR_spin-irbit-coupling.http_host': 'text',\n",
       " 'mdf.links.OUTCAR_spin-irbit-coupling.path': 'text',\n",
       " 'mdf.links.OUTCAR_spin-orbit-coupling-001.globus_endpoint': 'text',\n",
       " 'mdf.links.OUTCAR_spin-orbit-coupling-001.http_host': 'text',\n",
       " 'mdf.links.OUTCAR_spin-orbit-coupling-001.path': 'text',\n",
       " 'mdf.links.OUTCAR_spin-orbit-coupling-100.globus_endpoint': 'text',\n",
       " 'mdf.links.OUTCAR_spin-orbit-coupling-100.http_host': 'text',\n",
       " 'mdf.links.OUTCAR_spin-orbit-coupling-100.path': 'text',\n",
       " 'mdf.links.OUTCAR_spin-orbit-coupling.globus_endpoint': 'text',\n",
       " 'mdf.links.OUTCAR_spin-orbit-coupling.http_host': 'text',\n",
       " 'mdf.links.OUTCAR_spin-orbit-coupling.path': 'text',\n",
       " 'mdf.links.OUTCAR_spin-orbit-coupling_001.globus_endpoint': 'text',\n",
       " 'mdf.links.OUTCAR_spin-orbit-coupling_001.http_host': 'text',\n",
       " 'mdf.links.OUTCAR_spin-orbit-coupling_001.path': 'text',\n",
       " 'mdf.links.OUTCAR_spin-orbit-coupling_100.globus_endpoint': 'text',\n",
       " 'mdf.links.OUTCAR_spin-orbit-coupling_100.http_host': 'text',\n",
       " 'mdf.links.OUTCAR_spin-orbit-coupling_100.path': 'text',\n",
       " 'mdf.links.SEM_images.globus_endpoint': 'text',\n",
       " 'mdf.links.SEM_images.http_host': 'text',\n",
       " 'mdf.links.SEM_images.path': 'text',\n",
       " 'mdf.links.TEM_images_101a.globus_endpoint': 'text',\n",
       " 'mdf.links.TEM_images_101a.http_host': 'text',\n",
       " 'mdf.links.TEM_images_101a.path': 'text',\n",
       " 'mdf.links.TEM_images_151a.globus_endpoint': 'text',\n",
       " 'mdf.links.TEM_images_151a.http_host': 'text',\n",
       " 'mdf.links.TEM_images_151a.path': 'text',\n",
       " 'mdf.links.TEM_images_201a.globus_endpoint': 'text',\n",
       " 'mdf.links.TEM_images_201a.http_host': 'text',\n",
       " 'mdf.links.TEM_images_201a.path': 'text',\n",
       " 'mdf.links.ThermoCalc_TCNI5.globus_endpoint': 'text',\n",
       " 'mdf.links.ThermoCalc_TCNI5.http_host': 'text',\n",
       " 'mdf.links.ThermoCalc_TCNI5.path': 'text',\n",
       " 'mdf.links.ThermoCalc_TTNI8.globus_endpoint': 'text',\n",
       " 'mdf.links.ThermoCalc_TTNI8.http_host': 'text',\n",
       " 'mdf.links.ThermoCalc_TTNI8.path': 'text',\n",
       " 'mdf.links.XY.globus_endpoint': 'text',\n",
       " 'mdf.links.XY.http_host': 'text',\n",
       " 'mdf.links.XY.path': 'text',\n",
       " 'mdf.links.castep-castep.globus_endpoint': 'text',\n",
       " 'mdf.links.castep-castep.http_host': 'text',\n",
       " 'mdf.links.castep-castep.path': 'text',\n",
       " 'mdf.links.castep-cell.globus_endpoint': 'text',\n",
       " 'mdf.links.castep-cell.http_host': 'text',\n",
       " 'mdf.links.castep-cell.path': 'text',\n",
       " 'mdf.links.cif.globus_endpoint': 'text',\n",
       " 'mdf.links.cif.http_host': 'text',\n",
       " 'mdf.links.cif.path': 'text',\n",
       " 'mdf.links.csv.globus_endpoint': 'text',\n",
       " 'mdf.links.csv.http_host': 'text',\n",
       " 'mdf.links.csv.path': 'text',\n",
       " 'mdf.links.data_doi': 'text',\n",
       " 'mdf.links.data_link.globus_endpoint': 'text',\n",
       " 'mdf.links.data_link.path': 'text',\n",
       " 'mdf.links.dataset.globus_endpoint': 'text',\n",
       " 'mdf.links.dataset.path': 'text',\n",
       " 'mdf.links.dif.http_host': 'text',\n",
       " 'mdf.links.dif.path': 'text',\n",
       " 'mdf.links.energy.globus_endpoint': 'text',\n",
       " 'mdf.links.energy.http_host': 'text',\n",
       " 'mdf.links.energy.path': 'text',\n",
       " 'mdf.links.file.globus_endpoint': 'text',\n",
       " 'mdf.links.file.path': 'text',\n",
       " 'mdf.links.gro.globus_endpoint': 'text',\n",
       " 'mdf.links.gro.http_host': 'text',\n",
       " 'mdf.links.gro.path': 'text',\n",
       " 'mdf.links.jpg.globus_endpoint': 'text',\n",
       " 'mdf.links.jpg.http_host': 'text',\n",
       " 'mdf.links.jpg.path': 'text',\n",
       " 'mdf.links.jpg2.globus_endpoint': 'text',\n",
       " 'mdf.links.jpg2.http_host': 'text',\n",
       " 'mdf.links.jpg2.path': 'text',\n",
       " 'mdf.links.klh.globus_endpoint': 'text',\n",
       " 'mdf.links.klh.http_host': 'text',\n",
       " 'mdf.links.klh.path': 'text',\n",
       " 'mdf.links.landing_page': 'text',\n",
       " 'mdf.links.log.globus_endpoint': 'text',\n",
       " 'mdf.links.log.http_host': 'text',\n",
       " 'mdf.links.log.path': 'text',\n",
       " 'mdf.links.metadata.globus_endpoint': 'text',\n",
       " 'mdf.links.metadata.http_host': 'text',\n",
       " 'mdf.links.metadata.path': 'text',\n",
       " 'mdf.links.mol2.globus_endpoint': 'text',\n",
       " 'mdf.links.mol2.http_host': 'text',\n",
       " 'mdf.links.mol2.path': 'text',\n",
       " 'mdf.links.molecule.globus_endpoint': 'text',\n",
       " 'mdf.links.molecule.http_host': 'text',\n",
       " 'mdf.links.molecule.path': 'text',\n",
       " 'mdf.links.mrc.globus_endpoint': 'text',\n",
       " 'mdf.links.mrc.http_host': 'text',\n",
       " 'mdf.links.mrc.path': 'text',\n",
       " 'mdf.links.mrc2.globus_endpoint': 'text',\n",
       " 'mdf.links.mrc2.http_host': 'text',\n",
       " 'mdf.links.mrc2.path': 'text',\n",
       " 'mdf.links.original.globus_endpoint': 'text',\n",
       " 'mdf.links.original.http_host': 'text',\n",
       " 'mdf.links.original.path': 'text',\n",
       " 'mdf.links.outcar.globus_endpoint': 'text',\n",
       " 'mdf.links.outcar.http_host': 'text',\n",
       " 'mdf.links.outcar.path': 'text',\n",
       " 'mdf.links.output.globus_endpoint': 'text',\n",
       " 'mdf.links.output.http_host': 'text',\n",
       " 'mdf.links.output.path': 'text',\n",
       " 'mdf.links.parent_id': 'text',\n",
       " 'mdf.links.pdb.globus_endpoint': 'text',\n",
       " 'mdf.links.pdb.http_host': 'text',\n",
       " 'mdf.links.pdb.path': 'text',\n",
       " 'mdf.links.pdf.http_host': 'text',\n",
       " 'mdf.links.pdf.path': 'text',\n",
       " 'mdf.links.publication': 'text',\n",
       " 'mdf.links.qe.globus_endpoint': 'text',\n",
       " 'mdf.links.qe.http_host': 'text',\n",
       " 'mdf.links.qe.path': 'text',\n",
       " 'mdf.links.sdf.globus_endpoint': 'text',\n",
       " 'mdf.links.sdf.http_host': 'text',\n",
       " 'mdf.links.sdf.path': 'text',\n",
       " 'mdf.links.tar.http_host': 'text',\n",
       " 'mdf.links.tar.path': 'text',\n",
       " 'mdf.links.tar_bz2.http_host': 'text',\n",
       " 'mdf.links.tar_bz2.path': 'text',\n",
       " 'mdf.links.tar_gz.http_host': 'text',\n",
       " 'mdf.links.tar_gz.path': 'text',\n",
       " 'mdf.links.txt.globus_endpoint': 'text',\n",
       " 'mdf.links.txt.http_host': 'text',\n",
       " 'mdf.links.txt.path': 'text',\n",
       " 'mdf.links.vasp.globus_endpoint': 'text',\n",
       " 'mdf.links.vasp.http_host': 'text',\n",
       " 'mdf.links.vasp.path': 'text',\n",
       " 'mdf.links.xdi.http_host': 'text',\n",
       " 'mdf.links.xdi.path': 'text',\n",
       " 'mdf.links.xlsx.globus_endpoint': 'text',\n",
       " 'mdf.links.xlsx.http_host': 'text',\n",
       " 'mdf.links.xlsx.path': 'text',\n",
       " 'mdf.links.xslx.http_host': 'text',\n",
       " 'mdf.links.xslx.path': 'text',\n",
       " 'mdf.links.xye.globus_endpoint': 'text',\n",
       " 'mdf.links.xye.http_host': 'text',\n",
       " 'mdf.links.xye.path': 'text',\n",
       " 'mdf.links.xyz.globus_endpoint': 'text',\n",
       " 'mdf.links.xyz.http_host': 'text',\n",
       " 'mdf.links.xyz.path': 'text',\n",
       " 'mdf.links.zip.http_host': 'text',\n",
       " 'mdf.links.zip.path': 'text',\n",
       " 'mdf.mdf_id': 'text',\n",
       " 'mdf.metadata_version': 'text',\n",
       " 'mdf.raw': 'text',\n",
       " 'mdf.repository': 'text',\n",
       " 'mdf.resource_type': 'text',\n",
       " 'mdf.scroll_id': 'long',\n",
       " 'mdf.source_name': 'text',\n",
       " 'mdf.tags': 'text',\n",
       " 'mdf.title': 'text',\n",
       " 'mdf.year': 'long'}"
      ]
     },
     "execution_count": 13,
     "metadata": {},
     "output_type": "execute_result"
    }
   ],
   "source": [
    "mdf.show_fields(\"mdf\")"
   ]
  },
  {
   "cell_type": "markdown",
   "metadata": {},
   "source": [
    "# Fetching Datasets"
   ]
  },
  {
   "cell_type": "markdown",
   "metadata": {},
   "source": [
    "### fetch_datasets_from_results\n",
    "This method allows you to automatically collect all the datasets that have records returned from a search. In other words, if you search for `mdf.elements:Al` and a _record_ from OQMD is returned, you can pass that record to `fetch_datasets_from_results()` and get the OQMD _dataset_ entry back."
   ]
  },
  {
   "cell_type": "code",
   "execution_count": 14,
   "metadata": {},
   "outputs": [],
   "source": [
    "records = mdf.search(\"mdf.tags:outcar AND mdf.resource_type:record\")"
   ]
  },
  {
   "cell_type": "code",
   "execution_count": 15,
   "metadata": {
    "scrolled": true
   },
   "outputs": [
    {
     "data": {
      "text/plain": [
       "{'mdf': {'author': [{'email': 'gibbons.dayna@epa.gov',\n",
       "    'family_name': 'Gibbons',\n",
       "    'full_name': 'Dayna Gibbons',\n",
       "    'given_name': 'Dayna',\n",
       "    'institution': 'US EPA Research'}],\n",
       "  'citation': ['Richard, A M. AND C. R. Williams. DISTRIBUTED STRUCTURE-SEARCHABLE TOXICITY (DSSTOX) PUBLIC DATABASE NETWORK: A PROPOSAL. MUTATION RESEARCH NEW FRONTIERS ISSUE 499(1):27-52, (2001).'],\n",
       "  'collection': 'DSS Tox',\n",
       "  'data_contact': {'email': 'gibbons.dayna@epa.gov',\n",
       "   'family_name': 'Gibbons',\n",
       "   'full_name': 'Dayna Gibbons',\n",
       "   'given_name': 'Dayna',\n",
       "   'institution': 'US EPA Research'},\n",
       "  'data_contributor': [{'email': 'dep78@uchicago.edu',\n",
       "    'family_name': 'Pike',\n",
       "    'full_name': 'Evan Pike',\n",
       "    'github': 'dep78',\n",
       "    'given_name': 'Evan',\n",
       "    'institution': 'The University of Chicago'}],\n",
       "  'description': 'DSSTox provides a high quality public chemistry resource for supporting improved predictive toxicology. A distinguishing feature of this effort is the accurate mapping of bioassay and physicochemical property data associated with chemical substances to their corresponding chemical structures.',\n",
       "  'ingest_date': '2017-08-09T17:29:37.655346Z',\n",
       "  'links': {'landing_page': 'https://www.epa.gov/chemical-research/distributed-structure-searchable-toxicity-dsstox-database',\n",
       "   'publication': ['http://cfpub.epa.gov/si/si_lab_search_results.cfm?SIType=PR&TIMSType=Journal&showCriteria=0&view=citation&sortBy=pubDateYear&keyword=DssTox',\n",
       "    'https://www.epa.gov/chemical-research/toxicity-forecasting',\n",
       "    'https://www.epa.gov/chemical-research/toxicology-testing-21st-century-tox21',\n",
       "    'http://actor.epa.gov/dashboard/',\n",
       "    'https://www.epa.gov/chemical-research/chemistry-dashboard']},\n",
       "  'mdf_id': '598b4681bf9d988c4c3c151c',\n",
       "  'metadata_version': '0.3.2',\n",
       "  'resource_type': 'dataset',\n",
       "  'source_name': 'dss_tox',\n",
       "  'title': 'Distributed Structure-Searchable Toxicity (DSSTox) Database',\n",
       "  'year': 2016}}"
      ]
     },
     "execution_count": 15,
     "metadata": {},
     "output_type": "execute_result"
    }
   ],
   "source": [
    "res = mdf.fetch_datasets_from_results(records)\n",
    "res[0]"
   ]
  },
  {
   "cell_type": "markdown",
   "metadata": {},
   "source": [
    "If you don't want to keep the results at all, you can also use `fetch_datasets_from_results()` to execute a search and use those results instead of passing it your own results."
   ]
  },
  {
   "cell_type": "code",
   "execution_count": 16,
   "metadata": {
    "scrolled": true
   },
   "outputs": [
    {
     "data": {
      "text/plain": [
       "{'mdf': {'author': [{'email': 'qhong@alumni.caltech.edu',\n",
       "    'family_name': 'Hong',\n",
       "    'full_name': 'Qi-Jun Hong',\n",
       "    'given_name': 'Qi-Jun',\n",
       "    'institution': 'Brown University'},\n",
       "   {'email': 'avdw@alum.mit.edu',\n",
       "    'family_name': 'van de Walle',\n",
       "    'full_name': 'Axel van de Walle',\n",
       "    'given_name': 'Axel',\n",
       "    'institution': 'Brown University'}],\n",
       "  'citation': ['Qi-Jun Hong, Axel van de Walle, A user guide for SLUSCHI: Solid and Liquid in Ultra Small Coexistence with Hovering Interfaces, Calphad, Volume 52, March 2016, Pages 88-97, ISSN 0364-5916, http://doi.org/10.1016/j.calphad.2015.12.003.'],\n",
       "  'collection': 'SLUSCHI',\n",
       "  'data_contact': {'email': 'qhong@alumni.caltech.edu',\n",
       "   'family_name': 'Hong',\n",
       "   'full_name': 'Qi-Jun Hong',\n",
       "   'given_name': 'Qi-Jun',\n",
       "   'institution': 'Brown University'},\n",
       "  'data_contributor': [{'email': 'jgaff@uchicago.edu',\n",
       "    'family_name': 'Gaff',\n",
       "    'full_name': 'Jonathon Gaff',\n",
       "    'github': 'jgaff',\n",
       "    'given_name': 'Jonathon',\n",
       "    'institution': 'The University of Chicago'}],\n",
       "  'description': 'Although various approaches for melting point calculations from first principles have been proposed and employed for years, their practical implementation has hitherto remained a complex and time-consuming process. The SLUSCHI code (Solid and Liquid in Ultra Small Coexistence with Hovering Interfaces) drastically simplifies this procedure into an automated package, by implementing the recently-developed small-size coexistence method and putting together a series of steps that lead to final melting point evaluation. Based on density functional theory, SLUSCHI employs Born–Oppenheimer molecular dynamics techniques under the isobaric–isothermal (NPT) ensemble, with interface to the first-principles code VASP.',\n",
       "  'ingest_date': '2017-08-04T19:43:39.345950Z',\n",
       "  'links': {'landing_page': 'http://blogs.brown.edu/qhong/?page_id=102',\n",
       "   'publication': ['https://doi.org/10.1016/j.calphad.2015.12.003']},\n",
       "  'mdf_id': '5984ce6bf2c004385fd54cd4',\n",
       "  'metadata_version': '0.3.2',\n",
       "  'resource_type': 'dataset',\n",
       "  'source_name': 'sluschi',\n",
       "  'tags': ['Melting temperature calculation',\n",
       "   'Density functional theory',\n",
       "   'Automated code'],\n",
       "  'title': 'Solid and Liquid in Ultra Small Coexistence with Hovering Interfaces',\n",
       "  'year': 2015}}"
      ]
     },
     "execution_count": 16,
     "metadata": {},
     "output_type": "execute_result"
    }
   ],
   "source": [
    "res = mdf.match_field(\"mdf.elements\", \"Al\").fetch_datasets_from_results()\n",
    "res[0]"
   ]
  },
  {
   "cell_type": "markdown",
   "metadata": {},
   "source": [
    "# Aggregations"
   ]
  },
  {
   "cell_type": "markdown",
   "metadata": {},
   "source": [
    "### aggregate\n",
    "Queries submitted with `search()` are limited to returning 10,000 results. If this limit is too low, you can use `aggregate()` to retrieve _all_ results from a query, no matter how many. Please be careful with this function, as you can easily accidentally retrieve a very large number of results without meaning to. Consider using `search(your_query, limit=0, info=True)` (see above) first to discover how many results you will get beforehand."
   ]
  },
  {
   "cell_type": "markdown",
   "metadata": {},
   "source": [
    "For this example, we will see how many results the query will retrieve before aggregating."
   ]
  },
  {
   "cell_type": "code",
   "execution_count": 17,
   "metadata": {},
   "outputs": [
    {
     "name": "stdout",
     "output_type": "stream",
     "text": [
      "Number of results: 23269\n"
     ]
    }
   ],
   "source": [
    "mdf.match_field(\"mdf.source_name\", \"oqmd\").match_field(\"mdf.elements\", \"Pb\").exclude_field(\"mdf.elements\", \"Al\")\n",
    "res, info = mdf.search(limit=0, info=True, reset_query=False)\n",
    "print(\"Number of results:\", info[\"total_query_matches\"])"
   ]
  },
  {
   "cell_type": "markdown",
   "metadata": {},
   "source": [
    "Assuming we want all of these results, we can use `aggregate()` on the same query."
   ]
  },
  {
   "cell_type": "code",
   "execution_count": 18,
   "metadata": {},
   "outputs": [
    {
     "name": "stderr",
     "output_type": "stream",
     "text": [
      "100%|██████████| 23269/23269 [01:00<00:00, 388.45it/s]"
     ]
    },
    {
     "name": "stdout",
     "output_type": "stream",
     "text": [
      "Number of results: 23269\n"
     ]
    },
    {
     "name": "stderr",
     "output_type": "stream",
     "text": [
      "\n"
     ]
    }
   ],
   "source": [
    "res = mdf.aggregate()\n",
    "print(\"Number of results:\", len(res))"
   ]
  },
  {
   "cell_type": "code",
   "execution_count": null,
   "metadata": {},
   "outputs": [],
   "source": []
  }
 ],
 "metadata": {
  "kernelspec": {
   "display_name": "Python 3",
   "language": "python",
   "name": "python3"
  },
  "language_info": {
   "codemirror_mode": {
    "name": "ipython",
    "version": 3
   },
   "file_extension": ".py",
   "mimetype": "text/x-python",
   "name": "python",
   "nbconvert_exporter": "python",
   "pygments_lexer": "ipython3",
   "version": "3.5.2"
  }
 },
 "nbformat": 4,
 "nbformat_minor": 2
}
