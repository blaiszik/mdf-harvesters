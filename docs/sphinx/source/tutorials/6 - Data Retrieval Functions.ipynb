{
 "cells": [
  {
   "cell_type": "code",
   "execution_count": 1,
   "metadata": {},
   "outputs": [],
   "source": [
    "from mdf_forge.forge import Forge"
   ]
  },
  {
   "cell_type": "code",
   "execution_count": 2,
   "metadata": {},
   "outputs": [],
   "source": [
    "mdf = Forge()"
   ]
  },
  {
   "cell_type": "markdown",
   "metadata": {},
   "source": [
    "# Data Retrieval"
   ]
  },
  {
   "cell_type": "markdown",
   "metadata": {},
   "source": [
    "### globus_download\n",
    "If you want to access the raw data underlying entries in MDF, you can use `globus_download()` and provide the results from `search()` or `aggregate()`. You can customize how the data files are delivered by specifying a destination path to `dest` (default local directory) and/or setting `preserve_dir=True` if you want to recreate the directory structure of the original data.\n",
    "\n",
    "In order to use `globus_download()` to download to your computer, you must be running [Globus Connect Personal](https://www.globus.org/app/endpoints/create-gcp) . If you want to download to a different computer (which must be a Globus Endpoint), you have to specify `dest_ep=ID_of_destination_endpoint`.\n",
    "\n",
    "Please note that while _almost_ all data in MDF is accessible through a Globus Endpoint, there may be some entries that are not. A few datasets may be hosted elsewhere and only accessible through HTTP (see `http_download()`) or hosted elsewhere in a custom, non-programmatic configuration. You may have to use the `\"mdf.links.landing_page\"` web address to fetch these datasets."
   ]
  },
  {
   "cell_type": "code",
   "execution_count": 3,
   "metadata": {},
   "outputs": [
    {
     "name": "stdout",
     "output_type": "stream",
     "text": [
      "Multiple endpoints found:\n",
      "1 :  jgaff_laptop \t ce6d512a-b414-11e7-b0a7-22000a92523b\n",
      "2 :  MDF AWS MRDP \t b6cbf972-aded-11e7-afcb-22000a92523b\n",
      "3 :  MDF Open Connect \t 1d14558e-aebc-11e7-b018-22000a92523b\n",
      "\n",
      "Please choose the endpoint on this machine\n",
      "Enter the number of the correct endpoint (-1 to cancel): 1\n"
     ]
    },
    {
     "name": "stderr",
     "output_type": "stream",
     "text": [
      "Processing records: 100%|██████████| 1/1 [00:00<00:00,  3.20it/s]\n",
      "Submitting transfers: 100%|██████████| 1/1 [00:10<00:00, 10.86s/it]"
     ]
    },
    {
     "name": "stdout",
     "output_type": "stream",
     "text": [
      "All transfers submitted\n",
      "Task IDs: 62508454-bf12-11e7-9473-22000a8cbd7d\n"
     ]
    },
    {
     "name": "stderr",
     "output_type": "stream",
     "text": [
      "\n"
     ]
    },
    {
     "data": {
      "text/plain": [
       "['62508454-bf12-11e7-9473-22000a8cbd7d']"
      ]
     },
     "execution_count": 3,
     "metadata": {},
     "output_type": "execute_result"
    }
   ],
   "source": [
    "# Running this example will save a file in the current directory.\n",
    "res = mdf.search(\"mdf.tags:DFT AND mdf.resource_type:record\", limit=1)\n",
    "mdf.globus_download(res)"
   ]
  },
  {
   "cell_type": "markdown",
   "metadata": {},
   "source": [
    "### http_download\n",
    "For small data, using Globus is not necessary. You can instead download data using HTTP(S). Except for the endpoint ID, the arguments are the same as `globus_download()`."
   ]
  },
  {
   "cell_type": "code",
   "execution_count": 4,
   "metadata": {},
   "outputs": [
    {
     "name": "stderr",
     "output_type": "stream",
     "text": [
      "Fetching files: 100%|██████████| 1/1 [00:01<00:00,  1.67s/it]\n"
     ]
    }
   ],
   "source": [
    "# Running this example will save a file in the current directory.\n",
    "res = mdf.search(\"mdf.source_name:janaf AND mdf.resource_type:record\", limit=1)\n",
    "mdf.http_download(res)"
   ]
  },
  {
   "cell_type": "markdown",
   "metadata": {},
   "source": [
    "### http_stream\n",
    "If you want to use the data you're downloading directly in your code, you can use `http_stream()` to have the data `yield`-ed to you one entry at a time."
   ]
  },
  {
   "cell_type": "code",
   "execution_count": 5,
   "metadata": {},
   "outputs": [
    {
     "data": {
      "text/plain": [
       "'This file contains the embrittling potenciesthat might not be suitable for quantitative analysis.,,,,,\\rSolvent,Solute,Boundary Studied,Method,\"XC Functional, if DFT\",\"Embrittling Potency (kJ/mol, positive denotes a lowering of boundary cohesion)\"\\rNi,V,Sigma 5 (012)[100],DFT - Slab,Norm-Conserving Pseudopotentials with LDA,72.3\\rFe,Cr,Sigma 5 (210),DFT - PBC\\'S,GGA,-14.9\\rFe,Mo,Sigma 5 (210),DFT - PBC\\'S,GGA,10.1\\rFe,Nb,Sigma 5 (210),DFT - PBC\\'S,GGA,19.5\\rFe,Mn,Sigma 11 [1-10]/(11-3),DFT DMOL,?,197.5\\rFe,Cr,Sigma 11 [1-10]/(11-3),DFT DMOL,?,-106\\rFe,N,N/A,DFT with -  bad for Fe,LDA,\\rFe,P,Sigma 3 [1-10](111),DFT DMOL,?,95.4\\rNi,H,Sigma 5 (210),DFT FLAPW - slab,GGA,0.3\\rFe,H,Sigma 5 [001](310),MD - EAM,,144.5\\rNi,He,Sigma 5 (210),DFT-Slab FLAPW,GGA,240.9\\rFe,N,{111},MD - Finnis-Sinclair,,139\\rFe,O,{111},MD - Finnis-Sinclair,,132\\rFe,S,{111},MD - Finnis-Sinclair,,556\\rFe,H,{111},MD - Finnis-Sinclair,,23\\rFe,P,{111},MD - Finnis-Sinclair,,355\\rFe,C,{111},MD - Finnis-Sinclair,,68\\rFe,B,{111},MD - Finnis-Sinclair,,63\\rFe,Si,{111},MD - Finnis-Sinclair,,244\\rFe,O,Sigma 5 (210),DFT - PBC\\'s,GGA (PW91),72.3\\rFe,N,Sigma 5 (210),DFT - PBC\\'s,GGA (PW91),-19.3\\rCu,He,Sigma 5 (310)[001],DFT,,\\rCu,Kr,Sigma 5 (310)[001],DFT,,\\rAl,Co,3 twist and 3 tilt GB\\'s,MD - EAM,N/A,N/A\\rAl,Fe,4 twist and 3 tilt GB\\'s,MD - EAM,N/A,N/A\\rAl,Ti,5 twist and 3 tilt GB\\'s,MD - EAM,N/A,N/A\\rAl,Mg,6 twist and 3 tilt GB\\'s,MD - EAM,N/A,N/A\\rAl,Cu,7 twist and 3 tilt GB\\'s,MD - EAM,N/A,N/A\\rAl,Pb,8 twist and 3 tilt GB\\'s,MD - EAM,N/A,N/A\\rNi,W,Sigma 5 (210),DFT-slab,GGA,-127.2\\rNi,Zr,Sigma 5 (210),DFT-slab,GGA,-16.4\\rNi,Hf,Sigma 5 (210),DFT-slab,GGA,-47.2\\rNi,Bi,Sigma 5 (210),DFT-slab,GGA,194.6\\rNi,S,Sigma 5 (210),DFT-slab,GGA,105\\rNi,B,Sigma 5 (210),DFT-slab,GGA,-67.4\\rNi,Ta,Sigma 5 (210),DFT-slab,GGA,-102.1\\rNi,Re,Sigma 5 (210),DFT-slab,GGA,-128.2\\rW,H,Sigma 3 (111),DFT- not specified,Not specified,25.8\\rW,B,Sigma 3 (111),DFT- not specified,Not specified,-17.6\\rW,C,Sigma 3 (111),DFT- not specified,Not specified,-55.2\\rW,N,Sigma 3 (111),DFT- not specified,Not specified,36.4\\rW,O,Sigma 3 (111),DFT- not specified,Not specified,150.4\\rW,F,Sigma 3 (111),DFT- not specified,Not specified,341.9\\rW,Al,Sigma 3 (111),DFT- not specified,Not specified,285.5\\rW,Si,Sigma 3 (111),DFT- not specified,Not specified,245.6\\rW,P,Sigma 3 (111),DFT- not specified,Not specified,255\\rW,S,Sigma 3 (111),DFT- not specified,Not specified,358.4\\rW,Cl,Sigma 3 (111),DFT- not specified,Not specified,575.8\\rTa,H,Sigma 3 (111),DFT- not specified,Not specified,56.4\\rTa,B,Sigma 3 (111),DFT- not specified,Not specified,-17.6\\rTa,C,Sigma 3 (111),DFT- not specified,Not specified,-84.7\\rTa,N,Sigma 3 (111),DFT- not specified,Not specified,-22.3\\rTa,O,Sigma 3 (111),DFT- not specified,Not specified,47\\rTa,F,Sigma 3 (111),DFT- not specified,Not specified,275\\rTa,Al,Sigma 3 (111),DFT- not specified,Not specified,179.8\\rTa,Si,Sigma 3 (111),DFT- not specified,Not specified,108.1\\rTa,P,Sigma 3 (111),DFT- not specified,Not specified,110.5\\rTa,S,Sigma 3 (111),DFT- not specified,Not specified,162.1\\rTa,Cl,Sigma 3 (111),DFT- not specified,Not specified,372.5\\rFe,B,Sigma 5 (210),DFT - PBC\\'s,GGA (PW91),-55.9'"
      ]
     },
     "execution_count": 5,
     "metadata": {},
     "output_type": "execute_result"
    }
   ],
   "source": [
    "res = mdf.search(\"AlCu\", limit=1)\n",
    "raw_data = mdf.http_stream(res)\n",
    "next(raw_data)"
   ]
  },
  {
   "cell_type": "code",
   "execution_count": null,
   "metadata": {},
   "outputs": [],
   "source": []
  }
 ],
 "metadata": {
  "kernelspec": {
   "display_name": "Python 3",
   "language": "python",
   "name": "python3"
  },
  "language_info": {
   "codemirror_mode": {
    "name": "ipython",
    "version": 3
   },
   "file_extension": ".py",
   "mimetype": "text/x-python",
   "name": "python",
   "nbconvert_exporter": "python",
   "pygments_lexer": "ipython3",
   "version": "3.5.2"
  }
 },
 "nbformat": 4,
 "nbformat_minor": 2
}
