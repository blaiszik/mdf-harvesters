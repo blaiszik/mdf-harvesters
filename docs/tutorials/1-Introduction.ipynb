{
 "cells": [
  {
   "cell_type": "markdown",
   "metadata": {},
   "source": [
    "# Part 1 - Introduction"
   ]
  },
  {
   "cell_type": "code",
   "execution_count": 1,
   "metadata": {},
   "outputs": [],
   "source": [
    "from mdf_forge.forge import Forge  # This is the only required import for Forge."
   ]
  },
  {
   "cell_type": "markdown",
   "metadata": {},
   "source": [
    "## Authentication\n",
    "Authentication is handled automatically. Just follow the prompt once and let Forge take care of the rest.\n"
   ]
  },
  {
   "cell_type": "code",
   "execution_count": 2,
   "metadata": {},
   "outputs": [],
   "source": [
    "# You can set up Forge with no arguments. Forge will automatically authenticate and connect to MDF.\n",
    "mdf = Forge()"
   ]
  },
  {
   "cell_type": "markdown",
   "metadata": {},
   "source": [
    "## Basic Queries"
   ]
  },
  {
   "cell_type": "markdown",
   "metadata": {},
   "source": [
    "### Basic full text search\n",
    "Using the `search()` method, you can perform a basic text search of the data in MDF.\n",
    "You will get back a list of matching entries (up to 10,000).\n",
    "\n",
    "Let's say we want to find data on aluminum. We can just search for \"Al\" like so:"
   ]
  },
  {
   "cell_type": "code",
   "execution_count": 3,
   "metadata": {
    "scrolled": true
   },
   "outputs": [
    {
     "data": {
      "text/plain": [
       "{'files': [{'data_type': 'ASCII text, with very long lines, with no line terminators',\n",
       "   'filename': 'nist_xps_41530.json',\n",
       "   'globus': 'globus://e38ee745-6d04-11e5-ba46-22000b92c6ec/MDF/mdf_connect/prod/data/nist_xps_db_v1/nist_xps_41530.json',\n",
       "   'length': 1248,\n",
       "   'mime_type': 'text/plain',\n",
       "   'sha512': '69912ca91261bba53dc0df956338baebf81a3f9d1281f4e9108200c3b8473f073ffdff7437a55c8ac3d08d40074a68a5509bbeb1a391426f838427398f3963dd',\n",
       "   'url': 'https://e38ee745-6d04-11e5-ba46-22000b92c6ec.e.globus.org/MDF/mdf_connect/prod/data/nist_xps_db_v1/nist_xps_41530.json'}],\n",
       " 'material': {'composition': 'Al', 'elements': ['Al']},\n",
       " 'mdf': {'ingest_date': '2018-03-28T15:04:09.928376Z',\n",
       "  'mdf_id': '5abbaeff34a2263dfa3de0e1',\n",
       "  'parent_id': '5abbaee934a2263dfa3dbf78',\n",
       "  'resource_type': 'record',\n",
       "  'scroll_id': 8553,\n",
       "  'source_name': 'nist_xps_db_v1'},\n",
       " 'nist_xps_db_v1': {'binding_energy_ev': '72.5',\n",
       "  'energy_uncertainty_ev': '',\n",
       "  'notes': 'Al(111).',\n",
       "  'temperature_k': '300'}}"
      ]
     },
     "execution_count": 3,
     "metadata": {},
     "output_type": "execute_result"
    }
   ],
   "source": [
    "res = mdf.search(\"Al\")\n",
    "res[0]"
   ]
  },
  {
   "cell_type": "markdown",
   "metadata": {},
   "source": [
    "### Advanced-mode searches\n",
    "You can also query more precisely with the `advanced=True` argument. The basic use is the form `key.subkey:value`. The full documentation for the query syntaz can be found here: http://globus-search-docs.s3-website-us-east-1.amazonaws.com/stable/api/search.html#_query_syntax\n",
    "\n",
    "In this example, we can search for \"Al\" inside the \"mdf.elements\" key.\n",
    "\n",
    "We're also going to limit the number of results to 10."
   ]
  },
  {
   "cell_type": "code",
   "execution_count": 4,
   "metadata": {
    "scrolled": true
   },
   "outputs": [
    {
     "data": {
      "text/plain": [
       "{'crystal_structure': {'number_of_atoms': 4,\n",
       "  'space_group_number': 225,\n",
       "  'volume': 66.01028844534864},\n",
       " 'files': [{'data_type': 'ASCII text',\n",
       "   'filename': '15628.cif',\n",
       "   'globus': 'globus://e38ee745-6d04-11e5-ba46-22000b92c6ec/MDF/mdf_connect/prod/data/amcs_v1/15628.cif',\n",
       "   'length': 4073,\n",
       "   'mime_type': 'text/plain',\n",
       "   'sha512': 'cccd06663cc04a45b2fda17680e78d509e37d6d69a5bd1bf37695ab90e45ae602bd7a44dc365a3b2a2fa1708510a3803e94533c0c6624b25214dfdacb20aee1d',\n",
       "   'url': 'https://e38ee745-6d04-11e5-ba46-22000b92c6ec.e.globus.org/MDF/mdf_connect/prod/data/amcs_v1/15628.cif'}],\n",
       " 'material': {'composition': 'Al4', 'elements': ['Al']},\n",
       " 'mdf': {'ingest_date': '2018-03-26T22:23:18.021883Z',\n",
       "  'mdf_id': '5ab972da34a2262cce3694b9',\n",
       "  'parent_id': '5ab972d634a2262cce368d5c',\n",
       "  'resource_type': 'record',\n",
       "  'scroll_id': 1885,\n",
       "  'source_name': 'amcs_v1'}}"
      ]
     },
     "execution_count": 4,
     "metadata": {},
     "output_type": "execute_result"
    }
   ],
   "source": [
    "res = mdf.search(\"material.elements:Al\", advanced=True, limit=10)\n",
    "res[0]"
   ]
  },
  {
   "cell_type": "markdown",
   "metadata": {},
   "source": [
    "If you want to search on a value with special characters, such as a colon or space, you must wrap the value in double quotes. Otherwise, you may get unexpected results."
   ]
  },
  {
   "cell_type": "code",
   "execution_count": 5,
   "metadata": {
    "scrolled": true
   },
   "outputs": [
    {
     "data": {
      "text/plain": [
       "{'dc': {'contributors': [{'affiliations': ['University of Wisconsin-Madison'],\n",
       "    'contributorName': 'Morgan, Dane',\n",
       "    'contributorType': 'ContactPerson',\n",
       "    'familyName': 'Morgan',\n",
       "    'givenName': 'Dane'}],\n",
       "  'creators': [{'affiliations': ['University of Wisconsin-Madison'],\n",
       "    'creatorName': 'Morgan, Dane',\n",
       "    'familyName': 'Morgan',\n",
       "    'givenName': 'Dane'},\n",
       "   {'affiliations': ['University of Wisconsin-Madison'],\n",
       "    'creatorName': 'Mayeshiba, Tam',\n",
       "    'familyName': 'Mayeshiba',\n",
       "    'givenName': 'Tam'},\n",
       "   {'affiliations': ['University of Wisconsin-Madison'],\n",
       "    'creatorName': 'Henry, Wu',\n",
       "    'familyName': 'Henry',\n",
       "    'givenName': 'Wu'}],\n",
       "  'dates': [{'date': '2017-08-07T16:07:32.938812Z', 'dateType': 'Collected'}],\n",
       "  'descriptions': [{'description': 'We demonstrate automated generation of diffusion databases from high-throughput density functional theory (DFT) calculations. A total of more than 230 dilute solute diffusion systems in Mg, Al, Cu, Ni, Pd, and Pt host lattices have been determined using multi-frequency diffusion models. We apply a correction method for solute diffusion in alloys using experimental and simulated values of host self-diffusivity.',\n",
       "    'descriptionType': 'Other'}],\n",
       "  'publicationYear': '2016',\n",
       "  'publisher': 'MDF (placeholder)',\n",
       "  'relatedIdentifiers': [{'relatedIdentifier': 'http://dx.doi.org/10.1038/sdata.2016.54',\n",
       "    'relatedIdentifierType': 'DOI',\n",
       "    'relationType': 'IsPartOf'}],\n",
       "  'resourceType': {'resourceType': 'JSON', 'resourceTypeGeneral': 'Dataset'},\n",
       "  'subjects': [{'subject': 'dilute'},\n",
       "   {'subject': 'solute'},\n",
       "   {'subject': 'DFT'},\n",
       "   {'subject': 'diffusion'},\n",
       "   {'subject': 'dataset'}],\n",
       "  'titles': [{'title': 'High-throughput Ab-initio Dilute Solute Diffusion Database'}]},\n",
       " 'mdf': {'ingest_date': '2018-03-30T00:32:34.081287Z',\n",
       "  'mdf_id': '5abd85a234a22620d109ae2b',\n",
       "  'resource_type': 'dataset',\n",
       "  'scroll_id': 0,\n",
       "  'source_name': 'ab_initio_solute_database_v3',\n",
       "  'version': 3}}"
      ]
     },
     "execution_count": 5,
     "metadata": {},
     "output_type": "execute_result"
    }
   ],
   "source": [
    "res = mdf.search('dc.titles.title:\"High-throughput Ab-initio Dilute Solute Diffusion Database\"', advanced=True)\n",
    "res[0]"
   ]
  },
  {
   "cell_type": "code",
   "execution_count": null,
   "metadata": {},
   "outputs": [],
   "source": []
  }
 ],
 "metadata": {
  "kernelspec": {
   "display_name": "Python 3",
   "language": "python",
   "name": "python3"
  },
  "language_info": {
   "codemirror_mode": {
    "name": "ipython",
    "version": 3
   },
   "file_extension": ".py",
   "mimetype": "text/x-python",
   "name": "python",
   "nbconvert_exporter": "python",
   "pygments_lexer": "ipython3",
   "version": "3.6.4"
  }
 },
 "nbformat": 4,
 "nbformat_minor": 2
}
