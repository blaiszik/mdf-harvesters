{
 "cells": [
  {
   "cell_type": "code",
   "execution_count": 1,
   "metadata": {},
   "outputs": [],
   "source": [
    "from mdf_forge.forge import Forge"
   ]
  },
  {
   "cell_type": "code",
   "execution_count": 2,
   "metadata": {},
   "outputs": [],
   "source": [
    "mdf = Forge()"
   ]
  },
  {
   "cell_type": "markdown",
   "metadata": {},
   "source": [
    "# Query builders"
   ]
  },
  {
   "cell_type": "markdown",
   "metadata": {},
   "source": [
    "### match_field\n",
    "Forge has many helper functions to make constructing queries easier. The simplest of the helpers is `match_field()`.\n",
    "\n",
    "To use `match_field()`, provide it with the field and value to match on."
   ]
  },
  {
   "cell_type": "code",
   "execution_count": 3,
   "metadata": {},
   "outputs": [
    {
     "data": {
      "text/plain": [
       "<mdf_forge.forge.Forge at 0x7f68b4ad4ef0>"
      ]
     },
     "execution_count": 3,
     "metadata": {},
     "output_type": "execute_result"
    }
   ],
   "source": [
    "mdf.match_field(\"material.elements\", \"Al\")"
   ]
  },
  {
   "cell_type": "markdown",
   "metadata": {},
   "source": [
    "You can use `match_field()` as many times as you like to add more fields and values. (This applies to all of the query builder helpers.)"
   ]
  },
  {
   "cell_type": "code",
   "execution_count": 4,
   "metadata": {},
   "outputs": [
    {
     "data": {
      "text/plain": [
       "<mdf_forge.forge.Forge at 0x7f68b4ad4ef0>"
      ]
     },
     "execution_count": 4,
     "metadata": {},
     "output_type": "execute_result"
    }
   ],
   "source": [
    "mdf.match_field(\"mdf.source_name\", \"oqmd*\")"
   ]
  },
  {
   "cell_type": "markdown",
   "metadata": {},
   "source": [
    "Once you're done adding fields, use the `search()` method to execute your search. You don't need to specify the `advanced` argument; when using the query builder functions it is always set to `True`.\n",
    "\n",
    "After you execute a search, the query is cleared from memory."
   ]
  },
  {
   "cell_type": "code",
   "execution_count": 5,
   "metadata": {
    "scrolled": true
   },
   "outputs": [
    {
     "data": {
      "text/plain": [
       "{'crystal_structure': {'cross_reference': {'icsd': 43492},\n",
       "  'number_of_atoms': 1,\n",
       "  'space_group_number': 225,\n",
       "  'volume': 15.8057},\n",
       " 'dft': {'converged': True,\n",
       "  'cutoff_energy': 650.0,\n",
       "  'exchange_correlation_functional': 'LDA'},\n",
       " 'files': [{'data_type': 'ASCII text, with very long lines, with no line terminators',\n",
       "   'filename': '1038497.json',\n",
       "   'globus': 'globus://e38ee745-6d04-11e5-ba46-22000b92c6ec/MDF/mdf_connect/prod/data/oqmd_v3/metadata-files/1038497.json',\n",
       "   'length': 11249,\n",
       "   'mime_type': 'text/plain',\n",
       "   'sha512': '1d7331786eb06dcbf3c5d2036cfbc5f7e46a1fdd57e69201a9662e01d7a63cc11e1894a3fbbe556ce0a1e6243dbbb5bf00662cca6d4022fde148b40930da5f70',\n",
       "   'url': 'https://e38ee745-6d04-11e5-ba46-22000b92c6ec.e.globus.org/MDF/mdf_connect/prod/data/oqmd_v3/metadata-files/1038497.json'}],\n",
       " 'material': {'composition': 'Al1', 'elements': ['Al']},\n",
       " 'mdf': {'ingest_date': '2018-04-11T18:00:55.808133Z',\n",
       "  'mdf_id': '5ace50d334a2265849f80d64',\n",
       "  'parent_id': '5ace4d5734a2265849f44fba',\n",
       "  'resource_type': 'record',\n",
       "  'scroll_id': 245162,\n",
       "  'source_name': 'oqmd_v3'},\n",
       " 'oqmd_v3': {'band_gap': {'units': 'eV', 'value': 0.0},\n",
       "  'configuration': 'static_lda',\n",
       "  'magnetic_moment': {'units': 'bohr/atom'},\n",
       "  'total_energy': {'units': 'eV/atom', 'value': -4.1914643},\n",
       "  'volume_pa': {'units': 'angstrom^3/atom', 'value': 15.8057}}}"
      ]
     },
     "execution_count": 5,
     "metadata": {},
     "output_type": "execute_result"
    }
   ],
   "source": [
    "res = mdf.search(limit=10)\n",
    "res[0]"
   ]
  },
  {
   "cell_type": "markdown",
   "metadata": {},
   "source": [
    "### exclude_field\n",
    "`exclude_field()` is the opposite of `match_field()`; it excludes results with the specified value."
   ]
  },
  {
   "cell_type": "code",
   "execution_count": 6,
   "metadata": {},
   "outputs": [
    {
     "data": {
      "text/plain": [
       "<mdf_forge.forge.Forge at 0x7f68b4ad4ef0>"
      ]
     },
     "execution_count": 6,
     "metadata": {},
     "output_type": "execute_result"
    }
   ],
   "source": [
    "mdf.exclude_field(\"material.elements\", \"Cu\")"
   ]
  },
  {
   "cell_type": "markdown",
   "metadata": {},
   "source": [
    "You can chain calls together if you want."
   ]
  },
  {
   "cell_type": "code",
   "execution_count": 7,
   "metadata": {},
   "outputs": [
    {
     "data": {
      "text/plain": [
       "<mdf_forge.forge.Forge at 0x7f68b4ad4ef0>"
      ]
     },
     "execution_count": 7,
     "metadata": {},
     "output_type": "execute_result"
    }
   ],
   "source": [
    "mdf.exclude_field(\"mdf.source_name\", \"sluschi\").match_field(\"material.elements\", \"Al\").exclude_field(\"mdf.source_name\", \"oqmd\")"
   ]
  },
  {
   "cell_type": "code",
   "execution_count": 8,
   "metadata": {},
   "outputs": [
    {
     "data": {
      "text/plain": [
       "{'crystal_structure': {'number_of_atoms': 4,\n",
       "  'space_group_number': 225,\n",
       "  'volume': 66.01028844534864},\n",
       " 'files': [{'data_type': 'ASCII text',\n",
       "   'filename': '15628.cif',\n",
       "   'globus': 'globus://e38ee745-6d04-11e5-ba46-22000b92c6ec/MDF/mdf_connect/prod/data/amcs_v1/15628.cif',\n",
       "   'length': 4073,\n",
       "   'mime_type': 'text/plain',\n",
       "   'sha512': 'cccd06663cc04a45b2fda17680e78d509e37d6d69a5bd1bf37695ab90e45ae602bd7a44dc365a3b2a2fa1708510a3803e94533c0c6624b25214dfdacb20aee1d',\n",
       "   'url': 'https://e38ee745-6d04-11e5-ba46-22000b92c6ec.e.globus.org/MDF/mdf_connect/prod/data/amcs_v1/15628.cif'}],\n",
       " 'material': {'composition': 'Al4', 'elements': ['Al']},\n",
       " 'mdf': {'ingest_date': '2018-03-26T22:23:18.021883Z',\n",
       "  'mdf_id': '5ab972da34a2262cce3694b9',\n",
       "  'parent_id': '5ab972d634a2262cce368d5c',\n",
       "  'resource_type': 'record',\n",
       "  'scroll_id': 1885,\n",
       "  'source_name': 'amcs_v1'}}"
      ]
     },
     "execution_count": 8,
     "metadata": {},
     "output_type": "execute_result"
    }
   ],
   "source": [
    "res = mdf.search(limit=10)\n",
    "res[0]"
   ]
  },
  {
   "cell_type": "code",
   "execution_count": null,
   "metadata": {},
   "outputs": [],
   "source": []
  }
 ],
 "metadata": {
  "kernelspec": {
   "display_name": "Python 3",
   "language": "python",
   "name": "python3"
  },
  "language_info": {
   "codemirror_mode": {
    "name": "ipython",
    "version": 3
   },
   "file_extension": ".py",
   "mimetype": "text/x-python",
   "name": "python",
   "nbconvert_exporter": "python",
   "pygments_lexer": "ipython3",
   "version": "3.6.4"
  }
 },
 "nbformat": 4,
 "nbformat_minor": 2
}
