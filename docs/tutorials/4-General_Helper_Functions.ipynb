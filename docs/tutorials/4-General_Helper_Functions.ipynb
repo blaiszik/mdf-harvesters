{
 "cells": [
  {
   "cell_type": "markdown",
   "metadata": {},
   "source": [
    "# Part 4 - General Helper Functions"
   ]
  },
  {
   "cell_type": "code",
   "execution_count": 1,
   "metadata": {},
   "outputs": [],
   "source": [
    "from mdf_forge.forge import Forge"
   ]
  },
  {
   "cell_type": "code",
   "execution_count": 2,
   "metadata": {},
   "outputs": [],
   "source": [
    "mdf = Forge()"
   ]
  },
  {
   "cell_type": "markdown",
   "metadata": {},
   "source": [
    "## Generally Useful Help"
   ]
  },
  {
   "cell_type": "markdown",
   "metadata": {},
   "source": [
    "### current_query\n",
    "You can see the query you're currently building with `current_query()`.\n",
    "\n",
    "Note that your query may be enclosed in parentheses automatically. This does not alter the results of the query."
   ]
  },
  {
   "cell_type": "code",
   "execution_count": 3,
   "metadata": {},
   "outputs": [
    {
     "data": {
      "text/plain": [
       "'(mdf.source_name:oqmd)'"
      ]
     },
     "execution_count": 3,
     "metadata": {},
     "output_type": "execute_result"
    }
   ],
   "source": [
    "mdf.match_field(\"mdf.source_name\", \"oqmd\")\n",
    "mdf.current_query()"
   ]
  },
  {
   "cell_type": "markdown",
   "metadata": {},
   "source": [
    "### reset_query\n",
    "If you have a query in memory that you don't want, you can use `reset_query()` to start a new query. This method will clear the current query entirely."
   ]
  },
  {
   "cell_type": "code",
   "execution_count": 4,
   "metadata": {},
   "outputs": [],
   "source": [
    "mdf.reset_query()"
   ]
  },
  {
   "cell_type": "code",
   "execution_count": 5,
   "metadata": {},
   "outputs": [
    {
     "data": {
      "text/plain": [
       "''"
      ]
     },
     "execution_count": 5,
     "metadata": {},
     "output_type": "execute_result"
    }
   ],
   "source": [
    "mdf.current_query()"
   ]
  },
  {
   "cell_type": "markdown",
   "metadata": {},
   "source": [
    "### Query info\n",
    "We can build a query using `exclude_field()` and `match_field()` and execute it with `search()`. But if you are interested in knowing more about the query, including the actual query string that was made, you can use the `info=True` argument to `search()`."
   ]
  },
  {
   "cell_type": "code",
   "execution_count": 6,
   "metadata": {},
   "outputs": [],
   "source": [
    "mdf.exclude_field(\"mdf.source_name\", \"sluschi\").match_field(\"material.elements\", \"Al\").exclude_field(\"mdf.source_name\", \"oqmd\")\n",
    "res, info = mdf.search(limit=10, info=True)"
   ]
  },
  {
   "cell_type": "markdown",
   "metadata": {},
   "source": [
    "When you use the `info=True` argument, `search()` will return a tuple instead of a list. The first element in the tuple will be the same list of results you're used to, but the second tuple element will be a dictionary of query info."
   ]
  },
  {
   "cell_type": "code",
   "execution_count": 7,
   "metadata": {
    "scrolled": true
   },
   "outputs": [
    {
     "data": {
      "text/plain": [
       "{'cip': {'bv': '79.0',\n",
       "  'energy': '-3.36',\n",
       "  'forcefield': 'Al99.eam.alloy',\n",
       "  'gv': '29.4',\n",
       "  'mpid': 'mp-134',\n",
       "  'totenergy': '-107.52'},\n",
       " 'files': [{'data_type': 'ASCII text, with very long lines, with no line terminators',\n",
       "   'filename': 'classical_interatomic_potentials.json',\n",
       "   'globus': 'globus://e38ee745-6d04-11e5-ba46-22000b92c6ec/MDF/mdf_connect/prod/data/cip_v1/classical_interatomic_potentials.json',\n",
       "   'length': 1841203,\n",
       "   'mime_type': 'text/plain',\n",
       "   'sha512': '96635ee0c15d1d0187b18805653a02b1a6dfa5648db82153467045de18adcc08c753e2897d2b48a78a2167a442219e9aeff6b1103732c2158facac8fa4911b33',\n",
       "   'url': 'https://e38ee745-6d04-11e5-ba46-22000b92c6ec.e.globus.org/MDF/mdf_connect/prod/data/cip_v1/classical_interatomic_potentials.json'}],\n",
       " 'material': {'composition': 'Al32', 'elements': ['Al']},\n",
       " 'mdf': {'ingest_date': '2018-10-29T17:47:57.468388Z',\n",
       "  'mdf_id': '5bd747cf2ef3880b0f213904',\n",
       "  'parent_id': '5bd747cd2ef3880b0f2135d1',\n",
       "  'resource_type': 'record',\n",
       "  'scroll_id': 819,\n",
       "  'source_id': 'cip_v1',\n",
       "  'source_name': 'cip',\n",
       "  'version': 1}}"
      ]
     },
     "execution_count": 7,
     "metadata": {},
     "output_type": "execute_result"
    }
   ],
   "source": [
    "res[0]"
   ]
  },
  {
   "cell_type": "code",
   "execution_count": 8,
   "metadata": {},
   "outputs": [
    {
     "data": {
      "text/plain": [
       "{'advanced': True,\n",
       " 'errors': [],\n",
       " 'index_uuid': '1a57bbe5-5272-477f-9d31-343b8258b7a5',\n",
       " 'limit': 10,\n",
       " 'query': '( NOT mdf.source_name:sluschi AND material.elements:Al AND  NOT mdf.source_name:oqmd)',\n",
       " 'retries': 0,\n",
       " 'total_query_matches': 14885}"
      ]
     },
     "execution_count": 8,
     "metadata": {},
     "output_type": "execute_result"
    }
   ],
   "source": [
    "info"
   ]
  },
  {
   "cell_type": "markdown",
   "metadata": {},
   "source": [
    "### Repeat a query\n",
    "You can stop a query from being cleared out of memory after a search by using the `reset_query=False` argument."
   ]
  },
  {
   "cell_type": "code",
   "execution_count": 9,
   "metadata": {},
   "outputs": [
    {
     "data": {
      "text/plain": [
       "<mdf_forge.forge.Forge at 0x7f181d77e5f8>"
      ]
     },
     "execution_count": 9,
     "metadata": {},
     "output_type": "execute_result"
    }
   ],
   "source": [
    "mdf.match_field(\"mdf.source_name\", \"nist_xps_db\")"
   ]
  },
  {
   "cell_type": "code",
   "execution_count": 10,
   "metadata": {},
   "outputs": [
    {
     "data": {
      "text/plain": [
       "'(mdf.source_name:nist_xps_db)'"
      ]
     },
     "execution_count": 10,
     "metadata": {},
     "output_type": "execute_result"
    }
   ],
   "source": [
    "res, info = mdf.search(limit=10, info=True, reset_query=False)\n",
    "info[\"query\"]"
   ]
  },
  {
   "cell_type": "code",
   "execution_count": 11,
   "metadata": {},
   "outputs": [
    {
     "data": {
      "text/plain": [
       "'(mdf.source_name:nist_xps_db)'"
      ]
     },
     "execution_count": 11,
     "metadata": {},
     "output_type": "execute_result"
    }
   ],
   "source": [
    "res, info = mdf.search(limit=10, info=True)\n",
    "info[\"query\"]"
   ]
  },
  {
   "cell_type": "markdown",
   "metadata": {},
   "source": [
    "### show_fields\n",
    "How do you know what fields there are to search on? Use `show_fields()` to find out. If you just call `show_fields()` by itself, it will show you all of the top-level blocks (such as \"mdf\")."
   ]
  },
  {
   "cell_type": "code",
   "execution_count": 12,
   "metadata": {},
   "outputs": [
    {
     "data": {
      "text/plain": [
       "{'calphad.phases': 'text',\n",
       " 'cip.bv': 'text',\n",
       " 'cip.energy': 'text',\n",
       " 'cip.forcefield': 'text',\n",
       " 'cip.gv': 'text',\n",
       " 'cip.mpid': 'text',\n",
       " 'cip.totenergy': 'text',\n",
       " 'crystal_structure.cross_reference.icsd': 'long',\n",
       " 'crystal_structure.number_of_atoms': 'float',\n",
       " 'crystal_structure.space_group_number': 'long',\n",
       " 'crystal_structure.stoichiometry': 'text',\n",
       " 'crystal_structure.volume': 'float',\n",
       " 'custom.atom_fractions': 'text',\n",
       " 'custom.plate_id': 'text',\n",
       " 'custom.sample_id': 'text',\n",
       " 'data.endpoint_path': 'text',\n",
       " 'data.link': 'text',\n",
       " 'dc.alternateIdentifiers.alternateIdentifier': 'text',\n",
       " 'dc.alternateIdentifiers.alternateIdentifierType': 'text',\n",
       " 'dc.contributors.affiliations': 'text',\n",
       " 'dc.contributors.contributorName': 'text',\n",
       " 'dc.contributors.contributorType': 'text',\n",
       " 'dc.contributors.familyName': 'text',\n",
       " 'dc.contributors.givenName': 'text',\n",
       " 'dc.creators.affiliations': 'text',\n",
       " 'dc.creators.creatorName': 'text',\n",
       " 'dc.creators.familyName': 'text',\n",
       " 'dc.creators.givenName': 'text',\n",
       " 'dc.dates.date': 'date',\n",
       " 'dc.dates.dateType': 'text',\n",
       " 'dc.descriptions.description': 'text',\n",
       " 'dc.descriptions.descriptionType': 'text',\n",
       " 'dc.identifier.identifier': 'text',\n",
       " 'dc.identifier.identifierType': 'text',\n",
       " 'dc.publicationYear': 'text',\n",
       " 'dc.publisher': 'text',\n",
       " 'dc.relatedIdentifiers.relatedIdentifier': 'text',\n",
       " 'dc.relatedIdentifiers.relatedIdentifierType': 'text',\n",
       " 'dc.relatedIdentifiers.relationType': 'text',\n",
       " 'dc.resourceType.resourceType': 'text',\n",
       " 'dc.resourceType.resourceTypeGeneral': 'text',\n",
       " 'dc.rightsList.rights': 'text',\n",
       " 'dc.rightsList.rightsURI': 'text',\n",
       " 'dc.subjects.subject': 'text',\n",
       " 'dc.titles.title': 'text',\n",
       " 'dft.converged': 'text',\n",
       " 'dft.cutoff_energy': 'float',\n",
       " 'dft.exchange_correlation_functional': 'text',\n",
       " 'electron_microscopy.beam_energy': 'float',\n",
       " 'files.data_type': 'text',\n",
       " 'files.filename': 'text',\n",
       " 'files.globus': 'text',\n",
       " 'files.length': 'long',\n",
       " 'files.mime_type': 'text',\n",
       " 'files.sha512': 'text',\n",
       " 'files.url': 'text',\n",
       " 'image.height': 'long',\n",
       " 'image.megapixels': 'float',\n",
       " 'image.width': 'long',\n",
       " 'jarvis.__custom.band_gap_desc': 'text',\n",
       " 'jarvis.__custom.crossreference_desc': 'text',\n",
       " 'jarvis.__custom.dimensionality_desc': 'text',\n",
       " 'jarvis.__custom.elastic_moduli_desc': 'text',\n",
       " 'jarvis.__custom.formation_enthalpy_desc': 'text',\n",
       " 'jarvis.__custom.id_desc': 'text',\n",
       " 'jarvis.__custom.landing_page_desc': 'text',\n",
       " 'jarvis.__custom.total_energy_desc': 'text',\n",
       " 'jarvis.band_gap.mbj': 'float',\n",
       " 'jarvis.band_gap.optb88vdw': 'float',\n",
       " 'jarvis.bandgap.mbj': 'float',\n",
       " 'jarvis.bandgap.optb88vdw': 'float',\n",
       " 'jarvis.crossreference.materials_project': 'text',\n",
       " 'jarvis.dimensionality': 'text',\n",
       " 'jarvis.elastic_moduli.bulk': 'float',\n",
       " 'jarvis.elastic_moduli.shear': 'float',\n",
       " 'jarvis.formation_enthalpy': 'float',\n",
       " 'jarvis.id': 'text',\n",
       " 'jarvis.landing_page': 'text',\n",
       " 'jarvis.total_energy': 'float',\n",
       " 'material.composition': 'text',\n",
       " 'material.elements': 'text',\n",
       " 'mdf.ingest_date': 'date',\n",
       " 'mdf.mdf_id': 'text',\n",
       " 'mdf.parent_id': 'text',\n",
       " 'mdf.repositories': 'text',\n",
       " 'mdf.resource_type': 'text',\n",
       " 'mdf.scroll_id': 'long',\n",
       " 'mdf.source_id': 'text',\n",
       " 'mdf.source_name': 'text',\n",
       " 'mdf.version': 'long',\n",
       " 'nist_xps_db.binding_energy_ev': 'text',\n",
       " 'nist_xps_db.energy_uncertainty_ev': 'text',\n",
       " 'nist_xps_db.notes': 'text',\n",
       " 'nist_xps_db.temperature_k': 'text',\n",
       " 'oqmd.__custom.band_gap_desc': 'text',\n",
       " 'oqmd.__custom.configuration_desc': 'text',\n",
       " 'oqmd.__custom.delta_e_desc': 'text',\n",
       " 'oqmd.__custom.magnetic_moment_desc': 'text',\n",
       " 'oqmd.__custom.stability_desc': 'text',\n",
       " 'oqmd.__custom.total_energy_desc': 'text',\n",
       " 'oqmd.__custom.volume_pa_desc': 'text',\n",
       " 'oqmd.band_gap.units': 'text',\n",
       " 'oqmd.band_gap.value': 'float',\n",
       " 'oqmd.configuration': 'text',\n",
       " 'oqmd.delta_e.units': 'text',\n",
       " 'oqmd.delta_e.value': 'float',\n",
       " 'oqmd.magnetic_moment.units': 'text',\n",
       " 'oqmd.magnetic_moment.value': 'float',\n",
       " 'oqmd.stability.units': 'text',\n",
       " 'oqmd.stability.value': 'float',\n",
       " 'oqmd.total_energy.units': 'text',\n",
       " 'oqmd.total_energy.value': 'float',\n",
       " 'oqmd.volume_pa.units': 'text',\n",
       " 'oqmd.volume_pa.value': 'float',\n",
       " 'origin.creator': 'text',\n",
       " 'origin.name': 'text',\n",
       " 'origin.type': 'text',\n",
       " 'services.citrine': 'text',\n",
       " 'services.globus_publish': 'text',\n",
       " 'services.mdf_search': 'text',\n",
       " 'services.mrr': 'text'}"
      ]
     },
     "execution_count": 12,
     "metadata": {},
     "output_type": "execute_result"
    }
   ],
   "source": [
    "mdf.show_fields()"
   ]
  },
  {
   "cell_type": "markdown",
   "metadata": {},
   "source": [
    "If you give `show_fields()` a top-level block, it will show you the mapping for that block, including the expected datatypes."
   ]
  },
  {
   "cell_type": "code",
   "execution_count": 13,
   "metadata": {
    "scrolled": true
   },
   "outputs": [
    {
     "data": {
      "text/plain": [
       "{'mdf.ingest_date': 'date',\n",
       " 'mdf.mdf_id': 'text',\n",
       " 'mdf.parent_id': 'text',\n",
       " 'mdf.repositories': 'text',\n",
       " 'mdf.resource_type': 'text',\n",
       " 'mdf.scroll_id': 'long',\n",
       " 'mdf.source_id': 'text',\n",
       " 'mdf.source_name': 'text',\n",
       " 'mdf.version': 'long'}"
      ]
     },
     "execution_count": 13,
     "metadata": {},
     "output_type": "execute_result"
    }
   ],
   "source": [
    "mdf.show_fields(\"mdf\")"
   ]
  },
  {
   "cell_type": "markdown",
   "metadata": {},
   "source": [
    "## Fetching Datasets"
   ]
  },
  {
   "cell_type": "markdown",
   "metadata": {},
   "source": [
    "### fetch_datasets_from_results\n",
    "This method allows you to automatically collect all the datasets that have records returned from a search. In other words, if you search for `mdf.elements:Al` and a _record_ from OQMD is returned, you can pass that record to `fetch_datasets_from_results()` and get the OQMD _dataset_ entry back."
   ]
  },
  {
   "cell_type": "code",
   "execution_count": 14,
   "metadata": {},
   "outputs": [],
   "source": [
    "records = mdf.search(\"dft.converged:true AND mdf.resource_type:record\")"
   ]
  },
  {
   "cell_type": "code",
   "execution_count": 15,
   "metadata": {
    "scrolled": true
   },
   "outputs": [
    {
     "data": {
      "text/plain": [
       "{'data': {'endpoint_path': 'globus://e38ee745-6d04-11e5-ba46-22000b92c6ec/MDF/mdf_connect/prod/data/mdr_item_772_v1/',\n",
       "  'link': 'https://www.globus.org/app/transfer?origin_id=e38ee745-6d04-11e5-ba46-22000b92c6ec&origin_path=/MDF/mdf_connect/prod/data/mdr_item_772_v1/'},\n",
       " 'dc': {'alternateIdentifiers': [{'alternateIdentifier': 'http://hdl.handle.net/11115/163',\n",
       "    'alternateIdentifierType': 'Handle'},\n",
       "   {'alternateIdentifier': '772',\n",
       "    'alternateIdentifierType': 'NIST DSpace ID'}],\n",
       "  'creators': [{'creatorName': 'Lewandowski and A. Awadallah, J.J.',\n",
       "    'familyName': 'Lewandowski and A. Awadallah',\n",
       "    'givenName': 'J.J.'}],\n",
       "  'publicationYear': '2013',\n",
       "  'publisher': 'NIST Materials Data Repository',\n",
       "  'resourceType': {'resourceType': 'Dataset',\n",
       "   'resourceTypeGeneral': 'Dataset'},\n",
       "  'titles': [{'title': 'Hydrostatic Extrusion of Metals and Alloys'}]},\n",
       " 'mdf': {'ingest_date': '2018-11-15T19:06:23.862425Z',\n",
       "  'mdf_id': '5bedc3af2ef38842b9953c09',\n",
       "  'repositories': ['National Institute of Standards and Technology',\n",
       "   'U.S. Department of Commerce',\n",
       "   'DOC',\n",
       "   'MDR',\n",
       "   'NIST',\n",
       "   'NIST Materials Data Repository',\n",
       "   'NIST MDR'],\n",
       "  'resource_type': 'dataset',\n",
       "  'scroll_id': 0,\n",
       "  'source_id': 'mdr_item_772_v1',\n",
       "  'source_name': 'mdr_item_772',\n",
       "  'version': 1},\n",
       " 'services': {'mdf_search': 'This dataset was ingested to MDF Search.',\n",
       "  'mrr': 'This dataset was registered with the MRR.'}}"
      ]
     },
     "execution_count": 15,
     "metadata": {},
     "output_type": "execute_result"
    }
   ],
   "source": [
    "res = mdf.fetch_datasets_from_results(records)\n",
    "res[0]"
   ]
  },
  {
   "cell_type": "markdown",
   "metadata": {},
   "source": [
    "If you don't want to keep the results at all, you can also use `fetch_datasets_from_results()` to execute a search and use those results instead of passing it your own results."
   ]
  },
  {
   "cell_type": "code",
   "execution_count": 16,
   "metadata": {
    "scrolled": true
   },
   "outputs": [
    {
     "data": {
      "text/plain": [
       "{'data': {'endpoint_path': 'globus://e38ee745-6d04-11e5-ba46-22000b92c6ec/MDF/mdf_connect/prod/data/khazana_vasp_v4/',\n",
       "  'link': 'https://www.globus.org/app/transfer?origin_id=e38ee745-6d04-11e5-ba46-22000b92c6ec&origin_path=/MDF/mdf_connect/prod/data/khazana_vasp_v4/'},\n",
       " 'dc': {'contributors': [{'affiliations': ['University of Connecticut'],\n",
       "    'contributorName': 'Ramprasad, Rampi',\n",
       "    'contributorType': 'ContactPerson',\n",
       "    'familyName': 'Ramprasad',\n",
       "    'givenName': 'Rampi'}],\n",
       "  'creators': [{'affiliations': ['University of Connecticut'],\n",
       "    'creatorName': 'Ramprasad, Rampi'}],\n",
       "  'dates': [{'date': '2017-08-04T19:25:05.718973Z', 'dateType': 'Collected'}],\n",
       "  'descriptions': [{'description': 'A computational materials knowledgebase',\n",
       "    'descriptionType': 'Other'}],\n",
       "  'publicationYear': '2016',\n",
       "  'publisher': 'MDF (placeholder)',\n",
       "  'resourceType': {'resourceType': 'JSON', 'resourceTypeGeneral': 'Dataset'},\n",
       "  'subjects': [{'subject': 'DFT'}, {'subject': 'VASP'}],\n",
       "  'titles': [{'title': 'Khazana (VASP)'}]},\n",
       " 'mdf': {'ingest_date': '2018-11-05T21:42:40.557765Z',\n",
       "  'mdf_id': '5be0b9502ef388136874efdf',\n",
       "  'resource_type': 'dataset',\n",
       "  'scroll_id': 0,\n",
       "  'source_id': 'khazana_vasp_v4',\n",
       "  'source_name': 'khazana_vasp',\n",
       "  'version': 4},\n",
       " 'services': {'mdf_search': 'This dataset was ingested to MDF Search.'}}"
      ]
     },
     "execution_count": 16,
     "metadata": {},
     "output_type": "execute_result"
    }
   ],
   "source": [
    "res = mdf.match_field(\"material.elements\", \"Al\").fetch_datasets_from_results()\n",
    "res[0]"
   ]
  },
  {
   "cell_type": "markdown",
   "metadata": {},
   "source": [
    "## Aggregations"
   ]
  },
  {
   "cell_type": "markdown",
   "metadata": {},
   "source": [
    "### aggregate\n",
    "Queries submitted with `search()` are limited to returning 10,000 results. If this limit is too low, you can use `aggregate()` to retrieve _all_ results from a query, no matter how many. Please be careful with this function, as you can easily accidentally retrieve a very large number of results without meaning to. Consider using `search(your_query, limit=0, info=True)` (see above) first to discover how many results you will get beforehand."
   ]
  },
  {
   "cell_type": "markdown",
   "metadata": {},
   "source": [
    "For this example, we will see how many results the query will retrieve before aggregating."
   ]
  },
  {
   "cell_type": "code",
   "execution_count": 17,
   "metadata": {},
   "outputs": [
    {
     "name": "stdout",
     "output_type": "stream",
     "text": [
      "Number of results: 15057\n"
     ]
    }
   ],
   "source": [
    "mdf.match_field(\"mdf.source_name\", \"oqmd*\").match_field(\"material.elements\", \"Pb\").exclude_field(\"material.elements\", \"Al\")\n",
    "res, info = mdf.search(limit=0, info=True, reset_query=False)\n",
    "print(\"Number of results:\", info[\"total_query_matches\"])"
   ]
  },
  {
   "cell_type": "markdown",
   "metadata": {},
   "source": [
    "Assuming we want all of these results, we can use `aggregate()` on the same query."
   ]
  },
  {
   "cell_type": "code",
   "execution_count": 18,
   "metadata": {},
   "outputs": [
    {
     "name": "stdout",
     "output_type": "stream",
     "text": [
      "Number of results: 15057\n"
     ]
    }
   ],
   "source": [
    "res = mdf.aggregate()\n",
    "print(\"Number of results:\", len(res))"
   ]
  },
  {
   "cell_type": "code",
   "execution_count": null,
   "metadata": {},
   "outputs": [],
   "source": []
  }
 ],
 "metadata": {
  "kernelspec": {
   "display_name": "Python 3",
   "language": "python",
   "name": "python3"
  },
  "language_info": {
   "codemirror_mode": {
    "name": "ipython",
    "version": 3
   },
   "file_extension": ".py",
   "mimetype": "text/x-python",
   "name": "python",
   "nbconvert_exporter": "python",
   "pygments_lexer": "ipython3",
   "version": "3.6.4"
  }
 },
 "nbformat": 4,
 "nbformat_minor": 2
}
