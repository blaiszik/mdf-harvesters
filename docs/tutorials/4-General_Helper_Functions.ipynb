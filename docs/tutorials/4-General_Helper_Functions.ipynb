{
 "cells": [
  {
   "cell_type": "markdown",
   "metadata": {},
   "source": [
    "# Part 4 - General Helper Functions"
   ]
  },
  {
   "cell_type": "code",
   "execution_count": 1,
   "metadata": {},
   "outputs": [],
   "source": [
    "from mdf_forge.forge import Forge"
   ]
  },
  {
   "cell_type": "code",
   "execution_count": 2,
   "metadata": {},
   "outputs": [],
   "source": [
    "mdf = Forge()"
   ]
  },
  {
   "cell_type": "markdown",
   "metadata": {},
   "source": [
    "## Generally Useful Help"
   ]
  },
  {
   "cell_type": "markdown",
   "metadata": {},
   "source": [
    "### current_query\n",
    "You can see the query you're currently building with `current_query()`."
   ]
  },
  {
   "cell_type": "code",
   "execution_count": 3,
   "metadata": {},
   "outputs": [
    {
     "data": {
      "text/plain": [
       "'(mdf.source_name:oqmd)'"
      ]
     },
     "execution_count": 3,
     "metadata": {},
     "output_type": "execute_result"
    }
   ],
   "source": [
    "mdf.match_field(\"mdf.source_name\", \"oqmd\")\n",
    "mdf.current_query()"
   ]
  },
  {
   "cell_type": "markdown",
   "metadata": {},
   "source": [
    "### reset_query\n",
    "If you have a query in memory that you don't want, you can use `reset_query()` to start a new query. This method will clear the current query entirely."
   ]
  },
  {
   "cell_type": "code",
   "execution_count": 4,
   "metadata": {},
   "outputs": [],
   "source": [
    "mdf.reset_query()"
   ]
  },
  {
   "cell_type": "code",
   "execution_count": 5,
   "metadata": {},
   "outputs": [
    {
     "data": {
      "text/plain": [
       "''"
      ]
     },
     "execution_count": 5,
     "metadata": {},
     "output_type": "execute_result"
    }
   ],
   "source": [
    "mdf.current_query()"
   ]
  },
  {
   "cell_type": "markdown",
   "metadata": {},
   "source": [
    "### Query info\n",
    "We can build a query using `exclude_field()` and `match_field()` and execute it with `search()`. But if you are interested in knowing more about the query, including the actual query string that was made, you can use the `info=True` argument to `search()`."
   ]
  },
  {
   "cell_type": "code",
   "execution_count": 6,
   "metadata": {},
   "outputs": [],
   "source": [
    "mdf.exclude_field(\"mdf.source_name\", \"sluschi\").match_field(\"material.elements\", \"Al\").exclude_field(\"mdf.source_name\", \"oqmd\")\n",
    "res, info = mdf.search(limit=10, info=True)"
   ]
  },
  {
   "cell_type": "markdown",
   "metadata": {},
   "source": [
    "When you use the `info=True` argument, `search()` will return a tuple instead of a list. The first element in the tuple will be the same list of results you're used to, but the second tuple element will be a dictionary of query info."
   ]
  },
  {
   "cell_type": "code",
   "execution_count": 7,
   "metadata": {
    "scrolled": true
   },
   "outputs": [
    {
     "data": {
      "text/plain": [
       "{'crystal_structure': {'number_of_atoms': 128,\n",
       "  'space_group_number': 1,\n",
       "  'volume': 2103.1050159155607},\n",
       " 'dft': {'converged': True,\n",
       "  'cutoff_energy': 520.0,\n",
       "  'exchange_correlation_functional': 'PAW_PBE'},\n",
       " 'files': [{'data_type': 'ASCII text',\n",
       "   'filename': 'OUTCAR_bcc_large',\n",
       "   'globus': 'globus://e38ee745-6d04-11e5-ba46-22000b92c6ec/MDF/mdf_connect/prod/data/khazana_vasp_v1/OUTCARS/OUTCAR_bcc_large',\n",
       "   'length': 883373,\n",
       "   'mime_type': 'text/plain',\n",
       "   'sha512': 'e91555c23528363ce14413c25927835e16191ee7980685139cff9850d7e1ddd355fb231c0f181ae936a37d5c010389e63b70b760c298368a2399417359edfa9e',\n",
       "   'url': 'https://e38ee745-6d04-11e5-ba46-22000b92c6ec.e.globus.org/MDF/mdf_connect/prod/data/khazana_vasp_v1/OUTCARS/OUTCAR_bcc_large'}],\n",
       " 'material': {'composition': 'Al128', 'elements': ['Al']},\n",
       " 'mdf': {'ingest_date': '2018-03-27T21:23:27.961187Z',\n",
       "  'mdf_id': '5abab64f34a2263dfa3dbf4a',\n",
       "  'parent_id': '5abab64f34a2263dfa3dbf49',\n",
       "  'resource_type': 'record',\n",
       "  'scroll_id': 1,\n",
       "  'source_name': 'khazana_vasp_v1'}}"
      ]
     },
     "execution_count": 7,
     "metadata": {},
     "output_type": "execute_result"
    }
   ],
   "source": [
    "res[0]"
   ]
  },
  {
   "cell_type": "code",
   "execution_count": 8,
   "metadata": {},
   "outputs": [
    {
     "data": {
      "text/plain": [
       "{'index': 'mdf',\n",
       " 'index_uuid': '1a57bbe5-5272-477f-9d31-343b8258b7a5',\n",
       " 'query': {'advanced': True,\n",
       "  'limit': 10,\n",
       "  'offset': 0,\n",
       "  'q': '( NOT mdf.source_name:sluschi AND material.elements:Al AND  NOT mdf.source_name:oqmd)'},\n",
       " 'total_query_matches': 36149}"
      ]
     },
     "execution_count": 8,
     "metadata": {},
     "output_type": "execute_result"
    }
   ],
   "source": [
    "info"
   ]
  },
  {
   "cell_type": "markdown",
   "metadata": {},
   "source": [
    "### Repeat a query\n",
    "You can stop a query from being cleared out of memory after a search by using the `reset_query=False` argument."
   ]
  },
  {
   "cell_type": "code",
   "execution_count": 9,
   "metadata": {},
   "outputs": [
    {
     "data": {
      "text/plain": [
       "<mdf_forge.forge.Forge at 0x7f50849d1cc0>"
      ]
     },
     "execution_count": 9,
     "metadata": {},
     "output_type": "execute_result"
    }
   ],
   "source": [
    "mdf.match_field(\"mdf.source_name\", \"nist_xps_db\")"
   ]
  },
  {
   "cell_type": "code",
   "execution_count": 10,
   "metadata": {},
   "outputs": [
    {
     "data": {
      "text/plain": [
       "'(mdf.source_name:nist_xps_db)'"
      ]
     },
     "execution_count": 10,
     "metadata": {},
     "output_type": "execute_result"
    }
   ],
   "source": [
    "res, info = mdf.search(limit=10, info=True, reset_query=False)\n",
    "info[\"query\"][\"q\"]"
   ]
  },
  {
   "cell_type": "code",
   "execution_count": 11,
   "metadata": {},
   "outputs": [
    {
     "data": {
      "text/plain": [
       "'(mdf.source_name:nist_xps_db)'"
      ]
     },
     "execution_count": 11,
     "metadata": {},
     "output_type": "execute_result"
    }
   ],
   "source": [
    "res, info = mdf.search(limit=10, info=True)\n",
    "info[\"query\"][\"q\"]"
   ]
  },
  {
   "cell_type": "markdown",
   "metadata": {},
   "source": [
    "### show_fields\n",
    "How do you know what fields there are to search on? Use `show_fields()` to find out. If you just call `show_fields()` by itself, it will show you all of the top-level blocks (such as \"mdf\")."
   ]
  },
  {
   "cell_type": "code",
   "execution_count": 12,
   "metadata": {},
   "outputs": [
    {
     "data": {
      "text/plain": [
       "{'cip_v1': 'object',\n",
       " 'cip_v2': 'object',\n",
       " 'crystal_structure': 'object',\n",
       " 'dc': 'object',\n",
       " 'dft': 'object',\n",
       " 'files': 'object',\n",
       " 'image': 'object',\n",
       " 'material': 'object',\n",
       " 'mdf': 'object',\n",
       " 'nist_xps_db_v1': 'object',\n",
       " 'oqmd_v3': 'object'}"
      ]
     },
     "execution_count": 12,
     "metadata": {},
     "output_type": "execute_result"
    }
   ],
   "source": [
    "mdf.show_fields()"
   ]
  },
  {
   "cell_type": "markdown",
   "metadata": {},
   "source": [
    "If you give `show_fields()` a top-level block, it will show you the mapping for that block, including the expected datatypes."
   ]
  },
  {
   "cell_type": "code",
   "execution_count": 13,
   "metadata": {
    "scrolled": true
   },
   "outputs": [
    {
     "data": {
      "text/plain": [
       "{'mdf.ingest_date': 'date',\n",
       " 'mdf.mdf_id': 'text',\n",
       " 'mdf.parent_id': 'text',\n",
       " 'mdf.resource_type': 'text',\n",
       " 'mdf.scroll_id': 'long',\n",
       " 'mdf.source_name': 'text',\n",
       " 'mdf.version': 'long'}"
      ]
     },
     "execution_count": 13,
     "metadata": {},
     "output_type": "execute_result"
    }
   ],
   "source": [
    "mdf.show_fields(\"mdf\")"
   ]
  },
  {
   "cell_type": "markdown",
   "metadata": {},
   "source": [
    "## Fetching Datasets"
   ]
  },
  {
   "cell_type": "markdown",
   "metadata": {},
   "source": [
    "### fetch_datasets_from_results\n",
    "This method allows you to automatically collect all the datasets that have records returned from a search. In other words, if you search for `mdf.elements:Al` and a _record_ from OQMD is returned, you can pass that record to `fetch_datasets_from_results()` and get the OQMD _dataset_ entry back."
   ]
  },
  {
   "cell_type": "code",
   "execution_count": 14,
   "metadata": {},
   "outputs": [],
   "source": [
    "records = mdf.search(\"dft.converged:true AND mdf.resource_type:record\")"
   ]
  },
  {
   "cell_type": "code",
   "execution_count": 15,
   "metadata": {
    "scrolled": true
   },
   "outputs": [
    {
     "data": {
      "text/plain": [
       "{'dc': {'contributors': [{'affiliations': ['University College London'],\n",
       "    'contributorName': 'Schofield, Steven',\n",
       "    'contributorType': 'ContactPerson',\n",
       "    'familyName': 'Schofield',\n",
       "    'givenName': 'Steven'}],\n",
       "  'creators': [{'affiliations': ['Curtin University'],\n",
       "    'creatorName': \"O'Donnell, Kane\",\n",
       "    'familyName': \"O'Donnell\",\n",
       "    'givenName': 'Kane'},\n",
       "   {'affiliations': ['The Open University'],\n",
       "    'creatorName': 'Hedgeland, Holly',\n",
       "    'familyName': 'Hedgeland',\n",
       "    'givenName': 'Holly'},\n",
       "   {'affiliations': ['University College London'],\n",
       "    'creatorName': 'Moore, Gareth',\n",
       "    'familyName': 'Moore',\n",
       "    'givenName': 'Gareth'},\n",
       "   {'affiliations': ['University College London'],\n",
       "    'creatorName': 'Suleman, Asif',\n",
       "    'familyName': 'Suleman',\n",
       "    'givenName': 'Asif'},\n",
       "   {'affiliations': ['University College London'],\n",
       "    'creatorName': 'Siegl, Manuel',\n",
       "    'familyName': 'Siegl',\n",
       "    'givenName': 'Manuel'},\n",
       "   {'affiliations': ['The Australian Synchrotron'],\n",
       "    'creatorName': 'Thomsen, Lars',\n",
       "    'familyName': 'Thomsen',\n",
       "    'givenName': 'Lars'},\n",
       "   {'affiliations': ['The University of Sydney'],\n",
       "    'creatorName': 'Warschkow, Oliver',\n",
       "    'familyName': 'Warschkow',\n",
       "    'givenName': 'Oliver'},\n",
       "   {'affiliations': ['University College London'],\n",
       "    'creatorName': 'Schofield, Steven',\n",
       "    'familyName': 'Schofield',\n",
       "    'givenName': 'Steven'}],\n",
       "  'dates': [{'date': '2017-08-03T17:06:55.772133Z', 'dateType': 'Collected'}],\n",
       "  'descriptions': [{'description': 'This data set contains original XPS and NEXAFS data collected at the Australian Synchrotron.  The data are the results of experiments investigating benzonitrile adsorption to the Si(001) surface.  The results were written up and have been accepted for publication in Physical Chemistry Chemical Physics in Sept. 2016. The publication date is not yet known.',\n",
       "    'descriptionType': 'Other'}],\n",
       "  'publicationYear': '2016',\n",
       "  'publisher': 'MDF (placeholder)',\n",
       "  'relatedIdentifiers': [{'relatedIdentifier': 'http://pubs.rsc.org/en/content/articlepdf/2016/CP/C6CP04328C',\n",
       "    'relatedIdentifierType': 'DOI',\n",
       "    'relationType': 'IsPartOf'}],\n",
       "  'resourceType': {'resourceType': 'JSON', 'resourceTypeGeneral': 'Dataset'},\n",
       "  'rightsList': [{'rights': 'https://creativecommons.org/licenses/by/4.0/',\n",
       "    'rightsURI': 'https://creativecommons.org/licenses/by/4.0/'}],\n",
       "  'subjects': [{'subject': 'benzonitrile'},\n",
       "   {'subject': 'Si(001)'},\n",
       "   {'subject': 'adsorption'},\n",
       "   {'subject': 'XPS'},\n",
       "   {'subject': 'NEXAFS'}],\n",
       "  'titles': [{'title': 'Benzonitrile on Si(001). XPS, NEXAFS, and STM data. Accepted for publication in PCCP Sept. 2016'}]},\n",
       " 'mdf': {'ingest_date': '2018-03-27T13:37:18.690487Z',\n",
       "  'mdf_id': '5aba490e34a226348355ce11',\n",
       "  'resource_type': 'dataset',\n",
       "  'scroll_id': 0,\n",
       "  'source_name': 'benzonitrile_si_v1',\n",
       "  'version': 1}}"
      ]
     },
     "execution_count": 15,
     "metadata": {},
     "output_type": "execute_result"
    }
   ],
   "source": [
    "res = mdf.fetch_datasets_from_results(records)\n",
    "res[0]"
   ]
  },
  {
   "cell_type": "markdown",
   "metadata": {},
   "source": [
    "If you don't want to keep the results at all, you can also use `fetch_datasets_from_results()` to execute a search and use those results instead of passing it your own results."
   ]
  },
  {
   "cell_type": "code",
   "execution_count": 16,
   "metadata": {
    "scrolled": true
   },
   "outputs": [
    {
     "data": {
      "text/plain": [
       "{'dc': {'contributors': [{'affiliations': ['University of Illinois Urbana-Champaign'],\n",
       "    'contributorName': 'Schleife, Andre',\n",
       "    'contributorType': 'ContactPerson',\n",
       "    'familyName': 'Schleife',\n",
       "    'givenName': 'Andre'}],\n",
       "  'creators': [{'affiliations': ['University of Illinois Urbana-Champaign'],\n",
       "    'creatorName': 'Schleife, Andre',\n",
       "    'familyName': 'Schleife',\n",
       "    'givenName': 'Andre'}],\n",
       "  'dates': [{'date': '2017-10-10T15:04:02.121824Z', 'dateType': 'Collected'}],\n",
       "  'publicationYear': '2015',\n",
       "  'publisher': 'MDF (placeholder)',\n",
       "  'resourceType': {'resourceType': 'JSON', 'resourceTypeGeneral': 'Dataset'},\n",
       "  'subjects': [{'subject': 'data_link'}],\n",
       "  'titles': [{'title': 'Schleife 256 Al'}]},\n",
       " 'mdf': {'ingest_date': '2018-03-28T16:53:29.457529Z',\n",
       "  'mdf_id': '5abbc88934a2263dfa3e3555',\n",
       "  'resource_type': 'dataset',\n",
       "  'scroll_id': 0,\n",
       "  'source_name': 'schleife_256_al_v1',\n",
       "  'version': 1}}"
      ]
     },
     "execution_count": 16,
     "metadata": {},
     "output_type": "execute_result"
    }
   ],
   "source": [
    "res = mdf.match_field(\"material.elements\", \"Al\").fetch_datasets_from_results()\n",
    "res[0]"
   ]
  },
  {
   "cell_type": "markdown",
   "metadata": {},
   "source": [
    "## Aggregations"
   ]
  },
  {
   "cell_type": "markdown",
   "metadata": {},
   "source": [
    "### aggregate\n",
    "Queries submitted with `search()` are limited to returning 10,000 results. If this limit is too low, you can use `aggregate()` to retrieve _all_ results from a query, no matter how many. Please be careful with this function, as you can easily accidentally retrieve a very large number of results without meaning to. Consider using `search(your_query, limit=0, info=True)` (see above) first to discover how many results you will get beforehand."
   ]
  },
  {
   "cell_type": "markdown",
   "metadata": {},
   "source": [
    "For this example, we will see how many results the query will retrieve before aggregating."
   ]
  },
  {
   "cell_type": "code",
   "execution_count": 17,
   "metadata": {},
   "outputs": [
    {
     "name": "stdout",
     "output_type": "stream",
     "text": [
      "Number of results: 23290\n"
     ]
    }
   ],
   "source": [
    "mdf.match_field(\"mdf.source_name\", \"oqmd*\").match_field(\"material.elements\", \"Pb\").exclude_field(\"material.elements\", \"Al\")\n",
    "res, info = mdf.search(limit=0, info=True, reset_query=False)\n",
    "print(\"Number of results:\", info[\"total_query_matches\"])"
   ]
  },
  {
   "cell_type": "markdown",
   "metadata": {},
   "source": [
    "Assuming we want all of these results, we can use `aggregate()` on the same query."
   ]
  },
  {
   "cell_type": "code",
   "execution_count": 18,
   "metadata": {},
   "outputs": [
    {
     "name": "stderr",
     "output_type": "stream",
     "text": [
      "100%|██████████| 23290/23290 [00:59<00:00, 382.96it/s]"
     ]
    },
    {
     "name": "stdout",
     "output_type": "stream",
     "text": [
      "Number of results: 23290\n"
     ]
    },
    {
     "name": "stderr",
     "output_type": "stream",
     "text": [
      "\n"
     ]
    }
   ],
   "source": [
    "res = mdf.aggregate()\n",
    "print(\"Number of results:\", len(res))"
   ]
  },
  {
   "cell_type": "code",
   "execution_count": null,
   "metadata": {},
   "outputs": [],
   "source": []
  }
 ],
 "metadata": {
  "kernelspec": {
   "display_name": "Python 3",
   "language": "python",
   "name": "python3"
  },
  "language_info": {
   "codemirror_mode": {
    "name": "ipython",
    "version": 3
   },
   "file_extension": ".py",
   "mimetype": "text/x-python",
   "name": "python",
   "nbconvert_exporter": "python",
   "pygments_lexer": "ipython3",
   "version": "3.6.4"
  }
 },
 "nbformat": 4,
 "nbformat_minor": 2
}
