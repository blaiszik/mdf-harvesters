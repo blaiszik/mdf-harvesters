{
 "cells": [
  {
   "cell_type": "code",
   "execution_count": 1,
   "metadata": {},
   "outputs": [],
   "source": [
    "from mdf_forge.forge import Forge"
   ]
  },
  {
   "cell_type": "code",
   "execution_count": 2,
   "metadata": {},
   "outputs": [],
   "source": [
    "mdf = Forge()"
   ]
  },
  {
   "cell_type": "markdown",
   "metadata": {},
   "source": [
    "# Field-Specific Query Builders"
   ]
  },
  {
   "cell_type": "markdown",
   "metadata": {},
   "source": [
    "### match_source_names\n",
    "`match_source_names()` matches values against the `\"mdf.source_name\"` field. It is equivalent to chaining `match_field(\"mdf.source_name\", value)` for each value."
   ]
  },
  {
   "cell_type": "code",
   "execution_count": 3,
   "metadata": {},
   "outputs": [
    {
     "data": {
      "text/plain": [
       "<mdf_forge.forge.Forge at 0x7f61100c3eb8>"
      ]
     },
     "execution_count": 3,
     "metadata": {},
     "output_type": "execute_result"
    }
   ],
   "source": [
    "mdf.match_source_names(\"oqmd\")"
   ]
  },
  {
   "cell_type": "markdown",
   "metadata": {},
   "source": [
    "### match_elements\n",
    "`match_elements()` matches values against the `\"mdf.elements\"` field. It is equivalent to chaining `match_field(\"mdf.elements\", value)` for each value."
   ]
  },
  {
   "cell_type": "code",
   "execution_count": 4,
   "metadata": {},
   "outputs": [
    {
     "data": {
      "text/plain": [
       "<mdf_forge.forge.Forge at 0x7f61100c3eb8>"
      ]
     },
     "execution_count": 4,
     "metadata": {},
     "output_type": "execute_result"
    }
   ],
   "source": [
    "mdf.match_elements([\"Al\", \"Cu\"])"
   ]
  },
  {
   "cell_type": "markdown",
   "metadata": {},
   "source": [
    "### match_resource_types\n",
    "`match_resource_types()` matches values against the `\"mdf.resource_types\"` field. It is equivalent to chaining `match_field(\"mdf.resource_types\", value)` for each value."
   ]
  },
  {
   "cell_type": "code",
   "execution_count": 5,
   "metadata": {},
   "outputs": [
    {
     "data": {
      "text/plain": [
       "<mdf_forge.forge.Forge at 0x7f61100c3eb8>"
      ]
     },
     "execution_count": 5,
     "metadata": {},
     "output_type": "execute_result"
    }
   ],
   "source": [
    "mdf.match_resource_types(\"record\")"
   ]
  },
  {
   "cell_type": "code",
   "execution_count": 6,
   "metadata": {
    "scrolled": true
   },
   "outputs": [
    {
     "data": {
      "text/plain": [
       "{'crystal_structure': {'cross_reference': {'icsd': 42517},\n",
       "  'number_of_atoms': 6,\n",
       "  'space_group_number': 140,\n",
       "  'volume': 88.5788},\n",
       " 'dft': {'converged': True,\n",
       "  'cutoff_energy': 520.0,\n",
       "  'exchange_correlation_functional': 'PBE'},\n",
       " 'files': [{'data_type': 'ASCII text, with very long lines, with no line terminators',\n",
       "   'filename': '5724.json',\n",
       "   'globus': 'globus://e38ee745-6d04-11e5-ba46-22000b92c6ec/MDF/mdf_connect/prod/data/oqmd_v3/metadata-files/5724.json',\n",
       "   'length': 11547,\n",
       "   'mime_type': 'text/plain',\n",
       "   'sha512': 'f3e8743e64697ab5c6021b815ca4f780940f7ea4b50e2e31278216c3bd8bec16677d436f3b0e46e1e1cf9ea4a415899ed65dba1b4d4c7420d6d2ff4eca125990',\n",
       "   'url': 'https://e38ee745-6d04-11e5-ba46-22000b92c6ec.e.globus.org/MDF/mdf_connect/prod/data/oqmd_v3/metadata-files/5724.json'}],\n",
       " 'material': {'composition': 'Al2Cu1', 'elements': ['Cu', 'Al']},\n",
       " 'mdf': {'ingest_date': '2018-04-11T18:00:55.808133Z',\n",
       "  'mdf_id': '5ace4f2334a2265849f63ff7',\n",
       "  'parent_id': '5ace4d5734a2265849f44fba',\n",
       "  'resource_type': 'record',\n",
       "  'scroll_id': 127037,\n",
       "  'source_name': 'oqmd_v3'},\n",
       " 'oqmd_v3': {'band_gap': {'units': 'eV', 'value': 0.0},\n",
       "  'configuration': 'static',\n",
       "  'delta_e': {'units': 'eV/atom', 'value': -0.155698471666667},\n",
       "  'magnetic_moment': {'units': 'bohr/atom'},\n",
       "  'stability': {'units': 'eV/atom', 'value': 0.019296661666666},\n",
       "  'total_energy': {'units': 'eV/atom', 'value': -3.891511245},\n",
       "  'volume_pa': {'units': 'angstrom^3/atom', 'value': 14.7631}}}"
      ]
     },
     "execution_count": 6,
     "metadata": {},
     "output_type": "execute_result"
    }
   ],
   "source": [
    "res = mdf.search(limit=10)\n",
    "res[0]"
   ]
  },
  {
   "cell_type": "markdown",
   "metadata": {},
   "source": [
    "### match_ids\n",
    "`match_ids()` matches values against the `\"mdf.mdf_id\"` field. It is equivalent to chaining `match_field(\"mdf.mdf_id\", value)` for each value."
   ]
  },
  {
   "cell_type": "code",
   "execution_count": 7,
   "metadata": {},
   "outputs": [
    {
     "data": {
      "text/plain": [
       "<mdf_forge.forge.Forge at 0x7f61100c3eb8>"
      ]
     },
     "execution_count": 7,
     "metadata": {},
     "output_type": "execute_result"
    }
   ],
   "source": [
    "an_id = res[1][\"mdf\"][\"mdf_id\"]\n",
    "mdf.match_ids(an_id)"
   ]
  },
  {
   "cell_type": "code",
   "execution_count": 8,
   "metadata": {
    "scrolled": true
   },
   "outputs": [
    {
     "data": {
      "text/plain": [
       "[{'crystal_structure': {'cross_reference': {'icsd': 40332},\n",
       "   'number_of_atoms': 10,\n",
       "   'space_group_number': 12,\n",
       "   'volume': 134.855},\n",
       "  'dft': {'converged': True,\n",
       "   'cutoff_energy': 520.0,\n",
       "   'exchange_correlation_functional': 'PBE'},\n",
       "  'files': [{'data_type': 'ASCII text, with very long lines, with no line terminators',\n",
       "    'filename': '16290.json',\n",
       "    'globus': 'globus://e38ee745-6d04-11e5-ba46-22000b92c6ec/MDF/mdf_connect/prod/data/oqmd_v3/metadata-files/16290.json',\n",
       "    'length': 11470,\n",
       "    'mime_type': 'text/plain',\n",
       "    'sha512': '953f706130e358a03be6bfcecdbeca503cfc6f5592756a06294cc691e42282e1c5cbb1553ce55f6ac5ce4ec758d00f51dac3bb8389e71d1a551379785dd3fc6c',\n",
       "    'url': 'https://e38ee745-6d04-11e5-ba46-22000b92c6ec.e.globus.org/MDF/mdf_connect/prod/data/oqmd_v3/metadata-files/16290.json'}],\n",
       "  'material': {'composition': 'Al1Cu1', 'elements': ['Cu', 'Al']},\n",
       "  'mdf': {'ingest_date': '2018-04-11T18:00:55.808133Z',\n",
       "   'mdf_id': '5ace50a534a2265849f7dc53',\n",
       "   'parent_id': '5ace4d5734a2265849f44fba',\n",
       "   'resource_type': 'record',\n",
       "   'scroll_id': 232601,\n",
       "   'source_name': 'oqmd_v3'},\n",
       "  'oqmd_v3': {'band_gap': {'units': 'eV', 'value': 0.0},\n",
       "   'magnetic_moment': {'units': 'bohr/atom'},\n",
       "   'total_energy': {'units': 'eV/atom', 'value': -3.933290274},\n",
       "   'volume_pa': {'units': 'angstrom^3/atom', 'value': 13.4855}}}]"
      ]
     },
     "execution_count": 8,
     "metadata": {},
     "output_type": "execute_result"
    }
   ],
   "source": [
    "mdf.search()"
   ]
  },
  {
   "cell_type": "markdown",
   "metadata": {},
   "source": [
    "### match_titles\n",
    "`match_titles()` matches values against the `\"dc.titles.title\"` field. It is equivalent to chaining `match_field(\"dc.titles.title\", value)` for each value.\n",
    "\n",
    "Remember, values with special characters (like spaces) need to be wrapped in double quotes."
   ]
  },
  {
   "cell_type": "code",
   "execution_count": 9,
   "metadata": {
    "scrolled": true
   },
   "outputs": [
    {
     "data": {
      "text/plain": [
       "<mdf_forge.forge.Forge at 0x7f61100c3eb8>"
      ]
     },
     "execution_count": 9,
     "metadata": {},
     "output_type": "execute_result"
    }
   ],
   "source": [
    "mdf.match_titles('\"The Open Quantum Materials Database\"')"
   ]
  },
  {
   "cell_type": "code",
   "execution_count": 10,
   "metadata": {
    "scrolled": true
   },
   "outputs": [
    {
     "data": {
      "text/plain": [
       "[{'dc': {'contributors': [{'affiliations': ['Northwestern University'],\n",
       "     'contributorName': 'Wolverton, Chris',\n",
       "     'contributorType': 'ContactPerson',\n",
       "     'familyName': 'Wolverton',\n",
       "     'givenName': 'Chris'}],\n",
       "   'creators': [{'affiliations': ['Northwestern University'],\n",
       "     'creatorName': 'Wolverton, Chris',\n",
       "     'familyName': 'Wolverton',\n",
       "     'givenName': 'Chris'},\n",
       "    {'affiliations': ['Northwestern University'],\n",
       "     'creatorName': 'Kirklin, Scott',\n",
       "     'familyName': 'Kirklin',\n",
       "     'givenName': 'Scott'},\n",
       "    {'affiliations': ['Northwestern University'],\n",
       "     'creatorName': 'Hegde, Vinay',\n",
       "     'familyName': 'Hegde',\n",
       "     'givenName': 'Vinay'},\n",
       "    {'affiliations': ['Northwestern University'],\n",
       "     'creatorName': 'Ward, Logan',\n",
       "     'familyName': 'Ward',\n",
       "     'givenName': 'Logan'}],\n",
       "   'dates': [{'date': '2017-08-04T14:18:51.560728Z', 'dateType': 'Collected'}],\n",
       "   'descriptions': [{'description': 'The OQMD is a database of DFT-calculated thermodynamic and structural properties.',\n",
       "     'descriptionType': 'Other'}],\n",
       "   'publicationYear': '2013',\n",
       "   'publisher': 'MDF (placeholder)',\n",
       "   'relatedIdentifiers': [{'relatedIdentifier': 'http://dx.doi.org/10.1007/s11837-013-0755-4',\n",
       "     'relatedIdentifierType': 'DOI',\n",
       "     'relationType': 'IsPartOf'},\n",
       "    {'relatedIdentifier': 'http://dx.doi.org/10.1038/npjcompumats.2015.10',\n",
       "     'relatedIdentifierType': 'DOI',\n",
       "     'relationType': 'IsPartOf'}],\n",
       "   'resourceType': {'resourceType': 'JSON', 'resourceTypeGeneral': 'Dataset'},\n",
       "   'subjects': [{'subject': 'dft'}],\n",
       "   'titles': [{'title': 'The Open Quantum Materials Database'}]},\n",
       "  'mdf': {'ingest_date': '2018-04-11T18:00:55.808133Z',\n",
       "   'mdf_id': '5ace4d5734a2265849f44fba',\n",
       "   'resource_type': 'dataset',\n",
       "   'scroll_id': 0,\n",
       "   'source_name': 'oqmd_v3',\n",
       "   'version': 8}}]"
      ]
     },
     "execution_count": 10,
     "metadata": {},
     "output_type": "execute_result"
    }
   ],
   "source": [
    "mdf.search()"
   ]
  },
  {
   "cell_type": "markdown",
   "metadata": {},
   "source": [
    "### match_years\n",
    "`match_years()` matches values against the `\"dc.publicationYear\"` field."
   ]
  },
  {
   "cell_type": "code",
   "execution_count": 11,
   "metadata": {},
   "outputs": [
    {
     "data": {
      "text/plain": [
       "<mdf_forge.forge.Forge at 0x7f61100c3eb8>"
      ]
     },
     "execution_count": 11,
     "metadata": {},
     "output_type": "execute_result"
    }
   ],
   "source": [
    "mdf.match_years([\"2015\", 2010])"
   ]
  },
  {
   "cell_type": "code",
   "execution_count": 12,
   "metadata": {
    "scrolled": true
   },
   "outputs": [
    {
     "data": {
      "text/plain": [
       "{'dc': {'contributors': [{'affiliations': ['Imperial College London'],\n",
       "    'contributorName': 'Corsini, Niccolo',\n",
       "    'contributorType': 'ContactPerson',\n",
       "    'familyName': 'Corsini',\n",
       "    'givenName': 'Niccolo'}],\n",
       "  'creators': [{'affiliations': ['Imperial College London'],\n",
       "    'creatorName': 'Corsini, Niccolo',\n",
       "    'familyName': 'Corsini',\n",
       "    'givenName': 'Niccolo'}],\n",
       "  'dates': [{'date': '2017-08-09T19:44:38.397091Z', 'dateType': 'Collected'}],\n",
       "  'descriptions': [{'description': 'Over the last two decades, it has been demonstrated that size effects have significant consequences for the atomic arrangements and phase behavior of matter under extreme pressure. Furthermore, it has been shown that an understanding of how size affects critical pressure–temperature conditions provides vital guidance in the search for materials with novel properties. Here, we report on the remarkable behavior of small (under ∼5 nm) matrix-free Ge nanoparticles under hydrostatic compression that is drastically different from both larger nanoparticles and bulk Ge. We discover that the application of pressure drives surface-induced amorphization leading to Ge–Ge bond overcompression and eventually to a polyamorphic semiconductor-to-metal transformation.',\n",
       "    'descriptionType': 'Other'}],\n",
       "  'publicationYear': '2015',\n",
       "  'publisher': 'MDF (placeholder)',\n",
       "  'relatedIdentifiers': [{'relatedIdentifier': 'http://pubs.acs.org/doi/abs/10.1021/acs.nanolett.5b02627',\n",
       "    'relatedIdentifierType': 'DOI',\n",
       "    'relationType': 'IsPartOf'}],\n",
       "  'resourceType': {'resourceType': 'JSON', 'resourceTypeGeneral': 'Dataset'},\n",
       "  'rightsList': [{'rights': 'https://creativecommons.org/publicdomain/zero/1.0/',\n",
       "    'rightsURI': 'https://creativecommons.org/publicdomain/zero/1.0/'}],\n",
       "  'subjects': [{'subject': 'amorphization'},\n",
       "   {'subject': 'density functional theory calculations'},\n",
       "   {'subject': 'Ge nanoparticles'},\n",
       "   {'subject': 'high pressure'},\n",
       "   {'subject': 'phase transformation'},\n",
       "   {'subject': 'Raman'},\n",
       "   {'subject': 'X-ray absorption'},\n",
       "   {'subject': 'zip'}],\n",
       "  'titles': [{'title': 'Pressure-induced amorphisation and a new high density amorphous metallic phase in matrix-free Ge nanoparticles: simulation data'}]},\n",
       " 'mdf': {'ingest_date': '2018-03-27T20:11:39.629371Z',\n",
       "  'mdf_id': '5abaa57b34a2263dfa3d08ae',\n",
       "  'resource_type': 'dataset',\n",
       "  'scroll_id': 0,\n",
       "  'source_name': 'ge_nanoparticles_v1',\n",
       "  'version': 1}}"
      ]
     },
     "execution_count": 12,
     "metadata": {},
     "output_type": "execute_result"
    }
   ],
   "source": [
    "res = mdf.search(limit=10)\n",
    "res[0]"
   ]
  },
  {
   "cell_type": "markdown",
   "metadata": {},
   "source": [
    "You can also specify a range of years."
   ]
  },
  {
   "cell_type": "code",
   "execution_count": 13,
   "metadata": {},
   "outputs": [
    {
     "data": {
      "text/plain": [
       "<mdf_forge.forge.Forge at 0x7f61100c3eb8>"
      ]
     },
     "execution_count": 13,
     "metadata": {},
     "output_type": "execute_result"
    }
   ],
   "source": [
    "mdf.match_years(start=2014, stop=2016, inclusive=True)"
   ]
  },
  {
   "cell_type": "code",
   "execution_count": 14,
   "metadata": {
    "scrolled": true
   },
   "outputs": [
    {
     "data": {
      "text/plain": [
       "{'dc': {'contributors': [{'affiliations': ['Imperial College London'],\n",
       "    'contributorName': 'Corsini, Niccolo',\n",
       "    'contributorType': 'ContactPerson',\n",
       "    'familyName': 'Corsini',\n",
       "    'givenName': 'Niccolo'}],\n",
       "  'creators': [{'affiliations': ['Imperial College London'],\n",
       "    'creatorName': 'Corsini, Niccolo',\n",
       "    'familyName': 'Corsini',\n",
       "    'givenName': 'Niccolo'}],\n",
       "  'dates': [{'date': '2017-08-09T19:44:38.397091Z', 'dateType': 'Collected'}],\n",
       "  'descriptions': [{'description': 'Over the last two decades, it has been demonstrated that size effects have significant consequences for the atomic arrangements and phase behavior of matter under extreme pressure. Furthermore, it has been shown that an understanding of how size affects critical pressure–temperature conditions provides vital guidance in the search for materials with novel properties. Here, we report on the remarkable behavior of small (under ∼5 nm) matrix-free Ge nanoparticles under hydrostatic compression that is drastically different from both larger nanoparticles and bulk Ge. We discover that the application of pressure drives surface-induced amorphization leading to Ge–Ge bond overcompression and eventually to a polyamorphic semiconductor-to-metal transformation.',\n",
       "    'descriptionType': 'Other'}],\n",
       "  'publicationYear': '2015',\n",
       "  'publisher': 'MDF (placeholder)',\n",
       "  'relatedIdentifiers': [{'relatedIdentifier': 'http://pubs.acs.org/doi/abs/10.1021/acs.nanolett.5b02627',\n",
       "    'relatedIdentifierType': 'DOI',\n",
       "    'relationType': 'IsPartOf'}],\n",
       "  'resourceType': {'resourceType': 'JSON', 'resourceTypeGeneral': 'Dataset'},\n",
       "  'rightsList': [{'rights': 'https://creativecommons.org/publicdomain/zero/1.0/',\n",
       "    'rightsURI': 'https://creativecommons.org/publicdomain/zero/1.0/'}],\n",
       "  'subjects': [{'subject': 'amorphization'},\n",
       "   {'subject': 'density functional theory calculations'},\n",
       "   {'subject': 'Ge nanoparticles'},\n",
       "   {'subject': 'high pressure'},\n",
       "   {'subject': 'phase transformation'},\n",
       "   {'subject': 'Raman'},\n",
       "   {'subject': 'X-ray absorption'},\n",
       "   {'subject': 'zip'}],\n",
       "  'titles': [{'title': 'Pressure-induced amorphisation and a new high density amorphous metallic phase in matrix-free Ge nanoparticles: simulation data'}]},\n",
       " 'mdf': {'ingest_date': '2018-03-27T20:11:39.629371Z',\n",
       "  'mdf_id': '5abaa57b34a2263dfa3d08ae',\n",
       "  'resource_type': 'dataset',\n",
       "  'scroll_id': 0,\n",
       "  'source_name': 'ge_nanoparticles_v1',\n",
       "  'version': 1}}"
      ]
     },
     "execution_count": 14,
     "metadata": {},
     "output_type": "execute_result"
    }
   ],
   "source": [
    "res = mdf.search(limit=10)\n",
    "res[0]"
   ]
  },
  {
   "cell_type": "markdown",
   "metadata": {},
   "source": [
    "# Premade Searches"
   ]
  },
  {
   "cell_type": "markdown",
   "metadata": {},
   "source": [
    "### search_by_elements\n",
    "`search_by_elements()` executes a search for the provided elements in the provided sources and returns the results. Note that calling `search()` is not required, as this helper function already performs the search."
   ]
  },
  {
   "cell_type": "code",
   "execution_count": 15,
   "metadata": {
    "scrolled": true
   },
   "outputs": [
    {
     "data": {
      "text/plain": [
       "{'crystal_structure': {'cross_reference': {'icsd': 42517},\n",
       "  'number_of_atoms': 6,\n",
       "  'space_group_number': 140,\n",
       "  'volume': 88.5788},\n",
       " 'dft': {'converged': True,\n",
       "  'cutoff_energy': 520.0,\n",
       "  'exchange_correlation_functional': 'PBE'},\n",
       " 'files': [{'data_type': 'ASCII text, with very long lines, with no line terminators',\n",
       "   'filename': '5724.json',\n",
       "   'globus': 'globus://e38ee745-6d04-11e5-ba46-22000b92c6ec/MDF/mdf_connect/prod/data/oqmd_v3/metadata-files/5724.json',\n",
       "   'length': 11547,\n",
       "   'mime_type': 'text/plain',\n",
       "   'sha512': 'f3e8743e64697ab5c6021b815ca4f780940f7ea4b50e2e31278216c3bd8bec16677d436f3b0e46e1e1cf9ea4a415899ed65dba1b4d4c7420d6d2ff4eca125990',\n",
       "   'url': 'https://e38ee745-6d04-11e5-ba46-22000b92c6ec.e.globus.org/MDF/mdf_connect/prod/data/oqmd_v3/metadata-files/5724.json'}],\n",
       " 'material': {'composition': 'Al2Cu1', 'elements': ['Cu', 'Al']},\n",
       " 'mdf': {'ingest_date': '2018-04-11T18:00:55.808133Z',\n",
       "  'mdf_id': '5ace4f2334a2265849f63ff7',\n",
       "  'parent_id': '5ace4d5734a2265849f44fba',\n",
       "  'resource_type': 'record',\n",
       "  'scroll_id': 127037,\n",
       "  'source_name': 'oqmd_v3'},\n",
       " 'oqmd_v3': {'band_gap': {'units': 'eV', 'value': 0.0},\n",
       "  'configuration': 'static',\n",
       "  'delta_e': {'units': 'eV/atom', 'value': -0.155698471666667},\n",
       "  'magnetic_moment': {'units': 'bohr/atom'},\n",
       "  'stability': {'units': 'eV/atom', 'value': 0.019296661666666},\n",
       "  'total_energy': {'units': 'eV/atom', 'value': -3.891511245},\n",
       "  'volume_pa': {'units': 'angstrom^3/atom', 'value': 14.7631}}}"
      ]
     },
     "execution_count": 15,
     "metadata": {},
     "output_type": "execute_result"
    }
   ],
   "source": [
    "res = mdf.search_by_elements([\"Al\", \"Cu\"], source_names=[\"oqmd\"])\n",
    "res[0]"
   ]
  },
  {
   "cell_type": "markdown",
   "metadata": {},
   "source": [
    "### search_by_titles\n",
    "`search_by_titles()` executes a search for the provided elements in the provided sources and returns the results."
   ]
  },
  {
   "cell_type": "code",
   "execution_count": 16,
   "metadata": {
    "scrolled": true
   },
   "outputs": [
    {
     "data": {
      "text/plain": [
       "{'dc': {'contributors': [{'affiliations': ['University of Wisconsin-Madison'],\n",
       "    'contributorName': 'Morgan, Dane',\n",
       "    'contributorType': 'ContactPerson',\n",
       "    'familyName': 'Morgan',\n",
       "    'givenName': 'Dane'}],\n",
       "  'creators': [{'affiliations': ['University of Wisconsin-Madison'],\n",
       "    'creatorName': 'Morgan, Dane',\n",
       "    'familyName': 'Morgan',\n",
       "    'givenName': 'Dane'},\n",
       "   {'affiliations': ['University of Wisconsin-Madison'],\n",
       "    'creatorName': 'Mayeshiba, Tam',\n",
       "    'familyName': 'Mayeshiba',\n",
       "    'givenName': 'Tam'},\n",
       "   {'affiliations': ['University of Wisconsin-Madison'],\n",
       "    'creatorName': 'Henry, Wu',\n",
       "    'familyName': 'Henry',\n",
       "    'givenName': 'Wu'}],\n",
       "  'dates': [{'date': '2017-08-07T16:07:32.938812Z', 'dateType': 'Collected'}],\n",
       "  'descriptions': [{'description': 'We demonstrate automated generation of diffusion databases from high-throughput density functional theory (DFT) calculations. A total of more than 230 dilute solute diffusion systems in Mg, Al, Cu, Ni, Pd, and Pt host lattices have been determined using multi-frequency diffusion models. We apply a correction method for solute diffusion in alloys using experimental and simulated values of host self-diffusivity.',\n",
       "    'descriptionType': 'Other'}],\n",
       "  'publicationYear': '2016',\n",
       "  'publisher': 'MDF (placeholder)',\n",
       "  'relatedIdentifiers': [{'relatedIdentifier': 'http://dx.doi.org/10.1038/sdata.2016.54',\n",
       "    'relatedIdentifierType': 'DOI',\n",
       "    'relationType': 'IsPartOf'}],\n",
       "  'resourceType': {'resourceType': 'JSON', 'resourceTypeGeneral': 'Dataset'},\n",
       "  'subjects': [{'subject': 'dilute'},\n",
       "   {'subject': 'solute'},\n",
       "   {'subject': 'DFT'},\n",
       "   {'subject': 'diffusion'},\n",
       "   {'subject': 'dataset'}],\n",
       "  'titles': [{'title': 'High-throughput Ab-initio Dilute Solute Diffusion Database'}]},\n",
       " 'mdf': {'ingest_date': '2018-03-30T00:32:34.081287Z',\n",
       "  'mdf_id': '5abd85a234a22620d109ae2b',\n",
       "  'resource_type': 'dataset',\n",
       "  'scroll_id': 0,\n",
       "  'source_name': 'ab_initio_solute_database_v3',\n",
       "  'version': 3}}"
      ]
     },
     "execution_count": 16,
     "metadata": {},
     "output_type": "execute_result"
    }
   ],
   "source": [
    "res = mdf.search_by_titles(['\"High-throughput Ab-initio Dilute Solute Diffusion Database\"'])\n",
    "res[0]"
   ]
  },
  {
   "cell_type": "markdown",
   "metadata": {},
   "source": [
    "### aggregate_sources\n",
    "`aggregate_source_names()` fetches and returns all the records for a provided `\"mdf.source_name\"` value. Calling `search()` or `aggregate()` is not required, as this helper function does that for you. Please note that it is not possible to use the `limit` argument with this helper function, so you may get back a large number of results."
   ]
  },
  {
   "cell_type": "code",
   "execution_count": 17,
   "metadata": {
    "scrolled": true
   },
   "outputs": [
    {
     "data": {
      "text/plain": [
       "{'crystal_structure': {'number_of_atoms': 2,\n",
       "  'space_group_number': 227,\n",
       "  'volume': 42.060419436652815},\n",
       " 'files': [{'data_type': 'ASCII text',\n",
       "   'filename': 'ge.castep',\n",
       "   'globus': 'globus://e38ee745-6d04-11e5-ba46-22000b92c6ec/MDF/mdf_connect/prod/data/ge_nanoparticles_v1/CASTEP_DFPT/Bulk_diamond/ge.castep',\n",
       "   'length': 358076,\n",
       "   'mime_type': 'text/plain',\n",
       "   'sha512': 'cff4dfe39b1ebe9de2ad3bdf99be4eecfcd3308f8c365567e2c601d1db2f0972c9f9524c01128adca251a81498f69c3992c8105560cb23f72e3ccb818cbef16f',\n",
       "   'url': 'https://e38ee745-6d04-11e5-ba46-22000b92c6ec.e.globus.org/MDF/mdf_connect/prod/data/ge_nanoparticles_v1/CASTEP_DFPT/Bulk_diamond/ge.castep'}],\n",
       " 'material': {'composition': 'Ge2', 'elements': ['Ge']},\n",
       " 'mdf': {'ingest_date': '2018-03-27T20:11:39.629371Z',\n",
       "  'mdf_id': '5abaa57b34a2263dfa3d08b0',\n",
       "  'parent_id': '5abaa57b34a2263dfa3d08ae',\n",
       "  'resource_type': 'record',\n",
       "  'scroll_id': 2,\n",
       "  'source_name': 'ge_nanoparticles_v1'}}"
      ]
     },
     "execution_count": 17,
     "metadata": {},
     "output_type": "execute_result"
    }
   ],
   "source": [
    "res = mdf.aggregate_sources(\"ge_nanoparticles\")\n",
    "res[0]"
   ]
  },
  {
   "cell_type": "code",
   "execution_count": null,
   "metadata": {},
   "outputs": [],
   "source": []
  }
 ],
 "metadata": {
  "kernelspec": {
   "display_name": "Python 3",
   "language": "python",
   "name": "python3"
  },
  "language_info": {
   "codemirror_mode": {
    "name": "ipython",
    "version": 3
   },
   "file_extension": ".py",
   "mimetype": "text/x-python",
   "name": "python",
   "nbconvert_exporter": "python",
   "pygments_lexer": "ipython3",
   "version": "3.6.4"
  }
 },
 "nbformat": 4,
 "nbformat_minor": 2
}
